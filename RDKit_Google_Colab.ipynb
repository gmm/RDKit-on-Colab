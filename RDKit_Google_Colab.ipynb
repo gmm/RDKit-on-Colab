{
  "nbformat": 4,
  "nbformat_minor": 0,
  "metadata": {
    "colab": {
      "name": "RDKit_Google_Colab.ipynb",
      "provenance": [],
      "collapsed_sections": [],
      "include_colab_link": true
    },
    "kernelspec": {
      "name": "python3",
      "display_name": "Python 3"
    }
  },
  "cells": [
    {
      "cell_type": "markdown",
      "metadata": {
        "id": "view-in-github",
        "colab_type": "text"
      },
      "source": [
        "<a href=\"https://colab.research.google.com/github/gmm/RDKit-on-Colab/blob/main/RDKit_Google_Colab.ipynb\" target=\"_parent\"><img src=\"https://colab.research.google.com/assets/colab-badge.svg\" alt=\"Open In Colab\"/></a>"
      ]
    },
    {
      "cell_type": "markdown",
      "metadata": {
        "id": "M_jLJcOB86Dm"
      },
      "source": [
        "# How to Set Up Conda\n",
        "\n",
        "First we need conda before we can install RDKit.\n",
        "\n",
        "We use the solution discussed here:\n",
        "\n",
        "* https://inside-machinelearning.com/en/how-to-install-use-conda-on-google-colab/."
      ]
    },
    {
      "cell_type": "code",
      "metadata": {
        "colab": {
          "base_uri": "https://localhost:8080/"
        },
        "collapsed": true,
        "id": "tDmcqt_v2xDM",
        "outputId": "fea1c887-cf6f-44f1-b786-daa1ed1a32c3"
      },
      "source": [
        "!pip install -q condacolab\n",
        "import condacolab\n",
        "condacolab.install()"
      ],
      "execution_count": 1,
      "outputs": [
        {
          "output_type": "stream",
          "text": [
            "⏬ Downloading https://github.com/jaimergp/miniforge/releases/latest/download/Mambaforge-colab-Linux-x86_64.sh...\n",
            "📦 Installing...\n",
            "📌 Adjusting configuration...\n",
            "🩹 Patching environment...\n",
            "⏲ Done in 0:00:38\n",
            "🔁 Restarting kernel...\n"
          ],
          "name": "stdout"
        }
      ]
    },
    {
      "cell_type": "code",
      "metadata": {
        "colab": {
          "base_uri": "https://localhost:8080/"
        },
        "id": "ywwgQ0rm2-qM",
        "outputId": "706c6629-2a4a-4be2-af77-1227156c180a"
      },
      "source": [
        "!which conda"
      ],
      "execution_count": 1,
      "outputs": [
        {
          "output_type": "stream",
          "text": [
            "/usr/local/bin/conda\n"
          ],
          "name": "stdout"
        }
      ]
    },
    {
      "cell_type": "code",
      "metadata": {
        "colab": {
          "base_uri": "https://localhost:8080/"
        },
        "id": "p1vHut-g3GJe",
        "outputId": "a5285a49-847b-4fb7-d62a-f521ce908cc8"
      },
      "source": [
        "!conda --version"
      ],
      "execution_count": 2,
      "outputs": [
        {
          "output_type": "stream",
          "text": [
            "conda 4.9.2\n"
          ],
          "name": "stdout"
        }
      ]
    },
    {
      "cell_type": "markdown",
      "metadata": {
        "id": "Uusded0V9p5T"
      },
      "source": [
        "# Install RDKit\n",
        "\n",
        "We update conda first, then use the updated conda to install RDKit."
      ]
    },
    {
      "cell_type": "code",
      "metadata": {
        "id": "5-mgVwD58M62",
        "colab": {
          "base_uri": "https://localhost:8080/"
        },
        "outputId": "256d43eb-8f24-4303-d0cd-c704693672a2"
      },
      "source": [
        "# Install the latest version of RDKit using conda\n",
        "#\n",
        "#  -- Hint: don't create a separate environment, otherwise you have to activate\n",
        "#           it before Google's Jupyter starts\n",
        "\n",
        "! conda update -y -n base conda\n",
        "! conda install -y -c rdkit rdkit"
      ],
      "execution_count": 3,
      "outputs": [
        {
          "output_type": "stream",
          "text": [
            "Collecting package metadata (current_repodata.json): - \b\b\\ \b\b| \b\b/ \b\b- \b\b\\ \b\b| \b\b/ \b\b- \b\b\\ \b\b| \b\b/ \b\b- \b\b\\ \b\b| \b\b/ \b\b- \b\b\\ \b\b| \b\b/ \b\b- \b\b\\ \b\b| \b\b/ \b\b- \b\b\\ \b\b| \b\b/ \b\b- \b\b\\ \b\b| \b\b/ \b\b- \b\b\\ \b\b| \b\b/ \b\b- \b\b\\ \b\b| \b\b/ \b\b- \b\b\\ \b\b| \b\b/ \b\b- \b\b\\ \b\b| \b\b/ \b\b- \b\b\\ \b\b| \b\b/ \b\b- \b\b\\ \b\b| \b\b/ \b\b- \b\b\\ \b\b| \b\b/ \b\b- \b\b\\ \b\b| \b\b/ \b\b- \b\b\\ \b\b| \b\b/ \b\b- \b\b\\ \b\b| \b\b/ \b\b- \b\b\\ \b\b| \b\b/ \b\b- \b\bdone\n",
            "Solving environment: | \b\b/ \b\b- \b\b\\ \b\b| \b\b/ \b\b- \b\b\\ \b\b| \b\b/ \b\b- \b\b\\ \b\b| \b\b/ \b\b- \b\b\\ \b\b| \b\b/ \b\b- \b\b\\ \b\bdone\n",
            "\n",
            "## Package Plan ##\n",
            "\n",
            "  environment location: /usr/local\n",
            "\n",
            "  added / updated specs:\n",
            "    - conda\n",
            "\n",
            "\n",
            "The following packages will be downloaded:\n",
            "\n",
            "    package                    |            build\n",
            "    ---------------------------|-----------------\n",
            "    ca-certificates-2021.5.30  |       ha878542_0         136 KB  conda-forge\n",
            "    certifi-2021.5.30          |   py37h89c1867_0         141 KB  conda-forge\n",
            "    cffi-1.14.6                |   py37hc58025e_0         225 KB  conda-forge\n",
            "    charset-normalizer-2.0.0   |     pyhd8ed1ab_0          32 KB  conda-forge\n",
            "    conda-4.10.3               |   py37h89c1867_0         3.1 MB  conda-forge\n",
            "    conda-package-handling-1.7.3|   py37h5e8e339_0         921 KB  conda-forge\n",
            "    cryptography-3.4.7         |   py37h5d9358c_0         1.1 MB  conda-forge\n",
            "    idna-3.1                   |     pyhd3deb0d_0          52 KB  conda-forge\n",
            "    krb5-1.19.1                |       hcc1bbae_0         1.4 MB  conda-forge\n",
            "    ld_impl_linux-64-2.36.1    |       hea4e1c9_1         668 KB  conda-forge\n",
            "    libarchive-3.5.1           |       hccf745f_2         1.5 MB  conda-forge\n",
            "    libcurl-7.77.0             |       h2574ce0_0         334 KB  conda-forge\n",
            "    libgcc-ng-9.3.0            |      h2828fa1_19         7.8 MB  conda-forge\n",
            "    libgomp-9.3.0              |      h2828fa1_19         376 KB  conda-forge\n",
            "    libsolv-0.7.19             |       h780b84a_5         445 KB  conda-forge\n",
            "    libstdcxx-ng-9.3.0         |      h6de172a_19         4.0 MB  conda-forge\n",
            "    libxml2-2.9.12             |       h72842e0_0         772 KB  conda-forge\n",
            "    openssl-1.1.1k             |       h7f98852_0         2.1 MB  conda-forge\n",
            "    python_abi-3.7             |          2_cp37m           4 KB  conda-forge\n",
            "    readline-8.1               |       h46c0cb4_0         295 KB  conda-forge\n",
            "    requests-2.26.0            |     pyhd8ed1ab_0          52 KB  conda-forge\n",
            "    six-1.16.0                 |     pyh6c4a22f_0          14 KB  conda-forge\n",
            "    sqlite-3.36.0              |       h9cd32fc_0         1.4 MB  conda-forge\n",
            "    tqdm-4.61.2                |     pyhd8ed1ab_1          80 KB  conda-forge\n",
            "    urllib3-1.26.6             |     pyhd8ed1ab_0          99 KB  conda-forge\n",
            "    zstd-1.5.0                 |       ha95c52a_0         490 KB  conda-forge\n",
            "    ------------------------------------------------------------\n",
            "                                           Total:        27.5 MB\n",
            "\n",
            "The following NEW packages will be INSTALLED:\n",
            "\n",
            "  charset-normalizer conda-forge/noarch::charset-normalizer-2.0.0-pyhd8ed1ab_0\n",
            "\n",
            "The following packages will be UPDATED:\n",
            "\n",
            "  ca-certificates                      2020.12.5-ha878542_0 --> 2021.5.30-ha878542_0\n",
            "  certifi                          2020.12.5-py37h89c1867_1 --> 2021.5.30-py37h89c1867_0\n",
            "  cffi                                1.14.5-py37hc58025e_0 --> 1.14.6-py37hc58025e_0\n",
            "  conda                                4.9.2-py37h89c1867_0 --> 4.10.3-py37h89c1867_0\n",
            "  conda-package-han~                   1.7.2-py37hb5d75c8_0 --> 1.7.3-py37h5e8e339_0\n",
            "  cryptography                         3.4.5-py37h5d9358c_1 --> 3.4.7-py37h5d9358c_0\n",
            "  idna                                    2.10-pyh9f0ad1d_0 --> 3.1-pyhd3deb0d_0\n",
            "  krb5                                    1.17.2-h926e7f8_0 --> 1.19.1-hcc1bbae_0\n",
            "  ld_impl_linux-64                        2.35.1-hea4e1c9_2 --> 2.36.1-hea4e1c9_1\n",
            "  libarchive                               3.5.1-h3f442fb_1 --> 3.5.1-hccf745f_2\n",
            "  libcurl                                 7.75.0-hc4aaa36_0 --> 7.77.0-h2574ce0_0\n",
            "  libgcc-ng                               9.3.0-h2828fa1_18 --> 9.3.0-h2828fa1_19\n",
            "  libgomp                                 9.3.0-h2828fa1_18 --> 9.3.0-h2828fa1_19\n",
            "  libsolv                                 0.7.17-h780b84a_0 --> 0.7.19-h780b84a_5\n",
            "  libstdcxx-ng                            9.3.0-h6de172a_18 --> 9.3.0-h6de172a_19\n",
            "  libxml2                                 2.9.10-h72842e0_3 --> 2.9.12-h72842e0_0\n",
            "  openssl                                 1.1.1j-h7f98852_0 --> 1.1.1k-h7f98852_0\n",
            "  python_abi                                    3.7-1_cp37m --> 3.7-2_cp37m\n",
            "  readline                                   8.0-he28a2e2_2 --> 8.1-h46c0cb4_0\n",
            "  requests                              2.25.1-pyhd3deb0d_0 --> 2.26.0-pyhd8ed1ab_0\n",
            "  six                                   1.15.0-pyh9f0ad1d_0 --> 1.16.0-pyh6c4a22f_0\n",
            "  sqlite                                  3.34.0-h74cdb3f_0 --> 3.36.0-h9cd32fc_0\n",
            "  tqdm                                  4.59.0-pyhd8ed1ab_0 --> 4.61.2-pyhd8ed1ab_1\n",
            "  urllib3                               1.26.3-pyhd8ed1ab_0 --> 1.26.6-pyhd8ed1ab_0\n",
            "  zstd                                     1.4.9-ha95c52a_0 --> 1.5.0-ha95c52a_0\n",
            "\n",
            "\n",
            "\n",
            "Downloading and Extracting Packages\n",
            "readline-8.1         | 295 KB    | : 100% 1.0/1 [00:00<00:00,  4.59it/s]                 \n",
            "urllib3-1.26.6       | 99 KB     | : 100% 1.0/1 [00:00<00:00, 13.40it/s]\n",
            "libxml2-2.9.12       | 772 KB    | : 100% 1.0/1 [00:00<00:00,  5.26it/s]\n",
            "python_abi-3.7       | 4 KB      | : 100% 1.0/1 [00:00<00:00, 20.50it/s]\n",
            "cffi-1.14.6          | 225 KB    | : 100% 1.0/1 [00:00<00:00, 12.09it/s]\n",
            "krb5-1.19.1          | 1.4 MB    | : 100% 1.0/1 [00:00<00:00,  3.26it/s]\n",
            "conda-package-handli | 921 KB    | : 100% 1.0/1 [00:00<00:00,  5.16it/s]\n",
            "ld_impl_linux-64-2.3 | 668 KB    | : 100% 1.0/1 [00:00<00:00,  4.87it/s]\n",
            "cryptography-3.4.7   | 1.1 MB    | : 100% 1.0/1 [00:00<00:00,  3.31it/s]\n",
            "libgcc-ng-9.3.0      | 7.8 MB    | : 100% 1.0/1 [00:01<00:00,  1.32s/it]\n",
            "zstd-1.5.0           | 490 KB    | : 100% 1.0/1 [00:00<00:00,  6.16it/s]\n",
            "six-1.16.0           | 14 KB     | : 100% 1.0/1 [00:00<00:00, 23.94it/s]\n",
            "tqdm-4.61.2          | 80 KB     | : 100% 1.0/1 [00:00<00:00, 17.46it/s]\n",
            "libarchive-3.5.1     | 1.5 MB    | : 100% 1.0/1 [00:00<00:00,  2.95it/s]\n",
            "openssl-1.1.1k       | 2.1 MB    | : 100% 1.0/1 [00:00<00:00,  2.41it/s]\n",
            "ca-certificates-2021 | 136 KB    | : 100% 1.0/1 [00:00<00:00, 16.29it/s]\n",
            "certifi-2021.5.30    | 141 KB    | : 100% 1.0/1 [00:00<00:00, 15.22it/s]\n",
            "requests-2.26.0      | 52 KB     | : 100% 1.0/1 [00:00<00:00, 17.16it/s]\n",
            "libsolv-0.7.19       | 445 KB    | : 100% 1.0/1 [00:00<00:00,  7.53it/s]\n",
            "sqlite-3.36.0        | 1.4 MB    | : 100% 1.0/1 [00:00<00:00,  3.54it/s]\n",
            "conda-4.10.3         | 3.1 MB    | : 100% 1.0/1 [00:00<00:00,  1.35it/s]\n",
            "libgomp-9.3.0        | 376 KB    | : 100% 1.0/1 [00:00<00:00,  8.61it/s]\n",
            "libstdcxx-ng-9.3.0   | 4.0 MB    | : 100% 1.0/1 [00:00<00:00,  1.38it/s]\n",
            "idna-3.1             | 52 KB     | : 100% 1.0/1 [00:00<00:00, 18.34it/s]\n",
            "libcurl-7.77.0       | 334 KB    | : 100% 1.0/1 [00:00<00:00, 11.09it/s]\n",
            "charset-normalizer-2 | 32 KB     | : 100% 1.0/1 [00:00<00:00, 23.12it/s]\n",
            "Preparing transaction: / \b\b- \b\bdone\n",
            "Verifying transaction: | \b\b/ \b\b- \b\b\\ \b\bdone\n",
            "Executing transaction: / \b\b- \b\b\\ \b\b| \b\b/ \b\b- \b\b\\ \b\b| \b\b/ \b\bdone\n",
            "Collecting package metadata (current_repodata.json): - \b\b\\ \b\b| \b\b/ \b\b- \b\b\\ \b\b| \b\b/ \b\b- \b\b\\ \b\b| \b\b/ \b\b- \b\b\\ \b\b| \b\b/ \b\b- \b\b\\ \b\b| \b\bdone\n",
            "Solving environment: - \b\b\\ \b\b| \b\b/ \b\b- \b\b\\ \b\b| \b\b/ \b\b- \b\b\\ \b\b| \b\b/ \b\b- \b\b\\ \b\b| \b\b/ \b\b- \b\b\\ \b\b| \b\b/ \b\b- \b\b\\ \b\b| \b\b/ \b\b- \b\b\\ \b\b| \b\b/ \b\b- \b\b\\ \b\b| \b\b/ \b\bdone\n",
            "\n",
            "## Package Plan ##\n",
            "\n",
            "  environment location: /usr/local\n",
            "\n",
            "  added / updated specs:\n",
            "    - rdkit\n",
            "\n",
            "\n",
            "The following packages will be downloaded:\n",
            "\n",
            "    package                    |            build\n",
            "    ---------------------------|-----------------\n",
            "    boost-1.74.0               |   py37h6dcda5c_3         342 KB  conda-forge\n",
            "    boost-cpp-1.74.0           |       h312852a_4        16.3 MB  conda-forge\n",
            "    cairo-1.16.0               |    h6cf1ce9_1008         1.5 MB  conda-forge\n",
            "    cycler-0.10.0              |             py_2           9 KB  conda-forge\n",
            "    fontconfig-2.13.1          |    hba837de_1005         357 KB  conda-forge\n",
            "    freetype-2.10.4            |       h0708190_1         890 KB  conda-forge\n",
            "    gettext-0.19.8.1           |    h0b5b191_1005         3.6 MB  conda-forge\n",
            "    greenlet-1.1.0             |   py37hcd2ae1e_0          83 KB  conda-forge\n",
            "    importlib-metadata-4.6.1   |   py37h89c1867_0          31 KB  conda-forge\n",
            "    jbig-2.1                   |    h7f98852_2003          43 KB  conda-forge\n",
            "    jpeg-9d                    |       h36c2ea0_0         264 KB  conda-forge\n",
            "    kiwisolver-1.3.1           |   py37h2527ec5_1          78 KB  conda-forge\n",
            "    lcms2-2.12                 |       hddcbb42_0         443 KB  conda-forge\n",
            "    lerc-2.2.1                 |       h9c3ff4c_0         213 KB  conda-forge\n",
            "    libblas-3.9.0              |       9_openblas          11 KB  conda-forge\n",
            "    libcblas-3.9.0             |       9_openblas          11 KB  conda-forge\n",
            "    libdeflate-1.7             |       h7f98852_5          67 KB  conda-forge\n",
            "    libgfortran-ng-9.3.0       |      hff62375_19          22 KB  conda-forge\n",
            "    libgfortran5-9.3.0         |      hff62375_19         2.0 MB  conda-forge\n",
            "    libglib-2.68.3             |       h3e27bee_0         3.1 MB  conda-forge\n",
            "    liblapack-3.9.0            |       9_openblas          11 KB  conda-forge\n",
            "    libopenblas-0.3.15         |pthreads_h8fe5266_1         9.2 MB  conda-forge\n",
            "    libpng-1.6.37              |       h21135ba_2         306 KB  conda-forge\n",
            "    libtiff-4.3.0              |       hf544144_1         668 KB  conda-forge\n",
            "    libuuid-2.32.1             |    h7f98852_1000          28 KB  conda-forge\n",
            "    libwebp-base-1.2.0         |       h7f98852_2         815 KB  conda-forge\n",
            "    libxcb-1.13                |    h7f98852_1003         395 KB  conda-forge\n",
            "    matplotlib-base-3.4.2      |   py37hdd32ed1_0         7.2 MB  conda-forge\n",
            "    numpy-1.21.0               |   py37h038b26d_0         6.1 MB  conda-forge\n",
            "    olefile-0.46               |     pyh9f0ad1d_1          32 KB  conda-forge\n",
            "    openjpeg-2.4.0             |       hb52868f_1         444 KB  conda-forge\n",
            "    pandas-1.3.0               |   py37h219a48f_0        12.7 MB  conda-forge\n",
            "    pcre-8.45                  |       h9c3ff4c_0         253 KB  conda-forge\n",
            "    pillow-8.3.1               |   py37h0f21c89_0         692 KB  conda-forge\n",
            "    pixman-0.40.0              |       h36c2ea0_0         627 KB  conda-forge\n",
            "    pthread-stubs-0.4          |    h36c2ea0_1001           5 KB  conda-forge\n",
            "    pycairo-1.20.1             |   py37hfff247e_0          77 KB  conda-forge\n",
            "    pyparsing-2.4.7            |     pyh9f0ad1d_0          60 KB  conda-forge\n",
            "    python-dateutil-2.8.2      |     pyhd8ed1ab_0         240 KB  conda-forge\n",
            "    pytz-2021.1                |     pyhd8ed1ab_0         239 KB  conda-forge\n",
            "    rdkit-2021.03.4            |   py37haf5a968_0        38.2 MB  conda-forge\n",
            "    reportlab-3.5.68           |   py37h69800bb_0         2.4 MB  conda-forge\n",
            "    sqlalchemy-1.4.21          |   py37h5e8e339_0         2.3 MB  conda-forge\n",
            "    tornado-6.1                |   py37h5e8e339_1         646 KB  conda-forge\n",
            "    typing_extensions-3.10.0.0 |     pyha770c72_0          28 KB  conda-forge\n",
            "    xorg-kbproto-1.0.7         |    h7f98852_1002          27 KB  conda-forge\n",
            "    xorg-libice-1.0.10         |       h7f98852_0          58 KB  conda-forge\n",
            "    xorg-libsm-1.2.3           |    hd9c2040_1000          26 KB  conda-forge\n",
            "    xorg-libx11-1.7.2          |       h7f98852_0         941 KB  conda-forge\n",
            "    xorg-libxau-1.0.9          |       h7f98852_0          13 KB  conda-forge\n",
            "    xorg-libxdmcp-1.1.3        |       h7f98852_0          19 KB  conda-forge\n",
            "    xorg-libxext-1.3.4         |       h7f98852_1          54 KB  conda-forge\n",
            "    xorg-libxrender-0.9.10     |    h7f98852_1003          32 KB  conda-forge\n",
            "    xorg-renderproto-0.11.1    |    h7f98852_1002           9 KB  conda-forge\n",
            "    xorg-xextproto-7.3.0       |    h7f98852_1002          28 KB  conda-forge\n",
            "    xorg-xproto-7.0.31         |    h7f98852_1007          73 KB  conda-forge\n",
            "    zipp-3.5.0                 |     pyhd8ed1ab_0          12 KB  conda-forge\n",
            "    ------------------------------------------------------------\n",
            "                                           Total:       114.1 MB\n",
            "\n",
            "The following NEW packages will be INSTALLED:\n",
            "\n",
            "  boost              conda-forge/linux-64::boost-1.74.0-py37h6dcda5c_3\n",
            "  boost-cpp          conda-forge/linux-64::boost-cpp-1.74.0-h312852a_4\n",
            "  cairo              conda-forge/linux-64::cairo-1.16.0-h6cf1ce9_1008\n",
            "  cycler             conda-forge/noarch::cycler-0.10.0-py_2\n",
            "  fontconfig         conda-forge/linux-64::fontconfig-2.13.1-hba837de_1005\n",
            "  freetype           conda-forge/linux-64::freetype-2.10.4-h0708190_1\n",
            "  gettext            conda-forge/linux-64::gettext-0.19.8.1-h0b5b191_1005\n",
            "  greenlet           conda-forge/linux-64::greenlet-1.1.0-py37hcd2ae1e_0\n",
            "  importlib-metadata conda-forge/linux-64::importlib-metadata-4.6.1-py37h89c1867_0\n",
            "  jbig               conda-forge/linux-64::jbig-2.1-h7f98852_2003\n",
            "  jpeg               conda-forge/linux-64::jpeg-9d-h36c2ea0_0\n",
            "  kiwisolver         conda-forge/linux-64::kiwisolver-1.3.1-py37h2527ec5_1\n",
            "  lcms2              conda-forge/linux-64::lcms2-2.12-hddcbb42_0\n",
            "  lerc               conda-forge/linux-64::lerc-2.2.1-h9c3ff4c_0\n",
            "  libblas            conda-forge/linux-64::libblas-3.9.0-9_openblas\n",
            "  libcblas           conda-forge/linux-64::libcblas-3.9.0-9_openblas\n",
            "  libdeflate         conda-forge/linux-64::libdeflate-1.7-h7f98852_5\n",
            "  libgfortran-ng     conda-forge/linux-64::libgfortran-ng-9.3.0-hff62375_19\n",
            "  libgfortran5       conda-forge/linux-64::libgfortran5-9.3.0-hff62375_19\n",
            "  libglib            conda-forge/linux-64::libglib-2.68.3-h3e27bee_0\n",
            "  liblapack          conda-forge/linux-64::liblapack-3.9.0-9_openblas\n",
            "  libopenblas        conda-forge/linux-64::libopenblas-0.3.15-pthreads_h8fe5266_1\n",
            "  libpng             conda-forge/linux-64::libpng-1.6.37-h21135ba_2\n",
            "  libtiff            conda-forge/linux-64::libtiff-4.3.0-hf544144_1\n",
            "  libuuid            conda-forge/linux-64::libuuid-2.32.1-h7f98852_1000\n",
            "  libwebp-base       conda-forge/linux-64::libwebp-base-1.2.0-h7f98852_2\n",
            "  libxcb             conda-forge/linux-64::libxcb-1.13-h7f98852_1003\n",
            "  matplotlib-base    conda-forge/linux-64::matplotlib-base-3.4.2-py37hdd32ed1_0\n",
            "  numpy              conda-forge/linux-64::numpy-1.21.0-py37h038b26d_0\n",
            "  olefile            conda-forge/noarch::olefile-0.46-pyh9f0ad1d_1\n",
            "  openjpeg           conda-forge/linux-64::openjpeg-2.4.0-hb52868f_1\n",
            "  pandas             conda-forge/linux-64::pandas-1.3.0-py37h219a48f_0\n",
            "  pcre               conda-forge/linux-64::pcre-8.45-h9c3ff4c_0\n",
            "  pillow             conda-forge/linux-64::pillow-8.3.1-py37h0f21c89_0\n",
            "  pixman             conda-forge/linux-64::pixman-0.40.0-h36c2ea0_0\n",
            "  pthread-stubs      conda-forge/linux-64::pthread-stubs-0.4-h36c2ea0_1001\n",
            "  pycairo            conda-forge/linux-64::pycairo-1.20.1-py37hfff247e_0\n",
            "  pyparsing          conda-forge/noarch::pyparsing-2.4.7-pyh9f0ad1d_0\n",
            "  python-dateutil    conda-forge/noarch::python-dateutil-2.8.2-pyhd8ed1ab_0\n",
            "  pytz               conda-forge/noarch::pytz-2021.1-pyhd8ed1ab_0\n",
            "  rdkit              conda-forge/linux-64::rdkit-2021.03.4-py37haf5a968_0\n",
            "  reportlab          conda-forge/linux-64::reportlab-3.5.68-py37h69800bb_0\n",
            "  sqlalchemy         conda-forge/linux-64::sqlalchemy-1.4.21-py37h5e8e339_0\n",
            "  tornado            conda-forge/linux-64::tornado-6.1-py37h5e8e339_1\n",
            "  typing_extensions  conda-forge/noarch::typing_extensions-3.10.0.0-pyha770c72_0\n",
            "  xorg-kbproto       conda-forge/linux-64::xorg-kbproto-1.0.7-h7f98852_1002\n",
            "  xorg-libice        conda-forge/linux-64::xorg-libice-1.0.10-h7f98852_0\n",
            "  xorg-libsm         conda-forge/linux-64::xorg-libsm-1.2.3-hd9c2040_1000\n",
            "  xorg-libx11        conda-forge/linux-64::xorg-libx11-1.7.2-h7f98852_0\n",
            "  xorg-libxau        conda-forge/linux-64::xorg-libxau-1.0.9-h7f98852_0\n",
            "  xorg-libxdmcp      conda-forge/linux-64::xorg-libxdmcp-1.1.3-h7f98852_0\n",
            "  xorg-libxext       conda-forge/linux-64::xorg-libxext-1.3.4-h7f98852_1\n",
            "  xorg-libxrender    conda-forge/linux-64::xorg-libxrender-0.9.10-h7f98852_1003\n",
            "  xorg-renderproto   conda-forge/linux-64::xorg-renderproto-0.11.1-h7f98852_1002\n",
            "  xorg-xextproto     conda-forge/linux-64::xorg-xextproto-7.3.0-h7f98852_1002\n",
            "  xorg-xproto        conda-forge/linux-64::xorg-xproto-7.0.31-h7f98852_1007\n",
            "  zipp               conda-forge/noarch::zipp-3.5.0-pyhd8ed1ab_0\n",
            "\n",
            "\n",
            "\n",
            "Downloading and Extracting Packages\n",
            "openjpeg-2.4.0       | 444 KB    | : 100% 1.0/1 [00:00<00:00,  4.10it/s]\n",
            "libgfortran-ng-9.3.0 | 22 KB     | : 100% 1.0/1 [00:00<00:00, 22.37it/s]\n",
            "reportlab-3.5.68     | 2.4 MB    | : 100% 1.0/1 [00:00<00:00,  1.86it/s]\n",
            "sqlalchemy-1.4.21    | 2.3 MB    | : 100% 1.0/1 [00:00<00:00,  1.63it/s]\n",
            "olefile-0.46         | 32 KB     | : 100% 1.0/1 [00:00<00:00, 21.72it/s]\n",
            "libdeflate-1.7       | 67 KB     | : 100% 1.0/1 [00:00<00:00, 16.30it/s]\n",
            "gettext-0.19.8.1     | 3.6 MB    | : 100% 1.0/1 [00:00<00:00,  1.12it/s]\n",
            "xorg-libxrender-0.9. | 32 KB     | : 100% 1.0/1 [00:00<00:00, 17.77it/s]\n",
            "pillow-8.3.1         | 692 KB    | : 100% 1.0/1 [00:00<00:00,  5.39it/s]\n",
            "xorg-libxdmcp-1.1.3  | 19 KB     | : 100% 1.0/1 [00:00<00:00, 25.50it/s]\n",
            "importlib-metadata-4 | 31 KB     | : 100% 1.0/1 [00:00<00:00, 18.20it/s]\n",
            "rdkit-2021.03.4      | 38.2 MB   | : 100% 1.0/1 [00:07<00:00,  7.66s/it]               \n",
            "libuuid-2.32.1       | 28 KB     | : 100% 1.0/1 [00:00<00:00, 20.84it/s]\n",
            "lerc-2.2.1           | 213 KB    | : 100% 1.0/1 [00:00<00:00, 13.29it/s]\n",
            "xorg-libx11-1.7.2    | 941 KB    | : 100% 1.0/1 [00:00<00:00,  4.90it/s]\n",
            "lcms2-2.12           | 443 KB    | : 100% 1.0/1 [00:00<00:00,  9.09it/s]\n",
            "libxcb-1.13          | 395 KB    | : 100% 1.0/1 [00:00<00:00,  6.22it/s]\n",
            "typing_extensions-3. | 28 KB     | : 100% 1.0/1 [00:00<00:00, 21.08it/s]\n",
            "greenlet-1.1.0       | 83 KB     | : 100% 1.0/1 [00:00<00:00, 14.22it/s]\n",
            "libglib-2.68.3       | 3.1 MB    | : 100% 1.0/1 [00:00<00:00,  1.48it/s]\n",
            "boost-1.74.0         | 342 KB    | : 100% 1.0/1 [00:00<00:00,  7.13it/s]\n",
            "matplotlib-base-3.4. | 7.2 MB    | : 100% 1.0/1 [00:01<00:00,  1.39s/it]\n",
            "freetype-2.10.4      | 890 KB    | : 100% 1.0/1 [00:00<00:00,  4.84it/s]\n",
            "cycler-0.10.0        | 9 KB      | : 100% 1.0/1 [00:00<00:00, 25.55it/s]\n",
            "xorg-xproto-7.0.31   | 73 KB     | : 100% 1.0/1 [00:00<00:00, 15.31it/s]\n",
            "libgfortran5-9.3.0   | 2.0 MB    | : 100% 1.0/1 [00:00<00:00,  2.12it/s]\n",
            "numpy-1.21.0         | 6.1 MB    | : 100% 1.0/1 [00:01<00:00,  1.58s/it]\n",
            "cairo-1.16.0         | 1.5 MB    | : 100% 1.0/1 [00:00<00:00,  2.86it/s]\n",
            "python-dateutil-2.8. | 240 KB    | : 100% 1.0/1 [00:00<00:00,  9.50it/s]\n",
            "xorg-xextproto-7.3.0 | 28 KB     | : 100% 1.0/1 [00:00<00:00, 19.35it/s]\n",
            "fontconfig-2.13.1    | 357 KB    | : 100% 1.0/1 [00:00<00:00,  7.43it/s]\n",
            "xorg-kbproto-1.0.7   | 27 KB     | : 100% 1.0/1 [00:00<00:00, 19.19it/s]\n",
            "pcre-8.45            | 253 KB    | : 100% 1.0/1 [00:00<00:00,  8.45it/s]\n",
            "kiwisolver-1.3.1     | 78 KB     | : 100% 1.0/1 [00:00<00:00, 13.60it/s]\n",
            "xorg-libice-1.0.10   | 58 KB     | : 100% 1.0/1 [00:00<00:00, 16.00it/s]\n",
            "tornado-6.1          | 646 KB    | : 100% 1.0/1 [00:00<00:00,  5.15it/s]\n",
            "libblas-3.9.0        | 11 KB     | : 100% 1.0/1 [00:00<00:00, 25.33it/s]\n",
            "libopenblas-0.3.15   | 9.2 MB    | : 100% 1.0/1 [00:01<00:00,  1.86s/it]\n",
            "libwebp-base-1.2.0   | 815 KB    | : 100% 1.0/1 [00:00<00:00,  5.72it/s]\n",
            "libtiff-4.3.0        | 668 KB    | : 100% 1.0/1 [00:00<00:00,  5.98it/s]\n",
            "xorg-libxext-1.3.4   | 54 KB     | : 100% 1.0/1 [00:00<00:00, 22.18it/s]\n",
            "pandas-1.3.0         | 12.7 MB   | : 100% 1.0/1 [00:02<00:00,  2.89s/it]\n",
            "boost-cpp-1.74.0     | 16.3 MB   | : 100% 1.0/1 [00:06<00:00,  6.70s/it]               \n",
            "xorg-renderproto-0.1 | 9 KB      | : 100% 1.0/1 [00:00<00:00, 22.84it/s]\n",
            "pytz-2021.1          | 239 KB    | : 100% 1.0/1 [00:00<00:00,  6.74it/s]\n",
            "libpng-1.6.37        | 306 KB    | : 100% 1.0/1 [00:00<00:00, 10.63it/s]\n",
            "xorg-libsm-1.2.3     | 26 KB     | : 100% 1.0/1 [00:00<00:00, 22.79it/s]\n",
            "xorg-libxau-1.0.9    | 13 KB     | : 100% 1.0/1 [00:00<00:00, 26.27it/s]\n",
            "libcblas-3.9.0       | 11 KB     | : 100% 1.0/1 [00:00<00:00, 24.56it/s]\n",
            "jpeg-9d              | 264 KB    | : 100% 1.0/1 [00:00<00:00,  9.60it/s]\n",
            "zipp-3.5.0           | 12 KB     | : 100% 1.0/1 [00:00<00:00, 23.74it/s]\n",
            "liblapack-3.9.0      | 11 KB     | : 100% 1.0/1 [00:00<00:00, 19.77it/s]\n",
            "pyparsing-2.4.7      | 60 KB     | : 100% 1.0/1 [00:00<00:00, 15.56it/s]\n",
            "jbig-2.1             | 43 KB     | : 100% 1.0/1 [00:00<00:00, 23.54it/s]\n",
            "pthread-stubs-0.4    | 5 KB      | : 100% 1.0/1 [00:00<00:00, 28.48it/s]\n",
            "pixman-0.40.0        | 627 KB    | : 100% 1.0/1 [00:00<00:00,  6.88it/s]\n",
            "pycairo-1.20.1       | 77 KB     | : 100% 1.0/1 [00:00<00:00, 20.21it/s]\n",
            "Preparing transaction: \\ \b\b| \b\b/ \b\b- \b\b\\ \b\b| \b\b/ \b\b- \b\b\\ \b\b| \b\b/ \b\b- \b\bdone\n",
            "Verifying transaction: | \b\b/ \b\b- \b\b\\ \b\b| \b\b/ \b\b- \b\b\\ \b\b| \b\b/ \b\b- \b\b\\ \b\b| \b\b/ \b\b- \b\b\\ \b\b| \b\b/ \b\b- \b\b\\ \b\b| \b\b/ \b\b- \b\b\\ \b\b| \b\b/ \b\b- \b\b\\ \b\b| \b\b/ \b\b- \b\b\\ \b\b| \b\b/ \b\bdone\n",
            "Executing transaction: \\ \b\b| \b\b/ \b\b- \b\b\\ \b\b| \b\b/ \b\b- \b\b\\ \b\b| \b\b/ \b\b- \b\b\\ \b\b| \b\b/ \b\b- \b\b\\ \b\b| \b\b/ \b\b- \b\b\\ \b\b| \b\b/ \b\b- \b\b\\ \b\b| \b\b/ \b\b- \b\b\\ \b\b| \b\b/ \b\b- \b\b\\ \b\bdone\n"
          ],
          "name": "stdout"
        }
      ]
    },
    {
      "cell_type": "code",
      "metadata": {
        "id": "Z-R3qj5P8pu4"
      },
      "source": [
        "from rdkit import Chem"
      ],
      "execution_count": 4,
      "outputs": []
    },
    {
      "cell_type": "code",
      "metadata": {
        "colab": {
          "base_uri": "https://localhost:8080/",
          "height": 38
        },
        "id": "5dE-1RWJFzId",
        "outputId": "1bd75401-a1d3-446b-f2f1-9c01188fe105"
      },
      "source": [
        "%pwd"
      ],
      "execution_count": 7,
      "outputs": [
        {
          "output_type": "execute_result",
          "data": {
            "application/vnd.google.colaboratory.intrinsic+json": {
              "type": "string"
            },
            "text/plain": [
              "'/content'"
            ]
          },
          "metadata": {
            "tags": []
          },
          "execution_count": 7
        }
      ]
    }
  ]
}