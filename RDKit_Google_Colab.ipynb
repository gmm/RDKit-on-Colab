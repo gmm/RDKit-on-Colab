{
  "nbformat": 4,
  "nbformat_minor": 0,
  "metadata": {
    "colab": {
      "name": "morris@stats.ox.ac.uk",
      "provenance": [],
      "toc_visible": true,
      "include_colab_link": true
    },
    "kernelspec": {
      "display_name": "Python 3",
      "name": "python3"
    }
  },
  "cells": [
    {
      "cell_type": "markdown",
      "metadata": {
        "id": "view-in-github",
        "colab_type": "text"
      },
      "source": [
        "<a href=\"https://colab.research.google.com/github/gmm/RDKit-on-Colab/blob/main/RDKit_Google_Colab.ipynb\" target=\"_parent\"><img src=\"https://colab.research.google.com/assets/colab-badge.svg\" alt=\"Open In Colab\"/></a>"
      ]
    },
    {
      "cell_type": "markdown",
      "metadata": {
        "id": "M_jLJcOB86Dm"
      },
      "source": [
        "# A Brief Introduction to Chemistry\n",
        "\n",
        "## Molecules, Atoms, and Bonds\n",
        "\n",
        "The matter of all life is made of [molecules](https://en.wikipedia.org/wiki/Molecule). Molecules, in turn, are made of [atoms](https://en.wikipedia.org/wiki/Atom) and [bonds](https://en.wikipedia.org/wiki/Chemical_bond). The realm of molecules is incredibly small: too small to see with the naked eye. The simplest possible molecule, dihydrogen, or H<sub>2</sub>, is only 0.74 Å (1 Å = 10<sup>-10</sup> m, or a tenth of a nanometer, 0.1 nm). A water molecule, H<sub>2</sub>O, is about 0.27 nm, or 2.7 Å.\n",
        "\n",
        "While a looking a little dated to twenty-first century eyes, the classic \"Powers of Ten\" movie created by the Eames in 1977 visualizes beautifully the amazing worlds that exist at different scales:\n"
      ]
    },
    {
      "cell_type": "code",
      "source": [
        "from IPython.lib.display import YouTubeVideo\n",
        "YouTubeVideo('0fKBhvDjuy0', width=800, height=600) # Powers of Ten™ (1977), 9 min"
      ],
      "metadata": {
        "id": "uidonQM1G-1G",
        "colab": {
          "base_uri": "https://localhost:8080/",
          "height": 622
        },
        "outputId": "c1b47a39-9f58-43ed-8f11-ce3f5af3b854"
      },
      "execution_count": 1,
      "outputs": [
        {
          "output_type": "execute_result",
          "data": {
            "text/plain": [
              "<IPython.lib.display.YouTubeVideo at 0x7fcd05a9f0a0>"
            ],
            "text/html": [
              "\n",
              "        <iframe\n",
              "            width=\"800\"\n",
              "            height=\"600\"\n",
              "            src=\"https://www.youtube.com/embed/0fKBhvDjuy0\"\n",
              "            frameborder=\"0\"\n",
              "            allowfullscreen\n",
              "        ></iframe>\n",
              "        "
            ],
            "image/jpeg": "[encoded data removed]"
          },
          "metadata": {},
          "execution_count": 1
        }
      ]
    },
    {
      "cell_type": "markdown",
      "source": [
        "Atoms have physical and chemical properties that are determined by their atomic and electronic structure: how many protons in the nucleus (determines the element), how many neutrons in the nucleus (determines the isotope) and how many electrons (determines the charge on the atom).\n",
        "\n",
        "## The Periodic Table\n",
        "\n",
        "The elements can be arranged periodically according to their number of protons (\"atomic number\") and the number of electrons in their outermost shells when they are neutral. These periodic patterns of atomic structure reveal similarities in physicochemical properties, and are exemplified in the [Periodic Table](https://en.wikipedia.org/wiki/Periodic_table):\n",
        "\n",
        "<p style=\"text-align: center\">\n",
        "<img src=\"https://upload.wikimedia.org/wikipedia/commons/c/c1/Periodic_table_%2832-col%2C_enwiki%29%2C_black_and_white.png\" alt=\"The Periodic Table\" width=\"1000\"/>\n",
        "</br>\n",
        "<em>Image Credit: Anonymous, <a href=\"https://commons.wikimedia.org/wiki/File:Periodic_table_(32-col,_enwiki),_black_and_white.png\">Periodic table (32-col, enwiki), black and white</a>, <a href=\"https://creativecommons.org/licenses/by-sa/4.0/legalcode\" rel=\"license\">CC BY-SA 4.0</a></em>\n",
        "</p>\n",
        "\n",
        "This video version of the periodic table is particularly fun: [Periodic Videos](http://www.periodicvideos.com)…\n",
        "\n",
        "The popular free, open-source molecular graphics package, [PyMOL](https://pymolwiki.org/index.php/Main_Page), uses [standard colors to represent different elements](https://pymolwiki.org/index.php/Color_Values#Chemical_element_colours). Perhaps the most common colors you will see are for carbon (green, although this can vary); hydrogen (white); oxygen (red); nitrogen (blue); and sulfur (yellow).\n",
        "\n",
        "Hydrogen has the simplest atom, with one proton (Z=1) in its nucleus, and one electron. Isotopes of an element have the same number of protons but different numbers of neutrons. Hydrogen has two isotopes: deuterium (with one proton and one neutron (N=1), indicated by the symbol D or <sup>2</sup>H); and tritium (with one proton and two neutrons (N=2), with the symbol T or <sup>3</sup>H).\n",
        "\n",
        "An atom of helium, He, has two protons (Z=2) and two neutrons (N=2) in its nucleus, and two electrons. Lithium, with the symbol Li, has three protons (Z=3) and three electrons; [Lithium has several isotopes](https://en.wikipedia.org/wiki/Isotopes_of_lithium). Each time we add a proton to the nucleus, we arrive at a new element. To balance the charge, there are an equal number of electrons in a neutral atom.\n",
        "\n",
        "We have seen that the way the electrons arrange themselves into stable patterns leads to regular, periodic patterns in the properties of elements, as embodied in the periodic table. Next, we will learn about where these patterns come from.\n",
        "\n",
        "## Electrons and Valency\n",
        "\n",
        "One of the consequences of the quantum mechanical nature of atoms is that their electrons must reside in discrete, 'quantized' energy levels, sometimes referred to as \"[shells](https://en.wikipedia.org/wiki/Electron_shell)\". Pre-quantum mechanical ideas visualized these electrons as \"orbitting\" the nucleus, like planets around a star--but this model is [inaccurate](https://en.wikipedia.org/wiki/Uncertainty_principle). It's better to think of electrons as probability density clouds, which in atoms are known as \"[atomic orbitals](https://en.wikipedia.org/wiki/Atomic_orbital)\":\n",
        "\n",
        "<p style=\"text-align: center\">\n",
        "<img src=\"https://upload.wikimedia.org/wikipedia/commons/c/c4/Atomic-orbital-clouds_spdf_m0.png\" alt=\"Atomic Orbitals\" width=\"400\" style=\"display=block; margin:auto\"/>\n",
        "<br>\n",
        "<em>Image Credit: <a href=\"https://commons.wikimedia.org/wiki/User:Geek3\">Geek3</a>, <a href=\"https://commons.wikimedia.org/wiki/File:Atomic-orbital-clouds_spdf_m0.png\">Atomic-orbital-clouds spdf m0</a>, <a href=\"https://creativecommons.org/licenses/by-sa/4.0/legalcode\" rel=\"license\">CC BY-SA 4.0</a></em>\n",
        "</p>\n",
        "\n",
        "Each of these shells has a maximum capacity to hold electrons depending on their energy level, and these shells fill up with electrons in order from lowest energy to the highest. The number of protons in the nucleus, and the number of electrons in the highest energy level--or \"outermost shell\"--determine the physical and chemcial properties of the element, and how many atoms it can bond to at once, a.k.a. its [valency](https://en.wikipedia.org/wiki/Valence_(chemistry)). You [can use valency to figure out the formula](https://www.bbc.co.uk/bitesize/guides/zqrxsbk/revision/2) of a compound.\n",
        "\n",
        "## Bonds\n",
        "\n",
        "Pairs of adjacent atoms in molecules are held together by strong *covalent* bonds, which are formed when the atom pairs share their outermost electrons. There are different types of covalent bonds: single, double, and triple bonds, in which one, two, or three pairs of electrons respectively are shared between the bonded atoms. The strongest bonds are triple, followed by double bonds, then single bonds. The stronger the bond, the shorter they tend to be. A C-C single bond is typically about 1.5 A.\n",
        "\n",
        "\n",
        "### Saturated and Unstaturated Bonds\n",
        "\n",
        "The concept of \"saturation\" relates to how much hydrogen is attached to the carbon atoms and whether the carbons are singly, doubly or triply bonded. Hydrocarbons are compounds made up of hydrogen and carbon. A fully saturated hydrocarbon compound has the highest hydrogen to carbon ratio, while an unsaturated compound has the least hydrogen. For example, ethane has the chemical formula C<sub>2</sub>H<sub>6</sub> and the two carbon atoms are connected by a single bond, also known as a 'saturated' bond. Ethene also has two carbon atoms, but it has a double (or 'unsaturated') bond between the carbons, and the formula C<sub>2</sub>H<sub>4</sub>. Ethane is saturated, while ethene is unsaturated.\n",
        "\n",
        "## Molecules\n",
        "\n",
        "Molecules are made up of two or more atoms covalently bonded together. If they are large enough, they can also form intramolecular non-covalent bonds like hydrogen-bonds (see below) between their constituent atoms.\n",
        "\n",
        "[Organic molecules](https://en.wikipedia.org/wiki/Organic_compound) are a subset of molecules found in living systems and are made up of the elements carbon (C) and hydrogen (H), and usually nitrogen (N) and/or oxygen (O). They can also have other elements like phosphorus (P) and sulfur (S). Small molecule drugs can contain other elements, like halogens: fluorine (F), chlorine (Cl), Bromine (Br), and/or iodine (I); or other elements such as boron (B).\n",
        "\n",
        "## Non-Covalent Bonds\n",
        "\n",
        "There are also non-covalent bonds, which are weaker than covalent bonds, and can form between parts of the same molecule, or between different molecules. One of the most common non-covalent bonds is the hydrogen bond, or \"H-bond\" for short. Hydrogen bonds are found between water molecules in liquid water and ice.\n",
        "\n",
        "## Hydrogen Bonds\n",
        "\n",
        "[Hydrogen bonds](https://en.wikipedia.org/wiki/Hydrogen_bond) are weak, directional interactions that arise as a result of differences in [electronegativity](https://en.wikipedia.org/wiki/Electronegativity) between hydrogen (less electronegative) and atoms like oxygen and nitrogen (more electronegative). The difference in electronegativity between two atoms in a bond causes the electrons in the bond(s) between the atoms to be distributed unequally, so one atom becomes slightly positively charged, and the other slightly negative. A hydrogen bond involves a hydrogen bond donor such as an N-H group, and a hydrogen bond acceptor such as an oxygen atom, and is often represented by dotted lines: N-H•••O. H-bonds while weak are highly directional: the angle from the H-bonding donor atom, via the H to the H-bonding acceptor tends to be ~180°. This leads to emergent local structure btween molecules, such as the tetrahedral lattice in water ice; or (secondary structure in proteins)[https://en.wikipedia.org/wiki/Protein_secondary_structure] formed by adjacent backbone amide groups.\n",
        "\n",
        "## Salt Bridges\n",
        "\n",
        "When the two groups or atoms interacting are charged, they can form salt bridges. These interactions are ionic, and involve positively charged (\"cationic\") and negatively charged (\"anionic\") groups. These types of interactions are observed between postively (arginine, lysine and sometimes histidine sidechains) and negatively charged amino acid (aspartic and glutamic acids) side chains (and their N- and C-termini). It's also possible for small molecule drugs to form salt bridges to amino acids in proteins, *e.g.* tamiflu binding to neuraminidase spikes in influenza virus)\n",
        "\n",
        "## Rings\n",
        "\n",
        "Molecules can be thought of as (graphs)[https://en.wikipedia.org/wiki/Graph_theory] where the nodes are atoms and the edges are bonds. Just like graphs, molecules can be linear, branched, or cyclic with the atoms arranged in *so called* rings. A saturated hydrocarbon 6-membered ring consists of six carbon atoms connected by six single bonds and is called *saturated*: this molecule is called \"cyclohexane\", and is an example of an \"aliphatic ring\"; it has the chemical formula C<sub>6</sub>H<sub>12</sub> But it is also possible to have a *unsaturated* 6-membered hydrocarbon ring with six carbons and alternating single and double bonds: this molecule is called \"benzene\", and is known as an \"[aromatic](https://en.wikipedia.org/wiki/Aromatic_compound) ring\"; it has the chemical formula C<sub>6</sub>H<sub>6</sub>. [Aromatic rings](https://en.wikipedia.org/wiki/Simple_aromatic_ring) feature heavily in small molecule drugs. One of the features of [aromaticity](https://en.wikipedia.org/wiki/Aromaticity) are the rings of negative electron clouds above and below the plane of the atoms. Another feature is molecular shape.\n",
        "\n",
        "## Molecular Shape and Conformation\n",
        "\n",
        "The shape of aromatic and aliphatic 6-membered carbon rings is quite different. [Benzene](https://en.wikipedia.org/wiki/Benzene), like all aromatic rings, is flat; but aliphatic cyclohexane is three-dimensional. Because it is possible to rotate connected atoms about a single bond, cyclohexane can adopt different [conformations](https://en.wikipedia.org/wiki/Cyclohexane_conformation). The most stable is the *chair* conformation, and the least stable, highest energy state is the *boat* conformation; intermediate between these two is the *twist boat* conformation.\n",
        "\n",
        "## Chemical Space\n",
        "\n",
        "With the combinatorics that emerges from the valencies of different elements, different bond types, and whether a molecule is linear, branched or cyclic, it's easy to imagine lots of possible small molecules. [Bohacek *et al.*](https://onlinelibrary.wiley.com/doi/abs/10.1002/%28SICI%291098-1128%28199601%2916%3A1%3C3%3A%3AAID-MED1%3E3.0.CO%3B2-6?sid=nlm%3Apubmed) claimed that just restricting ourselves to molecules with up to 30 atoms chosen from C, N, O, S, and H atoms, the \"true number [of molecules] will be well in excess of 10<sup>60</sup>\" [Bohacek *et al.*, 1996, *Med. Res. Rev.*, __16__: 3-50).\n",
        "\n",
        "## Functional Groups\n",
        "\n",
        "Often when describing parts of molecules that can vary, chemists use the symbol \"R\" to describe a group or sub-graph that is generic. When there are several points of variation, a subscripted number is used, such as \"R<sub>1</sub>\" or \"R<sub>2</sub>\".\n",
        "\n",
        "Common 'sub-graphs' in molecules are referred to by chemists as \"[functional groups](https://en.wikipedia.org/wiki/Functional_group)\". Functional groups have unique physicochemical properties, such as being neutral, negatively or positively charged; or being hydrophobic or hydrophilic. Examples include hydroxyl groups, R(OH); carbonyl groups, R<sub>1</sub>(C=O)R<sub>2</sub>; carboxylic acid groups, R(O=C-OH); and ammonium groups, R(NH<sub>3</sub><sup>+</sup>). \n",
        "\n",
        "## Molecular Properties\n",
        "\n",
        "Molecules have [chemical properties](https://en.wikipedia.org/wiki/Chemical_property) and [physical properties](https://en.wikipedia.org/wiki/Physical_property) that emerge from their chemical structure: whether they are solid, liquid or gaseous at a given temperature; their melting point if solid, or boiling point if liquid. They also have properties such as [molecular weight](https://en.wikipedia.org/wiki/Molecular_mass) (the sum of the atomic masses of all the atoms in the molecule, measured in Daltons, or \"Da\"); and counts, such as the number of non-hydrogen 'heavy' atoms, or the number of hydrogren bond donors. Cheminformatics software allows us to [calculate many such molecular descriptors](https://www.rdkit.org/docs/GettingStartedInPython.html#descriptor-calculation).\n",
        "\n",
        "## Molecular Recognition and Pharmacophores\n",
        "\n",
        "Small molecule drugs (sometimes referred to as 'ligands') bind to their target or targets, usually via non-covalent interactions such as H-bonds, salt bridges, and hydrophobic interactions. A key concept in these interactions is *complementarity*: an H-bond donor in the ligand interacts with an H-bond acceptor in the target; a positively charged group in the ligand interacts with a negatively charged group in the target; and so on. In addition to these electrostatic interactions, there are *steric* interactions, governed by [shape complementarity](https://en.wikipedia.org/wiki/Docking_(molecular)#Shape_complementarity), a bit like \"knobs\" fitting into \"holes\". Many of these concepts are embodied in protein-ligand [docking](https://en.wikipedia.org/wiki/Docking_(molecular)) software, where a search of the conformational, translational, and orientational degrees of freedom of a protein and ligand is performed using a [scoring function](https://en.wikipedia.org/wiki/Docking_(molecular)#Scoring_function) that quantifies the intermolecular and intramolecular interactions.\n",
        "\n",
        "The essential 3D arrangement of chemical features required for binding to a target is known as a *pharmacophore*, which the IUPAC defines as: \n",
        "\n",
        ">\"__Pharmacophore  (pharmacophoric pattern)__ A pharmacophore is the ensemble of steric and electronic features that is necessary to ensure the optimal supramolecular  interactions  with  a  specific  biological  target  structure  and to trigger  (or  to  block) its biological response.\"\n",
        "\n",
        ">\"A pharmacophore does not represent a real molecule  or a real association of functional groups, but a purely  abstract concept that accounts for the common molecular  interaction  capacities of a  group of compounds towards their  target  structure. The pharmacophore can be considered as the  largest  common  denominator  shared  by a  set of active molecules. This  definition discards a misuse  often  found in the medicinal  chemistry literature which consists of naming  as pharmacophores simple chemical functionalities such  as guanidines,  sulfonamides or dihydroimidazoles (formerly imidazolines), or typical  structural skeletons such as flavones, phenothiazines, prostaglandins or steroids.\"\n",
        "\n",
        "For this and other definitions, see: Wermuth CG, Ganellin CR, Lindberg P, and Mitscher LA (1998), \"Glossary of terms used in medicinal chemistry (IUPAC Recommendations 1998)\", *Pure and Applied Chemistry*, __70__ (5): 1129–1143. [doi:10.1351/pac199870051129](https://www.degruyter.com/document/doi/10.1351/pac199870051129/html)\n",
        "\n"
      ],
      "metadata": {
        "id": "M-yofuQUG5Yh"
      }
    },
    {
      "cell_type": "markdown",
      "source": [
        "\n",
        "# Cheminformatics\n",
        "\n",
        "The discipline of cheminformatics is centred on the storage, analysis and algorithmic manipulation of chemical information. It allows us to store representations of (ususally small organic) molecules in a computer, and run algorithms on them to compute molecular properties, compare molecules, or search massive databases of molecules. In combination with machine learning, cheminformatics allows us to expand our models to molecular property prediction and even *de novo* design. The open source cheminformatics API, [RDKit](http://www.rdkit.org), provides a wealth of such functionality, that can be accessed from e`ither C++ or [Python](https://www.rdkit.org/docs/GettingStartedInPython.htmlhttps://www.rdkit.org/docs/GettingStartedInPython.html).\n",
        "\n",
        "## Python & iPython\n",
        "\n",
        "[Python](https://www.python.org) is a general purpose, object-oriented, interpreted language that acts a computational glue for a wide variety of mathematical and scientific algorithms, including cheminformatics, bioinformatics, and biomolecular simulation. It has become extremely popular in data science. \n",
        "\n",
        "[iPython](https://ipython.org) provides a powerful interactive Python environment that also works well with the host operating system using so called [magic commands](https://ipython.readthedocs.io/en/stable/interactive/python-ipython-diff.html), which unlike Python begin with a \"%\" symbol. For example, \"%cd\" will change the directory that Python is currently running in. iPython also supports interactive data visualization and the use of GUI (Graphical User Interface) toolkits.\n",
        "\n",
        "The Python language has two variants: Python 2 and Python 3; while they are very similar, they are not backwards-compatible. This notebook has been written using Python 3 syntax.\n",
        "\n",
        "## Jupyter Notebooks on Google Colab\n",
        "\n",
        "Google provides a way to run Python from a web browser. This is done using [Jupyter](https://jupyter.org), which gives us a way to store code and document it in documents called notebooks, with the file extension ``.ipynb``. These notebooks have \"cells\" in which you can type Python code, or [Markdown](https://daringfireball.net/projects/markdown/)-formatted text. These Jupyter iPython notebooks run on Google servers remotely using \"Google Colab\". This iPython Notebook has been developed to run on Google Colab.\n",
        "\n",
        "Google Colab connects to remote virtual machines known as Google Compute Engine (GCE), and offers different types of runtimes which can be changed from the Runtime menu. Google Colab is a free service, but it is possible to pay for higher tier service that includes access to more memory, GPUs (Graphics Processing Units) and TPUs (Tensor Processing Units).\n",
        "\n",
        "Let's check what type of CPU we have (and how many cores); and also what the operating system (OS) is:\n"
      ],
      "metadata": {
        "id": "HuFNXkTUI9vS"
      }
    },
    {
      "cell_type": "code",
      "source": [
        "# What type of CPU are we running on?\n",
        "!printf 'CPU Details:\\n============\\n\\n'\n",
        "!lscpu\n",
        "\n",
        "# What is our Operating System and architecture?\n",
        "!printf '\\n\\nOS and Architecture:\\n====================\\n\\n'\n",
        "!uname -a\n",
        "\n",
        "# How much disk space is there?\n",
        "!printf '\\n\\nDisk Space:\\n===========\\n\\n'\n",
        "!df -h .\n",
        "\n",
        "# What is our current directory?\n",
        "!printf '\\n\\nCurrent Directory:\\n==================\\n\\n'\n",
        "%pwd"
      ],
      "metadata": {
        "id": "LPb3sXQ6x-Q8",
        "colab": {
          "base_uri": "https://localhost:8080/",
          "height": 1000
        },
        "outputId": "f0178377-b4a2-4343-a9a4-892ff9dac7c4"
      },
      "execution_count": 2,
      "outputs": [
        {
          "output_type": "stream",
          "name": "stdout",
          "text": [
            "CPU Details:\n",
            "============\n",
            "\n",
            "Architecture:                    x86_64\n",
            "CPU op-mode(s):                  32-bit, 64-bit\n",
            "Byte Order:                      Little Endian\n",
            "Address sizes:                   46 bits physical, 48 bits virtual\n",
            "CPU(s):                          2\n",
            "On-line CPU(s) list:             0,1\n",
            "Thread(s) per core:              2\n",
            "Core(s) per socket:              1\n",
            "Socket(s):                       1\n",
            "NUMA node(s):                    1\n",
            "Vendor ID:                       GenuineIntel\n",
            "CPU family:                      6\n",
            "Model:                           79\n",
            "Model name:                      Intel(R) Xeon(R) CPU @ 2.20GHz\n",
            "Stepping:                        0\n",
            "CPU MHz:                         2199.998\n",
            "BogoMIPS:                        4399.99\n",
            "Hypervisor vendor:               KVM\n",
            "Virtualization type:             full\n",
            "L1d cache:                       32 KiB\n",
            "L1i cache:                       32 KiB\n",
            "L2 cache:                        256 KiB\n",
            "L3 cache:                        55 MiB\n",
            "NUMA node0 CPU(s):               0,1\n",
            "Vulnerability Itlb multihit:     Not affected\n",
            "Vulnerability L1tf:              Mitigation; PTE Inversion\n",
            "Vulnerability Mds:               Vulnerable; SMT Host state unknown\n",
            "Vulnerability Meltdown:          Vulnerable\n",
            "Vulnerability Mmio stale data:   Vulnerable\n",
            "Vulnerability Retbleed:          Vulnerable\n",
            "Vulnerability Spec store bypass: Vulnerable\n",
            "Vulnerability Spectre v1:        Vulnerable: __user pointer sanitization and use\n",
            "                                 rcopy barriers only; no swapgs barriers\n",
            "Vulnerability Spectre v2:        Vulnerable, IBPB: disabled, STIBP: disabled, PB\n",
            "                                 RSB-eIBRS: Not affected\n",
            "Vulnerability Srbds:             Not affected\n",
            "Vulnerability Tsx async abort:   Vulnerable\n",
            "Flags:                           fpu vme de pse tsc msr pae mce cx8 apic sep mtr\n",
            "                                 r pge mca cmov pat pse36 clflush mmx fxsr sse s\n",
            "                                 se2 ss ht syscall nx pdpe1gb rdtscp lm constant\n",
            "                                 _tsc rep_good nopl xtopology nonstop_tsc cpuid \n",
            "                                 tsc_known_freq pni pclmulqdq ssse3 fma cx16 pci\n",
            "                                 d sse4_1 sse4_2 x2apic movbe popcnt aes xsave a\n",
            "                                 vx f16c rdrand hypervisor lahf_lm abm 3dnowpref\n",
            "                                 etch invpcid_single ssbd ibrs ibpb stibp fsgsba\n",
            "                                 se tsc_adjust bmi1 hle avx2 smep bmi2 erms invp\n",
            "                                 cid rtm rdseed adx smap xsaveopt arat md_clear \n",
            "                                 arch_capabilities\n",
            "\n",
            "\n",
            "OS and Architecture:\n",
            "====================\n",
            "\n",
            "Linux b597c4611a7e 5.10.147+ #1 SMP Sat Dec 10 16:00:40 UTC 2022 x86_64 x86_64 x86_64 GNU/Linux\n",
            "\n",
            "\n",
            "Disk Space:\n",
            "===========\n",
            "\n",
            "Filesystem      Size  Used Avail Use% Mounted on\n",
            "overlay         108G   24G   85G  22% /\n",
            "\n",
            "\n",
            "Current Directory:\n",
            "==================\n",
            "\n"
          ]
        },
        {
          "output_type": "execute_result",
          "data": {
            "text/plain": [
              "'/content'"
            ],
            "application/vnd.google.colaboratory.intrinsic+json": {
              "type": "string"
            }
          },
          "metadata": {},
          "execution_count": 2
        }
      ]
    },
    {
      "cell_type": "markdown",
      "source": [
        "## Software Package Managers\n",
        "\n",
        "Software can have many dependencies so we use package managers to take care of tracking these details. In Python, we can install extra functionality using the software package manager \"[Conda](https://docs.conda.io/en/latest/)\". Conda automatically includes a large number of Python packages like [NumPy](https://numpy.org) and [SciPy](https://scipy.org), but it doesn't include RDKit.\n",
        "\n",
        "We start by installing Conda and Mamba (a faster implementation of Conda). We will use these to install the additional Python packages we need -- most importantly, RDKit.\n"
      ],
      "metadata": {
        "id": "TFlucSLRywSE"
      }
    },
    {
      "cell_type": "markdown",
      "source": [
        "\n",
        "## 1. Install the Python Package Manager\n",
        "\n",
        "First we need to install conda before we can install RDKit. We use CondaColab, which was developed by [Jaime Rodríguez-Guerra](https://github.com/jaimergp), a solution that is discussed here:\n",
        "\n",
        "* https://inside-machinelearning.com/en/how-to-install-use-conda-on-google-colab/.\n",
        "\n",
        "This needs to be run at the start of the notebook, because it restarts the kernel.\n",
        "\n",
        "CondaColab uses [Mamba](https://mamba.readthedocs.io/en/latest/index.html), a \"fast, robust, and cross-platform package manager, ... a Python-based CLI conceived as a drop-in replacement for conda, offering higher speed and more reliable environment solutions.\" Mamba's [core is implemented in C++ and allows parallel downloading of repository data and package files using multi-threading](https://github.com/mamba-org/mamba).\n",
        "\n",
        "By default, CondaColab installs Mambaforge,  but `condacolab.install_anaconda()` [will install the Anaconda 2020.02 distribution, the last version that was built for Python 3.7](https://github.com/jaimergp/condacolab) (which is needed for Google Colab as of July 2021).\n",
        "\n",
        "Don't panic when you see \"Your session crashed for an unknown reason.\" pop up: the kernel restarts automatically so it has access to the newly installed software, but Colab picks this up as an error. You want this to happen, so you can use the new `conda` environment."
      ],
      "metadata": {
        "id": "r05IS2n6JF-K"
      }
    },
    {
      "cell_type": "code",
      "metadata": {
        "collapsed": true,
        "id": "tDmcqt_v2xDM",
        "colab": {
          "base_uri": "https://localhost:8080/"
        },
        "outputId": "63577e44-65d9-4c3a-8b74-ecb3f4abc3d9"
      },
      "source": [
        "# Running this cell is only necessary when running this Notebook on Google Colab\n",
        "\n",
        "# install condacolab\n",
        "!time pip install -q condacolab  # ~5s to run\n",
        "\n",
        "import condacolab\n",
        "condacolab.install()  # for ML, use `condacolab.install_anaconda()`; ~30s to run\n",
        "\n",
        "# When finished, the kernel will restart automatically with the new conda\n",
        "# functionality and will show the message:\n",
        "#\n",
        "# 🔁 Restarting kernel...\n",
        "#\n",
        "# and a pop-up at the bottom of the screen saying:\n",
        "#\n",
        "# \"Your session crashed for an unknown reason. View the runtime logs.\"\n",
        "#\n",
        "# Don't Panic...!\n",
        "# --Just click the \"X\" to dismiss it."
      ],
      "execution_count": 10,
      "outputs": [
        {
          "output_type": "stream",
          "name": "stdout",
          "text": [
            "\u001b[33mWARNING: Running pip as the 'root' user can result in broken permissions and conflicting behaviour with the system package manager. It is recommended to use a virtual environment instead: https://pip.pypa.io/warnings/venv\u001b[0m\u001b[33m\n",
            "\u001b[0m\n",
            "real\t0m5.387s\n",
            "user\t0m2.708s\n",
            "sys\t0m0.295s\n",
            "✨🍰✨ Everything looks OK!\n"
          ]
        }
      ]
    },
    {
      "cell_type": "markdown",
      "metadata": {
        "id": "J7pOPzxXbcih"
      },
      "source": [
        "Check the versions of conda and mamba: they should be 4.9.2 and 0.8.0 or later, respectively."
      ]
    },
    {
      "cell_type": "code",
      "metadata": {
        "id": "ywwgQ0rm2-qM",
        "colab": {
          "base_uri": "https://localhost:8080/"
        },
        "outputId": "7358e6a9-aa39-4f59-8867-3b55556deadc"
      },
      "source": [
        "!which conda\n",
        "!conda --version\n",
        "!which mamba\n",
        "!mamba --version"
      ],
      "execution_count": 11,
      "outputs": [
        {
          "output_type": "stream",
          "name": "stdout",
          "text": [
            "/usr/local/bin/conda\n",
            "conda 22.11.1\n",
            "/usr/local/bin/mamba\n",
            "mamba 1.1.0\n",
            "conda 22.11.1\n"
          ]
        }
      ]
    },
    {
      "cell_type": "markdown",
      "metadata": {
        "id": "aqIIc2oRXgbJ"
      },
      "source": [
        "# 2. Update the Package Manager\n",
        "\n",
        "In tests, `Mamba` seems to be slightly faster than `Conda` to update all the packages. We will update ``mamba`` and ``conda`` and then check that ``condacolab`` is working."
      ]
    },
    {
      "cell_type": "code",
      "metadata": {
        "id": "i2faZHNDc4bi",
        "colab": {
          "base_uri": "https://localhost:8080/"
        },
        "outputId": "b2790f7e-c375-48e8-d2fe-d06160e13bad"
      },
      "source": [
        "#!time conda update -y -n base conda\n",
        "!time mamba update -y -n base mamba  # ~5s to run\n",
        "!time mamba update -y -n base conda  # ~16-18s to run"
      ],
      "execution_count": 14,
      "outputs": [
        {
          "output_type": "stream",
          "name": "stdout",
          "text": [
            "\n",
            "                  __    __    __    __\n",
            "                 /  \\  /  \\  /  \\  /  \\\n",
            "                /    \\/    \\/    \\/    \\\n",
            "███████████████/  /██/  /██/  /██/  /████████████████████████\n",
            "              /  / \\   / \\   / \\   / \\  \\____\n",
            "             /  /   \\_/   \\_/   \\_/   \\    o \\__,\n",
            "            / _/                       \\_____/  `\n",
            "            |/\n",
            "        ███╗   ███╗ █████╗ ███╗   ███╗██████╗  █████╗\n",
            "        ████╗ ████║██╔══██╗████╗ ████║██╔══██╗██╔══██╗\n",
            "        ██╔████╔██║███████║██╔████╔██║██████╔╝███████║\n",
            "        ██║╚██╔╝██║██╔══██║██║╚██╔╝██║██╔══██╗██╔══██║\n",
            "        ██║ ╚═╝ ██║██║  ██║██║ ╚═╝ ██║██████╔╝██║  ██║\n",
            "        ╚═╝     ╚═╝╚═╝  ╚═╝╚═╝     ╚═╝╚═════╝ ╚═╝  ╚═╝\n",
            "\n",
            "        mamba (1.1.0) supported by @QuantStack\n",
            "\n",
            "        GitHub:  https://github.com/mamba-org/mamba\n",
            "        Twitter: https://twitter.com/QuantStack\n",
            "\n",
            "█████████████████████████████████████████████████████████████\n",
            "\n",
            "\n",
            "Looking for: ['mamba']\n",
            "\n",
            "conda-forge/linux-64                                        Using cache\n",
            "conda-forge/noarch                                          Using cache\n",
            "\n",
            "Pinned packages:\n",
            "  - python 3.8.*\n",
            "  - python 3.8.*\n",
            "  - python_abi 3.8.* *cp38*\n",
            "  - cudatoolkit 11.2.*\n",
            "\n",
            "\n",
            "Transaction\n",
            "\n",
            "  Prefix: /usr/local\n",
            "\n",
            "  All requested packages already installed\n",
            "\n",
            "\u001b[?25l\u001b[2K\u001b[0G\u001b[?25h\n",
            "real\t0m11.791s\n",
            "user\t0m10.801s\n",
            "sys\t0m0.477s\n"
          ]
        }
      ]
    },
    {
      "cell_type": "code",
      "metadata": {
        "id": "kpBfPxfFedxt",
        "colab": {
          "base_uri": "https://localhost:8080/"
        },
        "outputId": "2cd39124-6ffd-423b-a3da-e601dab1262e"
      },
      "source": [
        "!conda --version\n",
        "!mamba --version"
      ],
      "execution_count": 15,
      "outputs": [
        {
          "output_type": "stream",
          "name": "stdout",
          "text": [
            "conda 22.11.1\n",
            "mamba 1.1.0\n",
            "conda 22.11.1\n"
          ]
        }
      ]
    },
    {
      "cell_type": "code",
      "source": [
        "import condacolab\n",
        "condacolab.check()"
      ],
      "metadata": {
        "id": "T38CbKeYpkMR",
        "colab": {
          "base_uri": "https://localhost:8080/"
        },
        "outputId": "c3c587dc-9d9c-47a5-961d-ea93e4509e21"
      },
      "execution_count": 16,
      "outputs": [
        {
          "output_type": "stream",
          "name": "stdout",
          "text": [
            "✨🍰✨ Everything looks OK!\n"
          ]
        }
      ]
    },
    {
      "cell_type": "markdown",
      "source": [
        "# 3. Install Python Packages\n",
        "\n",
        "We will use mamba to install the necessary Python packages, starting with RDKit.\n",
        "\n",
        "\n",
        "## 3.1 Install RDKit"
      ],
      "metadata": {
        "id": "9CVSSThXecUY"
      }
    },
    {
      "cell_type": "code",
      "metadata": {
        "id": "5-mgVwD58M62",
        "colab": {
          "base_uri": "https://localhost:8080/"
        },
        "outputId": "761841f3-4edd-45fd-a50d-388d7282f2ff"
      },
      "source": [
        "# Install the latest version of RDKit using mamba\n",
        "#\n",
        "#  -- Hint: don't create a separate environment, otherwise you must activate\n",
        "#           the separate environment before Google's Jupyter restarts.\n",
        "\n",
        "!time mamba install -y -c rdkit rdkit  # ~41s to install"
      ],
      "execution_count": 17,
      "outputs": [
        {
          "output_type": "stream",
          "name": "stdout",
          "text": [
            "\n",
            "                  __    __    __    __\n",
            "                 /  \\  /  \\  /  \\  /  \\\n",
            "                /    \\/    \\/    \\/    \\\n",
            "███████████████/  /██/  /██/  /██/  /████████████████████████\n",
            "              /  / \\   / \\   / \\   / \\  \\____\n",
            "             /  /   \\_/   \\_/   \\_/   \\    o \\__,\n",
            "            / _/                       \\_____/  `\n",
            "            |/\n",
            "        ███╗   ███╗ █████╗ ███╗   ███╗██████╗  █████╗\n",
            "        ████╗ ████║██╔══██╗████╗ ████║██╔══██╗██╔══██╗\n",
            "        ██╔████╔██║███████║██╔████╔██║██████╔╝███████║\n",
            "        ██║╚██╔╝██║██╔══██║██║╚██╔╝██║██╔══██╗██╔══██║\n",
            "        ██║ ╚═╝ ██║██║  ██║██║ ╚═╝ ██║██████╔╝██║  ██║\n",
            "        ╚═╝     ╚═╝╚═╝  ╚═╝╚═╝     ╚═╝╚═════╝ ╚═╝  ╚═╝\n",
            "\n",
            "        mamba (1.1.0) supported by @QuantStack\n",
            "\n",
            "        GitHub:  https://github.com/mamba-org/mamba\n",
            "        Twitter: https://twitter.com/QuantStack\n",
            "\n",
            "█████████████████████████████████████████████████████████████\n",
            "\n",
            "\n",
            "Looking for: ['rdkit']\n",
            "\n",
            "conda-forge/linux-64                                        Using cache\n",
            "conda-forge/noarch                                          Using cache\n",
            "\u001b[?25l\u001b[2K\u001b[0G[+] 0.0s\n",
            "\u001b[2K\u001b[1A\u001b[2K\u001b[0G[+] 0.1s\n",
            "rdkit/linux-64  ⣾  \n",
            "rdkit/noarch    ⣾  \u001b[2K\u001b[1A\u001b[2K\u001b[1A\u001b[2K\u001b[0G[+] 0.2s\n",
            "rdkit/linux-64  ⣾  \n",
            "rdkit/noarch    ⣾  \u001b[2K\u001b[1A\u001b[2K\u001b[1A\u001b[2K\u001b[0Grdkit/linux-64                                                No change\n",
            "[+] 0.3s\n",
            "rdkit/noarch  ⣾  \u001b[2K\u001b[1A\u001b[2K\u001b[0G[+] 0.4s\n",
            "rdkit/noarch  ⣾  \u001b[2K\u001b[1A\u001b[2K\u001b[0Grdkit/noarch                                                  No change\n",
            "\u001b[?25h\n",
            "Pinned packages:\n",
            "  - python 3.8.*\n",
            "  - python 3.8.*\n",
            "  - python_abi 3.8.* *cp38*\n",
            "  - cudatoolkit 11.2.*\n",
            "\n",
            "\n",
            "Transaction\n",
            "\n",
            "  Prefix: /usr/local\n",
            "\n",
            "  All requested packages already installed\n",
            "\n",
            "\u001b[?25l\u001b[2K\u001b[0G\u001b[?25h\n",
            "real\t0m10.304s\n",
            "user\t0m8.163s\n",
            "sys\t0m1.245s\n"
          ]
        }
      ]
    },
    {
      "cell_type": "markdown",
      "metadata": {
        "id": "FrlXGS-THyWU"
      },
      "source": [
        "## 3.2 Install Molecular Graphics Packages\n",
        "\n",
        "Py3Dmol lets us view and interact with 3D molecules directly in iPython and Jupyter Notebooks. It is built by wrapping 3Dmol.js in Python."
      ]
    },
    {
      "cell_type": "code",
      "metadata": {
        "id": "MQXTwyf4_Gqs",
        "colab": {
          "base_uri": "https://localhost:8080/"
        },
        "outputId": "ce9c32ca-3e7e-41f5-9c45-81017b93859b"
      },
      "source": [
        "!time mamba install -y -c conda-forge py3dmol  # ~1 min to install"
      ],
      "execution_count": 18,
      "outputs": [
        {
          "output_type": "stream",
          "name": "stdout",
          "text": [
            "\n",
            "                  __    __    __    __\n",
            "                 /  \\  /  \\  /  \\  /  \\\n",
            "                /    \\/    \\/    \\/    \\\n",
            "███████████████/  /██/  /██/  /██/  /████████████████████████\n",
            "              /  / \\   / \\   / \\   / \\  \\____\n",
            "             /  /   \\_/   \\_/   \\_/   \\    o \\__,\n",
            "            / _/                       \\_____/  `\n",
            "            |/\n",
            "        ███╗   ███╗ █████╗ ███╗   ███╗██████╗  █████╗\n",
            "        ████╗ ████║██╔══██╗████╗ ████║██╔══██╗██╔══██╗\n",
            "        ██╔████╔██║███████║██╔████╔██║██████╔╝███████║\n",
            "        ██║╚██╔╝██║██╔══██║██║╚██╔╝██║██╔══██╗██╔══██║\n",
            "        ██║ ╚═╝ ██║██║  ██║██║ ╚═╝ ██║██████╔╝██║  ██║\n",
            "        ╚═╝     ╚═╝╚═╝  ╚═╝╚═╝     ╚═╝╚═════╝ ╚═╝  ╚═╝\n",
            "\n",
            "        mamba (1.1.0) supported by @QuantStack\n",
            "\n",
            "        GitHub:  https://github.com/mamba-org/mamba\n",
            "        Twitter: https://twitter.com/QuantStack\n",
            "\n",
            "█████████████████████████████████████████████████████████████\n",
            "\n",
            "\n",
            "Looking for: ['py3dmol']\n",
            "\n",
            "conda-forge/linux-64                                        Using cache\n",
            "conda-forge/noarch                                          Using cache\n",
            "\n",
            "Pinned packages:\n",
            "  - python 3.8.*\n",
            "  - python 3.8.*\n",
            "  - python_abi 3.8.* *cp38*\n",
            "  - cudatoolkit 11.2.*\n",
            "\n",
            "\n",
            "Transaction\n",
            "\n",
            "  Prefix: /usr/local\n",
            "\n",
            "  All requested packages already installed\n",
            "\n",
            "\u001b[?25l\u001b[2K\u001b[0G\u001b[?25h\n",
            "real\t0m7.868s\n",
            "user\t0m6.834s\n",
            "sys\t0m0.518s\n"
          ]
        }
      ]
    },
    {
      "cell_type": "markdown",
      "source": [
        "NGLview can also be used to display proteins, as well as grids and meshes:"
      ],
      "metadata": {
        "id": "AQBVaaMSqtGi"
      }
    },
    {
      "cell_type": "code",
      "source": [
        "!time mamba install nglview -c bioconda # ~10s to install"
      ],
      "metadata": {
        "id": "m8Oz44yVmgPy",
        "colab": {
          "base_uri": "https://localhost:8080/"
        },
        "outputId": "51cf24b5-dd62-4ff1-a997-23ef7b4f9d8f"
      },
      "execution_count": 19,
      "outputs": [
        {
          "output_type": "stream",
          "name": "stdout",
          "text": [
            "\n",
            "                  __    __    __    __\n",
            "                 /  \\  /  \\  /  \\  /  \\\n",
            "                /    \\/    \\/    \\/    \\\n",
            "███████████████/  /██/  /██/  /██/  /████████████████████████\n",
            "              /  / \\   / \\   / \\   / \\  \\____\n",
            "             /  /   \\_/   \\_/   \\_/   \\    o \\__,\n",
            "            / _/                       \\_____/  `\n",
            "            |/\n",
            "        ███╗   ███╗ █████╗ ███╗   ███╗██████╗  █████╗\n",
            "        ████╗ ████║██╔══██╗████╗ ████║██╔══██╗██╔══██╗\n",
            "        ██╔████╔██║███████║██╔████╔██║██████╔╝███████║\n",
            "        ██║╚██╔╝██║██╔══██║██║╚██╔╝██║██╔══██╗██╔══██║\n",
            "        ██║ ╚═╝ ██║██║  ██║██║ ╚═╝ ██║██████╔╝██║  ██║\n",
            "        ╚═╝     ╚═╝╚═╝  ╚═╝╚═╝     ╚═╝╚═════╝ ╚═╝  ╚═╝\n",
            "\n",
            "        mamba (1.1.0) supported by @QuantStack\n",
            "\n",
            "        GitHub:  https://github.com/mamba-org/mamba\n",
            "        Twitter: https://twitter.com/QuantStack\n",
            "\n",
            "█████████████████████████████████████████████████████████████\n",
            "\n",
            "\n",
            "Looking for: ['nglview']\n",
            "\n",
            "conda-forge/linux-64                                        Using cache\n",
            "conda-forge/noarch                                          Using cache\n",
            "\u001b[?25l\u001b[2K\u001b[0G[+] 0.0s\n",
            "bioconda/linux-64  ⣾  \n",
            "bioconda/noarch    ⣾  \u001b[2K\u001b[1A\u001b[2K\u001b[1A\u001b[2K\u001b[0G[+] 0.1s\n",
            "bioconda/linux-64  ⣾  \n",
            "bioconda/noarch    ⣾  \u001b[2K\u001b[1A\u001b[2K\u001b[1A\u001b[2K\u001b[0G[+] 0.2s\n",
            "bioconda/linux-64  ⣾  \n",
            "bioconda/noarch    ⣾  \u001b[2K\u001b[1A\u001b[2K\u001b[1A\u001b[2K\u001b[0Gbioconda/linux-64                                             No change\n",
            "bioconda/noarch                                               No change\n",
            "[+] 0.3s\n",
            "\u001b[2K\u001b[1A\u001b[2K\u001b[0G\u001b[?25h\n",
            "Pinned packages:\n",
            "  - python 3.8.*\n",
            "  - python 3.8.*\n",
            "  - python_abi 3.8.* *cp38*\n",
            "  - cudatoolkit 11.2.*\n",
            "\n",
            "\n",
            "Transaction\n",
            "\n",
            "  Prefix: /usr/local\n",
            "\n",
            "  All requested packages already installed\n",
            "\n",
            "\u001b[?25l\u001b[2K\u001b[0G\u001b[?25h\n",
            "real\t0m13.345s\n",
            "user\t0m11.513s\n",
            "sys\t0m0.949s\n"
          ]
        }
      ]
    },
    {
      "cell_type": "markdown",
      "source": [
        "It is also possible to install and interact with PyMOL's command mode:"
      ],
      "metadata": {
        "id": "0snRaFQsk7qu"
      }
    },
    {
      "cell_type": "code",
      "source": [
        "!time mamba install schrodinger::pymol"
      ],
      "metadata": {
        "id": "lC3aRpzwlEU4",
        "colab": {
          "base_uri": "https://localhost:8080/"
        },
        "outputId": "22ef8dc0-f614-4a6d-9c5d-bf77eea1283b"
      },
      "execution_count": 20,
      "outputs": [
        {
          "output_type": "stream",
          "name": "stdout",
          "text": [
            "\n",
            "                  __    __    __    __\n",
            "                 /  \\  /  \\  /  \\  /  \\\n",
            "                /    \\/    \\/    \\/    \\\n",
            "███████████████/  /██/  /██/  /██/  /████████████████████████\n",
            "              /  / \\   / \\   / \\   / \\  \\____\n",
            "             /  /   \\_/   \\_/   \\_/   \\    o \\__,\n",
            "            / _/                       \\_____/  `\n",
            "            |/\n",
            "        ███╗   ███╗ █████╗ ███╗   ███╗██████╗  █████╗\n",
            "        ████╗ ████║██╔══██╗████╗ ████║██╔══██╗██╔══██╗\n",
            "        ██╔████╔██║███████║██╔████╔██║██████╔╝███████║\n",
            "        ██║╚██╔╝██║██╔══██║██║╚██╔╝██║██╔══██╗██╔══██║\n",
            "        ██║ ╚═╝ ██║██║  ██║██║ ╚═╝ ██║██████╔╝██║  ██║\n",
            "        ╚═╝     ╚═╝╚═╝  ╚═╝╚═╝     ╚═╝╚═════╝ ╚═╝  ╚═╝\n",
            "\n",
            "        mamba (1.1.0) supported by @QuantStack\n",
            "\n",
            "        GitHub:  https://github.com/mamba-org/mamba\n",
            "        Twitter: https://twitter.com/QuantStack\n",
            "\n",
            "█████████████████████████████████████████████████████████████\n",
            "\n",
            "\n",
            "Looking for: ['schrodinger::pymol']\n",
            "\n",
            "conda-forge/linux-64                                        Using cache\n",
            "conda-forge/noarch                                          Using cache\n",
            "\u001b[?25l\u001b[2K\u001b[0G[+] 0.0s\n",
            "\u001b[2K\u001b[1A\u001b[2K\u001b[0G[+] 0.1s\n",
            "schrodinger/linux-64  ⣾  \n",
            "schrodinger/noarch    ⣾  \u001b[2K\u001b[1A\u001b[2K\u001b[1A\u001b[2K\u001b[0G[+] 0.2s\n",
            "schrodinger/linux-64  ⣾  \n",
            "schrodinger/noarch    ⣾  \u001b[2K\u001b[1A\u001b[2K\u001b[1A\u001b[2K\u001b[0Gschrodinger/linux-64                                          No change\n",
            "schrodinger/noarch                                            No change\n",
            "\u001b[?25h\n",
            "Pinned packages:\n",
            "  - python 3.8.*\n",
            "  - python 3.8.*\n",
            "  - python_abi 3.8.* *cp38*\n",
            "  - cudatoolkit 11.2.*\n",
            "\n",
            "\n",
            "Transaction\n",
            "\n",
            "  Prefix: /usr/local\n",
            "\n",
            "  Updating specs:\n",
            "\n",
            "   - schrodinger::pymol\n",
            "   - ca-certificates\n",
            "   - certifi\n",
            "   - openssl\n",
            "\n",
            "\n",
            "  Package  Version  Build           Channel         Size\n",
            "──────────────────────────────────────────────────────────\n",
            "  Reinstall:\n",
            "──────────────────────────────────────────────────────────\n",
            "\n",
            "  \u001b[32mo pymol\u001b[0m    2.5.4  py38hffc77be_0  schrodinger         \n",
            "\n",
            "  Summary:\n",
            "\n",
            "  Reinstall: 0 packages\n",
            "\n",
            "  Total download: 0 B\n",
            "\n",
            "──────────────────────────────────────────────────────────\n",
            "\n",
            "\n",
            "\u001b[?25l\u001b[2K\u001b[0G\u001b[?25h\n",
            "real\t0m8.312s\n",
            "user\t0m7.361s\n",
            "sys\t0m0.480s\n"
          ]
        }
      ]
    },
    {
      "cell_type": "markdown",
      "source": [
        "## 3.3 Install PubChemPy"
      ],
      "metadata": {
        "id": "m2s6CG1-Y6p2"
      }
    },
    {
      "cell_type": "code",
      "source": [
        "!mamba install -c mcs07 pubchempy"
      ],
      "metadata": {
        "id": "hn6rzbmWcD0G",
        "colab": {
          "base_uri": "https://localhost:8080/"
        },
        "outputId": "f684272b-6291-44f3-d6f4-5eb62f441e80"
      },
      "execution_count": 21,
      "outputs": [
        {
          "output_type": "stream",
          "name": "stdout",
          "text": [
            "\n",
            "                  __    __    __    __\n",
            "                 /  \\  /  \\  /  \\  /  \\\n",
            "                /    \\/    \\/    \\/    \\\n",
            "███████████████/  /██/  /██/  /██/  /████████████████████████\n",
            "              /  / \\   / \\   / \\   / \\  \\____\n",
            "             /  /   \\_/   \\_/   \\_/   \\    o \\__,\n",
            "            / _/                       \\_____/  `\n",
            "            |/\n",
            "        ███╗   ███╗ █████╗ ███╗   ███╗██████╗  █████╗\n",
            "        ████╗ ████║██╔══██╗████╗ ████║██╔══██╗██╔══██╗\n",
            "        ██╔████╔██║███████║██╔████╔██║██████╔╝███████║\n",
            "        ██║╚██╔╝██║██╔══██║██║╚██╔╝██║██╔══██╗██╔══██║\n",
            "        ██║ ╚═╝ ██║██║  ██║██║ ╚═╝ ██║██████╔╝██║  ██║\n",
            "        ╚═╝     ╚═╝╚═╝  ╚═╝╚═╝     ╚═╝╚═════╝ ╚═╝  ╚═╝\n",
            "\n",
            "        mamba (1.1.0) supported by @QuantStack\n",
            "\n",
            "        GitHub:  https://github.com/mamba-org/mamba\n",
            "        Twitter: https://twitter.com/QuantStack\n",
            "\n",
            "█████████████████████████████████████████████████████████████\n",
            "\n",
            "\n",
            "Looking for: ['pubchempy']\n",
            "\n",
            "conda-forge/linux-64                                        Using cache\n",
            "conda-forge/noarch                                          Using cache\n",
            "\u001b[?25l\u001b[2K\u001b[0G[+] 0.0s\n",
            "\u001b[2K\u001b[1A\u001b[2K\u001b[0G[+] 0.1s\n",
            "mcs07/linux-64  ⣾  \n",
            "mcs07/noarch    ⣾  \u001b[2K\u001b[1A\u001b[2K\u001b[1A\u001b[2K\u001b[0G[+] 0.2s\n",
            "mcs07/linux-64  ⣾  \n",
            "mcs07/noarch    ⣾  \u001b[2K\u001b[1A\u001b[2K\u001b[1A\u001b[2K\u001b[0G[+] 0.3s\n",
            "mcs07/linux-64  ⣾  \n",
            "mcs07/noarch    ⣾  \u001b[2K\u001b[1A\u001b[2K\u001b[1A\u001b[2K\u001b[0G[+] 0.4s\n",
            "mcs07/linux-64  ⣾  \n",
            "mcs07/noarch    ⣾  \u001b[2K\u001b[1A\u001b[2K\u001b[1A\u001b[2K\u001b[0Gmcs07/linux-64                                                No change\n",
            "mcs07/noarch                                                  No change\n",
            "\u001b[?25h\n",
            "Pinned packages:\n",
            "  - python 3.8.*\n",
            "  - python 3.8.*\n",
            "  - python_abi 3.8.* *cp38*\n",
            "  - cudatoolkit 11.2.*\n",
            "\n",
            "\n",
            "Transaction\n",
            "\n",
            "  Prefix: /usr/local\n",
            "\n",
            "  All requested packages already installed\n",
            "\n",
            "\u001b[?25l\u001b[2K\u001b[0G\u001b[?25h"
          ]
        }
      ]
    },
    {
      "cell_type": "markdown",
      "source": [
        "# 4. Current Directory and Files"
      ],
      "metadata": {
        "id": "VhX7CGB4mVIe"
      }
    },
    {
      "cell_type": "code",
      "metadata": {
        "id": "nUQXebv-Q42s",
        "colab": {
          "base_uri": "https://localhost:8080/",
          "height": 36
        },
        "outputId": "22896437-7a89-466d-aa7b-6cc3e69439be"
      },
      "source": [
        "# What directory are we in?\n",
        "%pwd"
      ],
      "execution_count": 22,
      "outputs": [
        {
          "output_type": "execute_result",
          "data": {
            "text/plain": [
              "'/content'"
            ],
            "application/vnd.google.colaboratory.intrinsic+json": {
              "type": "string"
            }
          },
          "metadata": {},
          "execution_count": 22
        }
      ]
    },
    {
      "cell_type": "code",
      "source": [
        "# What files and directories are already here?\n",
        "%ls"
      ],
      "metadata": {
        "id": "G_aMY9Z4qe40",
        "colab": {
          "base_uri": "https://localhost:8080/"
        },
        "outputId": "f23fd65a-b9c8-4188-c38f-4a96637a0ce1"
      },
      "execution_count": 23,
      "outputs": [
        {
          "output_type": "stream",
          "name": "stdout",
          "text": [
            "condacolab_install.log  \u001b[0m\u001b[01;34msample_data\u001b[0m/\n"
          ]
        }
      ]
    },
    {
      "cell_type": "markdown",
      "metadata": {
        "id": "afMZlQrsagW-"
      },
      "source": [
        "# 5. Import Packages\n",
        "\n",
        "We will import all the Python packages we need to explore cheminformatics: RDKit, molecular graphics packages, and other important packages for data science and visualizing molecules using vector graphics."
      ]
    },
    {
      "cell_type": "markdown",
      "source": [
        "\n",
        "## 5.1 Import RDKit\n",
        "\n",
        "There are lots of useful websites explaining how to use RDKit:\n",
        "\n",
        "*   [Getting Started with the RDKit in Python](https://rdkit.readthedocs.io/en/latest/GettingStartedInPython.html)\n",
        "* [Greg Landrum's RDKit Blog](https://greglandrum.github.io/rdkit-blog)\n",
        "** [Generating 3D conformers of molecules](https://greglandrum.github.io/rdkit-blog/conformers/exploration/2021/02/22/etkdg-and-distance-constraints.html)\n",
        "*   https://xinhaoli74.github.io/blog/\n",
        "**    https://xinhaoli74.github.io/blog/rdkit/2021/01/06/rdkit.html\n",
        "\n"
      ],
      "metadata": {
        "id": "Eoq2G5dqenO2"
      }
    },
    {
      "cell_type": "code",
      "metadata": {
        "id": "VkxvAuOXxWHf",
        "colab": {
          "base_uri": "https://localhost:8080/"
        },
        "outputId": "00312baa-4c87-49e1-85f4-363b72ebb310"
      },
      "source": [
        "import rdkit\n",
        "from rdkit import Chem\n",
        "from rdkit.Chem import Draw # to draw molecules\n",
        "from rdkit.Chem.Draw import IPythonConsole # to draw inline in iPython\n",
        "from rdkit.Chem import AllChem  # we need this to compute 2D depictions\n",
        "from rdkit.Chem import rdDepictor  # to generate 2D depictions of molecules\n",
        "from rdkit.Chem.Draw import rdMolDraw2D # to draw 2D molecules using vectors\n",
        "from rdkit.Chem import PandasTools # we use this to read in SDFs into pandas dataframes\n",
        "\n",
        "# What version of RDKit are we running?\n",
        "print(rdkit.__version__)"
      ],
      "execution_count": 24,
      "outputs": [
        {
          "output_type": "stream",
          "name": "stdout",
          "text": [
            "2022.09.4\n"
          ]
        }
      ]
    },
    {
      "cell_type": "markdown",
      "source": [
        "## 5.2 Import Molecular Graphics Packages"
      ],
      "metadata": {
        "id": "DAv2IDy7rNU2"
      }
    },
    {
      "cell_type": "code",
      "source": [
        "from google.colab import output\n",
        "output.enable_custom_widget_manager()"
      ],
      "metadata": {
        "id": "fICtBuBhMZxg"
      },
      "execution_count": 25,
      "outputs": []
    },
    {
      "cell_type": "code",
      "source": [
        "from ipywidgets import interactive, VBox\n",
        "\n",
        "from pathlib import Path"
      ],
      "metadata": {
        "id": "5j8VC2YOtjo2"
      },
      "execution_count": 26,
      "outputs": []
    },
    {
      "cell_type": "code",
      "source": [
        "# 3D Molecules\n",
        "import py3Dmol # for inline 3D interactive views of molecules\n",
        "\n",
        "import nglview # for 3D interactive views of molecules & grids"
      ],
      "metadata": {
        "id": "a9GcjC2qring"
      },
      "execution_count": 27,
      "outputs": []
    },
    {
      "cell_type": "code",
      "metadata": {
        "id": "F1jo7dmpCa8Z"
      },
      "source": [
        "# To show molecules interactively in 3D:\n",
        "IPythonConsole.ipython_3d = True\n",
        "\n",
        "# later on, get a conformer from an RDKit molecule, and then use:\n",
        "# IPythonConsole.drawMol3D(m, confID=cids[0])\n",
        "# See also: https://greglandrum.github.io/rdkit-blog/conformers/exploration/2021/02/22/etkdg-and-distance-constraints.html"
      ],
      "execution_count": 28,
      "outputs": []
    },
    {
      "cell_type": "markdown",
      "source": [
        "\n",
        "## 5.3 Import copy, pandas, and SVG"
      ],
      "metadata": {
        "id": "77Z8AI4_rfOc"
      }
    },
    {
      "cell_type": "code",
      "source": [
        "# Copying Objects\n",
        "from copy import deepcopy  # we need deep copies of the molecule to avoid losing 3D coordinates\n",
        "\n",
        "# Pandas DataFrames\n",
        "import pandas as pd # we need this to make copies of pandas columns of molecules\n",
        "\n",
        "# Plotting Graphs\n",
        "# for pylab-style plotting: %pylab inline # see: https://stackoverflow.com/questions/20961287/what-is-pylab#20962070\n",
        "\n",
        "# Draw Vectors in Notebooks\n",
        "from IPython.display import SVG # to use Scalar Vector Graphics (SVG) not bitmaps, for cleaner lines"
      ],
      "metadata": {
        "id": "ZY-GqbBPrsV-"
      },
      "execution_count": 29,
      "outputs": []
    },
    {
      "cell_type": "markdown",
      "metadata": {
        "id": "iAeOPn9pDWw7"
      },
      "source": [
        "# 6. Let's Draw Some Molecules!\n",
        "\n",
        "We can create molecules by starting from a string that describes the elements, bonds (and their connectivity), stereochemistry, and charge of the molecule, using SMILES strings.\n",
        "\n",
        "## What is a SMILES String?\n",
        "\n",
        "SMILES stands for [Simplified Molecular Input Line Entry System](https://en.wikipedia.org/wiki/Simplified_molecular-input_line-entry_system). Atoms in a molecule are represented by their element name. Single bonds are implied, but double bonds are written using equals-signs, '='; and triple bonds are written using hash symbols, '#'. Branched parts of molecules are written inside parentheses, and these can be nested. Rings are closed by writing numeric digits after the two atoms connecting up the ring, and atoms in aromatic rings are written using lower case (while aliphatic ring atoms are in upper case):\n",
        "\n",
        "<p>\n",
        "<img src=\"https://upload.wikimedia.org/wikipedia/commons/0/00/SMILES.png\" width=\"400\"/>\n",
        "</br>\n",
        "<em>Image Credit: Original by <a href=\"https://commons.wikimedia.org/wiki/User:Fdardel\">Fdardel</a>, slight edit by <a href=\"https://commons.wikimedia.org/wiki/User:DMacks\">DMacks</a>, <a href=\"https://commons.wikimedia.org/wiki/File:SMILES.png\">SMILES</a>, <a href=\"https://creativecommons.org/licenses/by-sa/3.0/legalcode\" rel=\"license\">CC BY-SA 3.0</a></em>\n",
        "</p>\n",
        "\n",
        "Daylight has some *great* resources on SMILES, and SMARTS, which is the regular expression variant of SMILES:\n",
        "\n",
        "* SMILES:\n",
        "  * [SMILES Tutorial](https://daylight.com/dayhtml_tutorials/languages/smiles/index.html)\n",
        "  * [SMILES Examples](https://www.daylight.com/dayhtml_tutorials/languages/smiles/smiles_examples.html)\n",
        "* SMARTS:\n",
        "  * [SMARTS Tutorial](https://www.daylight.com/dayhtml_tutorials/languages/smarts/index.html)\n",
        "  * [SMARTS Examples](https://daylight.com/dayhtml_tutorials/languages/smarts/smarts_examples.html)\n"
      ]
    },
    {
      "cell_type": "code",
      "metadata": {
        "id": "emvivISdhmbH",
        "colab": {
          "base_uri": "https://localhost:8080/",
          "height": 167
        },
        "outputId": "cce0cca8-4fef-4c83-f602-378362f7fa8a"
      },
      "source": [
        "# Here, we have a 6-membered aromatic ring consisting only of carbons,\n",
        "# connected to a carbon atom that is in turn connected to an oxygen atom\n",
        "# via a double bond, and also bonded to an amine nitrogen atom:\n",
        "\n",
        "mol = Chem.MolFromSmiles('c1ccccc1C(=O)N')\n",
        "\n",
        "# If we give just the RDKit molecule object's name, it will be drawn in 2D:\n",
        "\n",
        "mol"
      ],
      "execution_count": 30,
      "outputs": [
        {
          "output_type": "execute_result",
          "data": {
            "text/plain": [
              "<rdkit.Chem.rdchem.Mol at 0x7f925d503890>"
            ],
            "image/png": "[encoded data removed]"
          },
          "metadata": {},
          "execution_count": 30
        }
      ]
    },
    {
      "cell_type": "markdown",
      "source": [
        "Each atom has an index, a counter that gives each atom a unique integer.\n",
        "\n",
        "Let's define a function called \"``set_atom_index_labels``\" to set atom labels by their index. It takes as input the following parameters:\n",
        "\n",
        " * ``mol``, an RDKit molecule\n",
        " * ``label``, a string consisting of one of these options:\n",
        "  * ``'atomLabel'``\n",
        "  * ``'molAtomMapNumber'``\n",
        "  * ``'atomNote'``\n",
        " * ``one_based``, optional; a boolean parameter which by default is set to ``False``, meaning atoms are numbered from 0 by default; if set to ``True``, then they are numbered from 1.\n"
      ],
      "metadata": {
        "id": "AGVvlHmxBEJa"
      }
    },
    {
      "cell_type": "code",
      "source": [
        "def set_atom_index_labels(mol, label, one_based=False):\n",
        "  \"\"\"See https://stackoverflow.com/questions/53321453/rdkit-how-to-show-moleculars-atoms-number?answertab=active#tab-top\"\"\"\n",
        "  for atom in mol.GetAtoms():\n",
        "    if one_based:\n",
        "      str_index = str(atom.GetIdx()+1)\n",
        "    else:\n",
        "      str_index = str(atom.GetIdx())\n",
        "    atom.SetProp(label, str_index)\n",
        "  return mol"
      ],
      "metadata": {
        "id": "X6kgN2hz22W6"
      },
      "execution_count": 31,
      "outputs": []
    },
    {
      "cell_type": "code",
      "metadata": {
        "id": "ADF4RZwoBaKu",
        "colab": {
          "base_uri": "https://localhost:8080/",
          "height": 167
        },
        "outputId": "cd1dab11-275c-4064-deae-c0a431710bfc"
      },
      "source": [
        "mol = Chem.MolFromSmiles('c1ccccc1C(=O)N')\n",
        "set_atom_index_labels(mol, 'atomLabel', one_based=True)"
      ],
      "execution_count": 32,
      "outputs": [
        {
          "output_type": "execute_result",
          "data": {
            "text/plain": [
              "<rdkit.Chem.rdchem.Mol at 0x7f925d5039e0>"
            ],
            "image/png": "[encoded data removed]"
          },
          "metadata": {},
          "execution_count": 32
        }
      ]
    },
    {
      "cell_type": "code",
      "metadata": {
        "id": "d2D3s1JZBgs8",
        "colab": {
          "base_uri": "https://localhost:8080/",
          "height": 167
        },
        "outputId": "4b16b193-cf19-44cf-d776-8c72b64e6fab"
      },
      "source": [
        "mol = Chem.MolFromSmiles('c1ccccc1C(=O)N')\n",
        "set_atom_index_labels(mol, 'molAtomMapNumber', one_based=True)"
      ],
      "execution_count": 33,
      "outputs": [
        {
          "output_type": "execute_result",
          "data": {
            "text/plain": [
              "<rdkit.Chem.rdchem.Mol at 0x7f925d503a50>"
            ],
            "image/png": "[encoded data removed]"
          },
          "metadata": {},
          "execution_count": 33
        }
      ]
    },
    {
      "cell_type": "code",
      "metadata": {
        "id": "hJGlgjinB4g5",
        "colab": {
          "base_uri": "https://localhost:8080/",
          "height": 167
        },
        "outputId": "17ed5a1c-e12c-43f2-dab6-a570aa216b20"
      },
      "source": [
        "mol = Chem.MolFromSmiles('c1ccccc1C(=O)N')\n",
        "set_atom_index_labels(mol, 'atomNote', one_based=True)"
      ],
      "execution_count": 34,
      "outputs": [
        {
          "output_type": "execute_result",
          "data": {
            "text/plain": [
              "<rdkit.Chem.rdchem.Mol at 0x7f925d503c80>"
            ],
            "image/png": "[encoded data removed]"
          },
          "metadata": {},
          "execution_count": 34
        }
      ]
    },
    {
      "cell_type": "markdown",
      "source": [
        "As of 2022, there are some [new features and refinements in the way RDKit draws molecules (and reactions)](https://greglandrum.github.io/rdkit-blog/technical/2022/03/18/refactoring-moldraw2d.html). Here's one example, using the bimap renderer, Cairo, which allows us to control the font size and relative scaling of the bond lengths (and hence, the molecule):"
      ],
      "metadata": {
        "id": "RCLy1M1ID1lp"
      }
    },
    {
      "cell_type": "code",
      "source": [
        "from IPython.core.display import Image\n",
        "\n",
        "def mol_to_image(molecule, scaling=20, font_size=24):\n",
        "  \"\"\"Draw a molecule with the supplied RDKit molecule object,\n",
        "  and allow control of scaling and font size.\n",
        "  The units of scaling are ~pixels/Angstrom\"\"\"\n",
        "  d2d = Draw.MolDraw2DCairo(-1,-1)\n",
        "  d2d.drawOptions().scalingFactor = scaling  # units are roughly pixels/angstrom\n",
        "  d2d.drawOptions().fixedFontSize = font_size\n",
        "  d2d.DrawMolecule(molecule)\n",
        "  d2d.FinishDrawing()\n",
        "  Image(d2d.GetDrawingText())\n",
        "  return Image(d2d.GetDrawingText())\n",
        "\n",
        "def smiles_to_image(molecule_SMILES, scaling=20, font_size=24):\n",
        "  \"\"\"Draw a molecule with the supplied SMILES string,\n",
        "  and allow control of scaling and font size.\n",
        "  The units of scaling are ~pixels/Angstrom\"\"\"\n",
        "  image = mol_to_image(Chem.MolFromSmiles(molecule_SMILES), \n",
        "                       scaling=scaling, font_size=font_size)\n",
        "  return image\n",
        "\n",
        "ezetimibe_SMILES = 'O=C1[C@H](CC[C@H](O)c2ccc(F)cc2)[C@@H](c2ccc(O)cc2)N1c1ccc(F)cc1'\n",
        "smiles_to_image(ezetimibe_SMILES, font_size=10)"
      ],
      "metadata": {
        "id": "IeGIKr2FD4be",
        "colab": {
          "base_uri": "https://localhost:8080/",
          "height": 263
        },
        "outputId": "62cf9c92-c170-4c16-9504-22754a95e752"
      },
      "execution_count": 58,
      "outputs": [
        {
          "output_type": "execute_result",
          "data": {
            "image/png": "[encoded data removed]",
            "text/plain": [
              "<IPython.core.display.Image object>"
            ]
          },
          "metadata": {},
          "execution_count": 58
        }
      ]
    },
    {
      "cell_type": "code",
      "source": [
        "aspirin_SMILES = 'O=C(C)Oc1ccccc1C(=O)O'\n",
        "smiles_to_image(aspirin_SMILES, font_size=30)"
      ],
      "metadata": {
        "colab": {
          "base_uri": "https://localhost:8080/",
          "height": 153
        },
        "id": "eKzNqXfl9bdK",
        "outputId": "14c28729-30cf-4c5d-caee-a4520497e2c2"
      },
      "execution_count": 59,
      "outputs": [
        {
          "output_type": "execute_result",
          "data": {
            "image/png": "[encoded data removed]",
            "text/plain": [
              "<IPython.core.display.Image object>"
            ]
          },
          "metadata": {},
          "execution_count": 59
        }
      ]
    },
    {
      "cell_type": "markdown",
      "metadata": {
        "id": "fM0bOfyfIh6V"
      },
      "source": [
        "# 7. Draw Sharper Molecules Using Vectors, not Bitmaps\n",
        "\n",
        "This code uses SVG (Scalar Vector Graphics) to depict molecules using vector graphics.\n",
        "\n",
        "See: https://leedavies.dev/index.php/2018/10/06/rdkit-in-jupyter-notebooks/"
      ]
    },
    {
      "cell_type": "code",
      "metadata": {
        "id": "Kk6O9szTCjpL"
      },
      "source": [
        "def draw_mol_with_SVG(mol, molSize=(450,150)):\n",
        "  \"\"\"Use SVG to draw an RDKit molecule, mol.\"\"\"\n",
        "  mc = Chem.Mol(mol.ToBinary())\n",
        "  if not mc.GetNumConformers():\n",
        "    # Compute 2D coordinates\n",
        "    rdDepictor.Compute2DCoords(mc)\n",
        "\n",
        "  # Initialize the drawer with the size\n",
        "  drawer = rdMolDraw2D.MolDraw2DSVG(molSize[0],molSize[1])\n",
        "\n",
        "  # Draw the molcule\n",
        "  drawer.DrawMolecule(mc)\n",
        "  drawer.FinishDrawing()\n",
        "\n",
        "  # Get the SVG string\n",
        "  svg = drawer.GetDrawingText()\n",
        "\n",
        "  # Fix the SVG string and display it\n",
        "  display(SVG(svg.replace('svg:','')))\n",
        "\n",
        "mol = Chem.MolFromSmiles('c1ccccc1C(=O)N')\n",
        "draw_mol_with_SVG(mol)"
      ],
      "execution_count": null,
      "outputs": []
    },
    {
      "cell_type": "markdown",
      "metadata": {
        "id": "6pNVGFlZ-S92"
      },
      "source": [
        "# 8. Draw Molecules in a Grid\n",
        "\n",
        "The first example shows how we can describe benzene in different ways using SMILES, but RDKit draws all the resulting molecules in the same way:"
      ]
    },
    {
      "cell_type": "code",
      "source": [
        "benzene_smiles = ['C1C=CC=CC=1',\n",
        "                  'C1=CC=CC=C1',\n",
        "                  'c1ccccc1',\n",
        "                  'C1:C:C:C:C:C:1']\n",
        "benzene_names = ['benzene (single/double)',\n",
        "                 'benzene (double/single)',\n",
        "                 'benzene (aromatic cabons)',\n",
        "                 'benzene (aromatic bonds)']\n",
        "benzene_mols = [Chem.MolFromSmiles(s) for s in benzene_smiles]"
      ],
      "metadata": {
        "id": "WUbMYQIFi8HF"
      },
      "execution_count": null,
      "outputs": []
    },
    {
      "cell_type": "code",
      "source": [
        "Draw.MolsToGridImage(benzene_mols, molsPerRow=4, subImgSize=(150,150), \n",
        "                     legends=['  '+n+'  ' for n in benzene_names],\n",
        "                     useSVG=True)"
      ],
      "metadata": {
        "id": "mfB-KfFEl1-A"
      },
      "execution_count": null,
      "outputs": []
    },
    {
      "cell_type": "markdown",
      "source": [
        "If we number the atoms, we can see that RDKit always chooses to draw the ring bonds using alternating double then single bonds, regardless of how we specified the SMILES string:"
      ],
      "metadata": {
        "id": "McZeip7blbgV"
      }
    },
    {
      "cell_type": "code",
      "source": [
        "for m in benzene_mols:\n",
        "  set_atom_index_labels(m, 'atomNote', one_based=True)\n",
        "\n",
        "Draw.MolsToGridImage(benzene_mols, molsPerRow=4, subImgSize=(150,150), \n",
        "                     legends=['  '+n+'  ' for n in benzene_names],\n",
        "                     useSVG=True)"
      ],
      "metadata": {
        "id": "W0f7rPWil_u4"
      },
      "execution_count": null,
      "outputs": []
    },
    {
      "cell_type": "code",
      "metadata": {
        "id": "-D4lfJTWoM2i"
      },
      "source": [
        "smiles = [ 'N#CC(OC1OC(COC2OC(CO)C(O)C(O)C2O)C(O)C(O)C1O)c1ccccc1',\n",
        "           'c1ccc2c(c1)ccc1c2ccc2c3ccccc3ccc21',\n",
        "           'C=C(C)C1Cc2c(ccc3c2OC2COc4cc(OC)c(OC)cc4C2C3=O)O1',\n",
        "           'ClC(Cl)=C(c1ccc(Cl)cc1)c1ccc(Cl)cc1']\n",
        "\n",
        "mols = [Chem.MolFromSmiles(smi) for smi in smiles]\n",
        "\n",
        "Draw.MolsToGridImage(mols, molsPerRow=2, subImgSize=(300, 300), legends=smiles)"
      ],
      "execution_count": null,
      "outputs": []
    },
    {
      "cell_type": "markdown",
      "source": [
        "There are lots of ways of highlighting molecules in RDKit, too; see http://rdkit.blogspot.com/2020/04/new-drawing-options-in-202003-release.html."
      ],
      "metadata": {
        "id": "LWCopqnqgIgA"
      }
    },
    {
      "cell_type": "markdown",
      "source": [
        "## Highlighting Molecules with SMARTS\n",
        "\n",
        "RDKit lets us highlight substructures in molecules; we use regular expressions that describe the substructures. The simplest version looks just like a SMILES string, but if we need more control, we can use SMARTS expressions. Many operating systems and programming languages support wildcards, like '\\*' matching any file in a shell, or '\\*.txt' matching all the text files.\n",
        "\n",
        "Let's define a method to draw a molecule and highlight a substructure if present:"
      ],
      "metadata": {
        "id": "O6UByhstgCY6"
      }
    },
    {
      "cell_type": "code",
      "source": [
        "def draw_mol_highlighted(mol, substructure, size=(400, 200)):\n",
        "    \"\"\"Based on code from betelgeuse on Stack Overflow;\n",
        "    See: https://stackoverflow.com/questions/69735586/how-to-highlight-the-substructure-of-a-molecule-with-thick-red-lines-in-rdkit-as\"\"\"\n",
        "    mol = deepcopy(mol)\n",
        "    substructure = deepcopy(substructure)\n",
        "    drawer = rdMolDraw2D.MolDraw2DSVG(size[0], size[1])\n",
        "    \n",
        "    # highlightAtoms expects only one tuple, not tuple of tuples. So it needs to be merged into a single tuple\n",
        "    matches = sum(mol.GetSubstructMatches(substructure), ())\n",
        "    drawer.DrawMolecule(mol, highlightAtoms=matches)\n",
        "    \n",
        "    drawer.FinishDrawing()\n",
        "    svg = drawer.GetDrawingText()\n",
        "    \n",
        "    return svg.replace('svg:','')\n",
        "\n",
        "\n",
        "mol = Chem.MolFromSmiles('c1cc(C(=O)O)c(OC(=O)C)cc1')\n",
        "substructure = Chem.MolFromSmarts('C(=O)O')\n",
        "SVG(draw_mol_highlighted(mol, substructure))"
      ],
      "metadata": {
        "id": "Q0iE0HzX2siY"
      },
      "execution_count": null,
      "outputs": []
    },
    {
      "cell_type": "markdown",
      "source": [
        "Instead of using SMILES strings for our substructures, we can use SMARTS regular expressions. Daylight offers some great [SMARTS examples](https://daylight.com/dayhtml_tutorials/languages/smarts/smarts_examples.html) and a [tutorial about how to write SMARTS expressions](https://www.daylight.com/dayhtml_tutorials/languages/smarts/), as well as detailed [theory about SMARTS](https://www.daylight.com/dayhtml/doc/theory/theory.smarts.html). You can also check your SMARTS expressions visually using the [SMARTS.plus](https://smarts.plus) website. \n",
        "\n",
        "A SMILES string like ``'C(=O)O'`` matches both carboxylic acid groups and ester linkages. Insteac, we can use a SMARTS expression that only matches carboxylic acids: ``'[CX3](=O)[OX2H1]'``:"
      ],
      "metadata": {
        "id": "syvI6Dhs9SXg"
      }
    },
    {
      "cell_type": "code",
      "source": [
        "substructure = Chem.MolFromSmarts('[CX3](=O)[OX2H1]')\n",
        "SVG(draw_mol_highlighted(mol, substructure))"
      ],
      "metadata": {
        "id": "Qwjkb7FL9WI2"
      },
      "execution_count": null,
      "outputs": []
    },
    {
      "cell_type": "markdown",
      "source": [
        "Here, we use the SMARTS for a methyl group, ``'[CD1H3]'``, where the square brackets refer to a single atom, in this case a carbon atom (``C``) of degree one (``D1``), _i.e._, one explicit connection; and three attached hydrogens (``H3``):"
      ],
      "metadata": {
        "id": "8hscnZ785bqJ"
      }
    },
    {
      "cell_type": "code",
      "source": [
        "substructure = Chem.MolFromSmarts('[CD1H3]') # methyl groups\n",
        "SVG(draw_mol_highlighted(mol, substructure))"
      ],
      "metadata": {
        "id": "DaIF1Izn4YXY"
      },
      "execution_count": null,
      "outputs": []
    },
    {
      "cell_type": "markdown",
      "metadata": {
        "id": "BGJ0Eid5XcNQ"
      },
      "source": [
        "# 9. Download 3D Structures of Drugs from DrugBank\n",
        "\n",
        "Free access to DrugBank is permitted for students, academics and non-profits; but you need to apply for access, then use your username and password to login or `wget` files (using `--user` and `--password`).\n",
        "\n",
        "See: https://go.drugbank.com/releases/latest#structures\n",
        "\n",
        "We will download the 3D-structures of all the drugs in DrugBank (including approved, investigational, withdrawn, experimental, and nutraceuticals)."
      ]
    },
    {
      "cell_type": "code",
      "metadata": {
        "id": "eto5uBeBJfu8"
      },
      "source": [
        "### WARNING! NEVER EMBED USERNAME AND PASSWORD IN CODE!!! ###\n",
        "### ESPECIALLY IF YOU'RE SAVING OR COMMITTING CHANGES!!! ###\n",
        "\n",
        "import getpass # Helps to hide characters while typing passwords\n",
        "\n",
        "user = getpass.getpass(\"DrugBank username: \")\n",
        "pwd = getpass.getpass(\"DrugBank password: \")\n",
        "\n",
        "!wget --user $user --password $pwd https://go.drugbank.com/releases/5-1-8/downloads/all-3d-structures\n",
        "#!wget --user $user --password $pwd https://go.drugbank.com/releases/5-1-8/downloads/all-structures\n",
        "#!wget --user $user --password $pwd https://go.drugbank.com/releases/5-1-8/downloads/all-structure-links"
      ],
      "execution_count": null,
      "outputs": []
    },
    {
      "cell_type": "code",
      "metadata": {
        "id": "2wTXpq_MU-wg"
      },
      "source": [
        "# Unzip the downloaded 3D structures, and rename the file to \n",
        "# remove space:\n",
        "%ls\n",
        "!unzip all-3d-structures\n",
        "#!unzip all-structures      # If downloading 2D drugs\n",
        "#!unzip all-structure-links # If downloading info about drugs\n",
        "!mv 3D\\ structures.sdf all-drugbank-3D.sdf\n",
        "%ls"
      ],
      "execution_count": null,
      "outputs": []
    },
    {
      "cell_type": "markdown",
      "metadata": {
        "id": "VDbL-Lp5dxV2"
      },
      "source": [
        "# 10. Get 3D Structures of Drugs from DrugBank\n",
        "\n",
        "This will include everything: approved, withdrawn, illicit drugs and nutraceuticals, etc."
      ]
    },
    {
      "cell_type": "code",
      "metadata": {
        "id": "bOCR-1CkoPUD"
      },
      "source": [
        "%%time\n",
        "# Takes about 15s to load all the drugs into a Pandas dataframe...\n",
        "# Read in the 3D coordinates of all the drugs in DrugBank\n",
        "# See Susan Leung's Blopig post: https://www.blopig.com/blog/2017/02/using-rdkit-to-load-ligand-sdfs-into-pandas-dataframes/\n",
        "filename = 'all-drugbank-3D.sdf'\n",
        "drugbank = PandasTools.LoadSDF(filename)"
      ],
      "execution_count": null,
      "outputs": []
    },
    {
      "cell_type": "code",
      "metadata": {
        "id": "stuCE4oSrT7U"
      },
      "source": [
        "drugbank.info()"
      ],
      "execution_count": null,
      "outputs": []
    },
    {
      "cell_type": "code",
      "metadata": {
        "id": "YT3ISMLerZEx"
      },
      "source": [
        "drugbank[:3]"
      ],
      "execution_count": null,
      "outputs": []
    },
    {
      "cell_type": "code",
      "metadata": {
        "id": "Dl-ufyswrmvL"
      },
      "source": [
        "# Show just the drug's generic name, MW, and structure columns:\n",
        "\n",
        "drugbank_three = drugbank[['GENERIC_NAME', 'MOLECULAR_WEIGHT', 'ROMol']][:3]\n",
        "drugbank_three"
      ],
      "execution_count": null,
      "outputs": []
    },
    {
      "cell_type": "code",
      "source": [
        "# It seems Google Colab stops rendering molecules in pandas tables\n",
        "# after the first rendered table... One workaround is to explicitly render \n",
        "# the dataframe using HTML from IPython.core.display:\n",
        "\n",
        "from IPython.core.display import HTML\n",
        "HTML(drugbank_three.to_html(escape=False)) # might need to scroll a bit..."
      ],
      "metadata": {
        "id": "Nkt2OhKJprzE"
      },
      "execution_count": null,
      "outputs": []
    },
    {
      "cell_type": "markdown",
      "source": [
        "## 10.1 Interacting with a Grid of DrugBank Drugs\n",
        "\n",
        "We can use [mols2grid](https://pythonrepo.com/repo/cbouy-mols2grid) to view molecules in a grid, and can interact with it, re-sorting by properties, or searching by name or even SMARTS. You can type in \"acid\" in the search field and find all the drugs that have acid in their generic name, for example; or sort by molecular weight (MW).\n",
        "\n",
        "Note that unfortunately, [getting the selection from a mols2grid object fails on Google Colab--this is a known issue](https://github.com/cbouy/mols2grid/issues/20)."
      ],
      "metadata": {
        "id": "ZULf6TMLHQMR"
      }
    },
    {
      "cell_type": "code",
      "source": [
        "!time mamba install -y -c conda-forge mols2grid ipywidgets"
      ],
      "metadata": {
        "id": "R5BRWnRL7NZy"
      },
      "execution_count": null,
      "outputs": []
    },
    {
      "cell_type": "code",
      "source": [
        "from rdkit.Chem import Descriptors, Draw\n",
        "from ipywidgets import interact, widgets\n",
        "import urllib\n",
        "from IPython.display import display\n",
        "import mols2grid\n",
        "from google.colab import output\n",
        "output.enable_custom_widget_manager()"
      ],
      "metadata": {
        "id": "S3y7c-rO7e9q"
      },
      "execution_count": null,
      "outputs": []
    },
    {
      "cell_type": "code",
      "source": [
        "drugbank.rename(columns={'GENERIC_NAME':'Generic_Name', \n",
        "                         'MOLECULAR_WEIGHT':'MW',\n",
        "                         'JCHEM_PKA':'pKa',\n",
        "                         'DRUGBANK_ID':'DrugBank_ID'},\n",
        "                inplace=True)\n",
        "\n",
        "mols2grid.display(\n",
        "    drugbank,\n",
        "    # set the fields  displayed on the grid\n",
        "    subset=['DrugBank_ID', 'img', 'ID'],\n",
        "    # set the fields displayed on mouse hover\n",
        "    tooltip=['Generic_Name', 'MW']\n",
        ")"
      ],
      "metadata": {
        "id": "J6Manz3Y7oFg"
      },
      "execution_count": null,
      "outputs": []
    },
    {
      "cell_type": "markdown",
      "source": [
        "Try sorting by molecular weight (MW), then search for all molecules with \"acid\" in their name. You might need to scroll the table in the cell to see the \"Sort by\" and \"Search\" fields."
      ],
      "metadata": {
        "id": "ue-KgbUg1M5k"
      }
    },
    {
      "cell_type": "code",
      "source": [
        "# If you use the checkboxes to select molecules, it is possible to click on the \n",
        "# checkbox menu to the left of the \"Sort by\" menu, and then copy the selection \n",
        "# to the clipboard, or save as a SMILES or CSV.\n",
        "\n",
        "# On Google Colab, choose \"Copy to clipboard\", then paste what was copied\n",
        "# in a cell like this:\n",
        "# selection = <paste-the-dictionary-mols2grid-copied-here>\n",
        "\n",
        "# e.g., the three lowest MW acid-containing drugs in DrugBank are:\n",
        "selection = {1587:\"NC1(CC1)C(O)=O\",2844:\"C\\\\C=C(/N)C(O)=O\",1338:\"CC(=O)CC(O)=O\"}"
      ],
      "metadata": {
        "id": "vxkIixDN93ne"
      },
      "execution_count": null,
      "outputs": []
    },
    {
      "cell_type": "code",
      "source": [
        "# Alternatively, if not on Google Colab, you can retrieve the selected \n",
        "# entries in the dataframe programmatically:\n",
        "# (This programmatic method also fails in Google Colab) :-(\n",
        "mols2grid.get_selection()\n",
        "\n",
        "# Alternative method also fails on Google Colab, unfortunately:\n",
        "grid_selection = drugbank.iloc[list(mols2grid.get_selection().keys())]\n",
        "grid_selection"
      ],
      "metadata": {
        "id": "m4ixcFfO1ja6"
      },
      "execution_count": null,
      "outputs": []
    },
    {
      "cell_type": "code",
      "source": [
        "selected_smiles = list(selection.values())\n",
        "Draw.MolsToGridImage([Chem.MolFromSmiles(s) for s in selected_smiles], molsPerRow=3, subImgSize=(150,150), \n",
        "                     legends=[f'  {s}  ' for s in selected_smiles],\n",
        "                     useSVG=True)"
      ],
      "metadata": {
        "id": "_7rLpg7evu7R"
      },
      "execution_count": null,
      "outputs": []
    },
    {
      "cell_type": "markdown",
      "metadata": {
        "id": "ik19isaZePDp"
      },
      "source": [
        "# 11. 2D versus 3D Molecules\n",
        "\n",
        "Chemists like to draw the structures of molecules by laying out all the atoms in two dimensions--even when the molecules themselves are three-dimensional. We can use RDKit to convert a molecule with 3D coordinates into 2D, thus making all the atoms in the chemical structure easier to see.\n",
        "\n",
        "Note: This section requires you to have downloaded the 3D-structures of all drugs from DrugBank.\n",
        "\n",
        "Note also: in Python, we must make _deep_ copies of molecules, otherwise when we convert to 2D, Compute2DCoords will overwrite the original 3D-coordinates of the atoms."
      ]
    },
    {
      "cell_type": "code",
      "metadata": {
        "id": "d3YdljuTsuKp"
      },
      "source": [
        "copy_of_mols = pd.Series( deepcopy(drugbank['ROMol'].to_dict()) ) \n",
        "# See: https://stackoverflow.com/questions/52708341/make-a-truly-deep-copy-of-a-pandas-series\n",
        "for m in copy_of_mols:\n",
        "  _ = AllChem.Compute2DCoords(m) # only updates coords of m \"in place\"\n",
        "drugbank_2D = [m for m in copy_of_mols]\n",
        "\n",
        "drugbank['ROMol_2D'] = drugbank_2D"
      ],
      "execution_count": null,
      "outputs": []
    },
    {
      "cell_type": "code",
      "source": [
        "for i in range(3):\n",
        "  print(drugbank[\"Generic_Name\"][i])\n",
        "  draw_mol_with_SVG(drugbank[\"ROMol_2D\"][i])\n",
        "  print(60*'_')"
      ],
      "metadata": {
        "id": "_N1p22QqZYUi"
      },
      "execution_count": null,
      "outputs": []
    },
    {
      "cell_type": "code",
      "source": [
        "drugbank_2D_first_3 = drugbank[['Generic_Name', 'MW', 'ROMol_2D']][:3]\n",
        "drugbank_2D_first_3"
      ],
      "metadata": {
        "id": "KETMfLiC6dwU"
      },
      "execution_count": null,
      "outputs": []
    },
    {
      "cell_type": "code",
      "source": [
        "HTML(drugbank_2D_first_3.to_html()) # sadly, in Google Colab notebooks we need to call HTML()"
      ],
      "metadata": {
        "id": "UPJci2I661HA"
      },
      "execution_count": null,
      "outputs": []
    },
    {
      "cell_type": "code",
      "source": [
        "his_2D = drugbank['ROMol_2D'][2] # Histidine\n",
        "set_atom_index_labels(his_2D,'atomNote') # Label atom indices, counting from 0\n",
        "his_2D # atom 6 is chiral, but it is not obvious from this diagram:"
      ],
      "metadata": {
        "id": "gti2WTSDIJtX"
      },
      "execution_count": null,
      "outputs": []
    },
    {
      "cell_type": "markdown",
      "source": [
        "### 11.1 Chirality and Adding Hydrogens\n",
        "\n",
        "Converting from a 3D molecule to 2D for chemical drawing can sometimes lose chiral information. We can use RDKit to assign chirality to atoms, and then find the chiral centers in the molecule, if any.\n",
        "\n",
        "RDKit can add hydrogens to both 2D and 3D molecules; by default, it sets the coordinates of the hydrogens to the origin. This might be fine in some situations, but if we are using the molecules for docking, _e.g._, this is a problem. We have to ask RDKit to add sensible coordinates for the hydrogens. (By not doing this by default, it saves time for those applications that don't need this information.)\n",
        "\n",
        "Histidine is one of the drugs in [DrugBank](https://go.drugbank.com/drugs/DB00117), and just like most amino acids, it has a chiral centre at its α-carbon."
      ],
      "metadata": {
        "id": "yDJdtw2gIJdm"
      }
    },
    {
      "cell_type": "code",
      "source": [
        "his = drugbank['ROMol'][2] # Histidine\n",
        "set_atom_index_labels(his,'atomNote') # Label atom indices, counting from 0\n",
        "his # atom 6 is chiral, but it is not obvious from this diagram:"
      ],
      "metadata": {
        "id": "BJPMamGM6MYd"
      },
      "execution_count": null,
      "outputs": []
    },
    {
      "cell_type": "markdown",
      "source": [
        "Let's ask RDKit to identify all the chiral atoms in histidine:"
      ],
      "metadata": {
        "id": "AWuDl_rx6dw5"
      }
    },
    {
      "cell_type": "code",
      "source": [
        "Chem.AssignAtomChiralTagsFromStructure(his)\n",
        "print('Chiral centers in 3D-histine:', Chem.FindMolChiralCenters(his, includeUnassigned=True)) \n",
        "# Atom 6 has known chirality, 'S', in the original 3D molecule:"
      ],
      "metadata": {
        "id": "HOTTfxWEHFOw"
      },
      "execution_count": null,
      "outputs": []
    },
    {
      "cell_type": "markdown",
      "source": [
        "Converting from 3D to 2D can lose chiral information:"
      ],
      "metadata": {
        "id": "TPQyIfZTIT37"
      }
    },
    {
      "cell_type": "code",
      "source": [
        "Chem.AssignAtomChiralTagsFromStructure(his_2D)\n",
        "print('Chiral centers in 2D-histine:', Chem.FindMolChiralCenters(his_2D, includeUnassigned=True)) \n",
        "# Atom 6 has unknown chirality, '?':"
      ],
      "metadata": {
        "id": "NNaAkHZjHIzI"
      },
      "execution_count": null,
      "outputs": []
    },
    {
      "cell_type": "code",
      "metadata": {
        "id": "-xCQ3WxMsJ9m"
      },
      "source": [
        " his_3D = drugbank['ROMol'][2] # Histidine, https://go.drugbank.com/drugs/DB00117"
      ],
      "execution_count": null,
      "outputs": []
    },
    {
      "cell_type": "code",
      "metadata": {
        "id": "Erjecenn-nAY"
      },
      "source": [
        "his_3D # by default, we see the 3D viewer because it is a 3D molecule"
      ],
      "execution_count": null,
      "outputs": []
    },
    {
      "cell_type": "code",
      "metadata": {
        "id": "GcwamnYzcYmS"
      },
      "source": [
        "IPythonConsole.ipython_3d = False # we can also turn off 3D viewing:\n",
        "\n",
        "his_3D # but a 3D molecule drawn in 3D can be hard to see; the 5-membered imidazole ring is edge-on:"
      ],
      "execution_count": null,
      "outputs": []
    },
    {
      "cell_type": "code",
      "metadata": {
        "id": "ogpBYSAXcddw"
      },
      "source": [
        "IPythonConsole.ipython_3d = True # Let's turn 3D-rendering back on\n",
        "\n",
        "his_3D"
      ],
      "execution_count": null,
      "outputs": []
    },
    {
      "cell_type": "code",
      "source": [
        "IPythonConsole.drawMol3D(his_3D) # we can also force 3D-molecule drawing, regardless of the ipython_3d setting:"
      ],
      "metadata": {
        "id": "MQyl_X_kG8pe"
      },
      "execution_count": null,
      "outputs": []
    },
    {
      "cell_type": "code",
      "source": [
        "# Let's add hydrogens, making them all explicit:\n",
        "\n",
        "his_2D_H=Chem.AddHs(his_2D) # Adds Hs, but for 2D molecules they are all at (0,0)\n",
        "AllChem.Compute2DCoords(his_2D_H) # Give Hs sensible positions\n",
        "\n",
        "Chem.AssignAtomChiralTagsFromStructure(his_2D_H) # assign chirality\n",
        "print('2D-mol assigned chirality:', \n",
        "      Chem.FindMolChiralCenters(his_2D_H, includeUnassigned=True))\n",
        "\n",
        "set_atom_index_labels(his_2D_H,'atomNote') # Label atom indices, counting from 0\n",
        "his_2D_H"
      ],
      "metadata": {
        "id": "QehIdwisbu6n"
      },
      "execution_count": null,
      "outputs": []
    },
    {
      "cell_type": "code",
      "source": [
        "his_3D_H=Chem.AddHs(his_3D) # Adds Hs, but they're all at (0,0,0)!\n",
        "his_3D_H"
      ],
      "metadata": {
        "id": "AuC_KFtK5ymG"
      },
      "execution_count": null,
      "outputs": []
    },
    {
      "cell_type": "markdown",
      "source": [
        "Oh-oh... let's add hydrogens with sensible (_x,y,z_)-coordinates..."
      ],
      "metadata": {
        "id": "-Uj_nFXl_GMS"
      }
    },
    {
      "cell_type": "code",
      "source": [
        "his_3D = drugbank['ROMol'][2]\n",
        "his_3D_H=Chem.AddHs(his_3D, addCoords=True) # Adds Hs, with sensible 3D-coordinates\n",
        "his_3D_H"
      ],
      "metadata": {
        "id": "CslzgXCY17xg"
      },
      "execution_count": null,
      "outputs": []
    },
    {
      "cell_type": "code",
      "source": [
        "# Now, let's check the chiral centres again, this time with\n",
        "# all hydrogens explicitly added:\n",
        "Chem.AssignAtomChiralTagsFromStructure(his_3D_H) # assign chirality\n",
        "print(\"3D-molecule's chiral centres, [(atom index, chirality)]:\", \n",
        "      Chem.FindMolChiralCenters(his_3D_H, includeUnassigned=True))"
      ],
      "metadata": {
        "id": "gDKKDfNK7yuw"
      },
      "execution_count": null,
      "outputs": []
    },
    {
      "cell_type": "markdown",
      "source": [
        "We can see that now, the chiral center (atom 6, which is the α-carbon in the [amino acid](https://en.wikipedia.org/wiki/Amino_acid)) has a defined chirality (S). Almost all naturally-occuring amino acids that have sidechains have the same chirality, S (also known as \"laevorotatory\" or L-amino acids, so named because of how samples cause light to be polarized), with the exception of cysteine, which is (R); and glycine, which lacks a sidechain is achiral.\n",
        "\n",
        "Note, though, RDKit's method for adding hydrogens has treated the whole molecule as neutral, which is a reasonable assumption; but there are several ioinizable functional groups here: the carboxylate, the amine, and the imidazole ring in the side chain.\n",
        "\n",
        "## 11.2 Ionizable Groups"
      ],
      "metadata": {
        "id": "dn_cpWqyMkky"
      }
    },
    {
      "cell_type": "code",
      "source": [
        "ionizable_groups_smiles = ['CC(=O)O', 'CC(=O)[O-]', \n",
        "                           'C[NH2]', 'C[NH3+]', \n",
        "                           'Cc1[nH]cnc1',\n",
        "                           'Cc1nc[nH]c1',\n",
        "                           'Cc1[nH+]c[nH]c1']\n",
        "ionizable_groups_names = ['Carboxylate (neutral)', 'Carboxylate (negative)',\n",
        "                          'Amine (neutral)', 'Amine (positive)',\n",
        "                          'Imidazole (neutroal, N-delta',\n",
        "                          'Imidazole (neutral, N-epsilon-H', \n",
        "                          'Imidazole (positive)']\n",
        "\n",
        "ionizable_groups = [Chem.MolFromSmiles(s) for s in ionizable_groups_smiles]"
      ],
      "metadata": {
        "id": "G5IZ069BNY_u"
      },
      "execution_count": null,
      "outputs": []
    },
    {
      "cell_type": "code",
      "source": [
        "def set_mol_names(mols, names):\n",
        "  \"\"\"Set the names of the molecules in mols to the corresponding names in names.\n",
        "  Assumes number and order of mols and names is the same.\"\"\"\n",
        "  assert len(mols) == len(names) # need same number of mols and names\n",
        "  for mol, name in zip(mols, names):\n",
        "    mol.SetProp('_Name', name)\n",
        "\n",
        "set_mol_names(ionizable_groups, ionizable_groups_names)\n",
        "\n",
        "# Pad the legends with spaces so they can 'breathe'...\n",
        "Draw.MolsToGridImage(ionizable_groups, molsPerRow=2, subImgSize=(150,150), \n",
        "                     legends=['  '+n+'  ' for n in ionizable_groups_names], \n",
        "                     useSVG=True)"
      ],
      "metadata": {
        "id": "VpSrx7qsSrH5"
      },
      "execution_count": null,
      "outputs": []
    },
    {
      "cell_type": "markdown",
      "source": [
        "## 11.3 Names and Synonyms of Molecules"
      ],
      "metadata": {
        "id": "7pN0W8Y-NJQS"
      }
    },
    {
      "cell_type": "code",
      "source": [
        "# Let's use PubChem to look up the standard IUPAC names of these groups:\n",
        "\n",
        "from pubchempy import get_compounds, Compound"
      ],
      "metadata": {
        "id": "6laYIntX6VNm"
      },
      "execution_count": null,
      "outputs": []
    },
    {
      "cell_type": "code",
      "source": [
        "def get_IUPAC_name_from_smiles(smiles):\n",
        "  \"\"\"Use PubChemPy's get_compounds to look up the IUPAC name from the molecule \n",
        "  supplied as a SMILES string.\"\"\"\n",
        "  cpds = get_compounds(smiles, 'smiles')\n",
        "  assert len(cpds) == 1 # Hopefully, there is only one IUPAC name\n",
        "  c = cpds[0]\n",
        "  return c.iupac_name\n",
        "\n",
        "def get_synonyms_from_smiles(smiles):\n",
        "  \"\"\"Use PubChemPy's get_compounds to look up the synomyms from the molecule \n",
        "  supplied as a SMILES string.\"\"\"\n",
        "  cpds = get_compounds(smiles, 'smiles')\n",
        "  assert len(cpds) == 1 # Hopefully, there is only one IUPAC name\n",
        "  c = cpds[0]\n",
        "  return c.synonyms"
      ],
      "metadata": {
        "id": "XDgwfnWAyUJs"
      },
      "execution_count": null,
      "outputs": []
    },
    {
      "cell_type": "code",
      "source": [
        "ionizable_groups_IUPAC_names = [get_IUPAC_name_from_smiles(s) \n",
        "                                for s in ionizable_groups_smiles]\n",
        "\n",
        "for s, iupac_name in zip(ionizable_groups_smiles, ionizable_groups_IUPAC_names):\n",
        "  print(f'SMILES: {s:15s}\\tIUPAC name is \"{iupac_name}\"')"
      ],
      "metadata": {
        "id": "_eUByNd2IkpJ"
      },
      "execution_count": null,
      "outputs": []
    },
    {
      "cell_type": "code",
      "source": [
        "# Let's redraw the ionizable groups, but with their IUPAC names instead:\n",
        "set_mol_names(ionizable_groups, ionizable_groups_IUPAC_names)\n",
        "\n",
        "Draw.MolsToGridImage(ionizable_groups, molsPerRow=2, subImgSize=(150,150), \n",
        "                     legends=['  '+n+'  ' for n in ionizable_groups_IUPAC_names],\n",
        "                     useSVG=True)"
      ],
      "metadata": {
        "id": "l5PP_ByK2N5m"
      },
      "execution_count": null,
      "outputs": []
    },
    {
      "cell_type": "markdown",
      "source": [
        "## 11.4 Standardization\n",
        "\n",
        "_\"Cheminformatics is hard.\"_ -- Paul Finn\n",
        "\n",
        "Just as there are many different ways of drawing the same molecule, SMILES is flexible enough to allow us to write the same molecule in different ways. In some situations, _e.g._, in machine learning, we need to map all these variants SMILES back to the same molecule, to remove duplicates.\n",
        "\n",
        "### 11.4.1 Different Versions of the Same Molecule: Salts, Neutral or Charged?\n",
        "Sometimes, a chemical supplier or compound vendor gives us a SMILES string for a salt of the compound, _e.g._, sodium acetate, but all we care about is the organic anion, acetate. Very often, our models are built on the assumption we have one molecule as input--but a salt will appear as two molecules (the sodium ion and the acetate ion). We might also have been given the negatively-charged acetate instead of the neutral acetic acid.\n",
        "\n",
        "### 11.4.1 Tautomers\n",
        "\n",
        "Another chemical phenomenon exists where apparently different molecules with idential heavy atoms but bonded differently can be easily interconverted: [tautomers](https://en.wikipedia.org/wiki/Tautomer). By moving one hydrogen atom and alternating adjacent bond orders, it is possible to interconvert from one molecule to another. Usually, one tautomeric form is most stable.\n",
        "\n",
        "One famous example is [keto-enol tautomerism](https://en.wikipedia.org/wiki/Enol): for example ethenol (not ethanol) can interconvert with the ketone form. When one form is more stable than the other form(s), we need to convert the less stable form(s) into the more stable form. E.g., ethenol, a.k.a. vinyl alcohol, (SMILES 'C=CO[H]'), will be more stable as the ketone ('CC(=O)([H])'):"
      ],
      "metadata": {
        "id": "cvll2xiSICpV"
      }
    },
    {
      "cell_type": "code",
      "source": [
        "AllChem.ReactionFromSmarts('[C:1]-[C:2](-[O:3]-[H:4])>>[C:1]-[C:2](=[O:3])(-[H:4])')"
      ],
      "metadata": {
        "id": "0mrjOl1L8Y0-"
      },
      "execution_count": null,
      "outputs": []
    },
    {
      "cell_type": "markdown",
      "source": [
        "\n",
        "\n",
        "The following code derives from [JP Ebejer's blog](https://bitsilla.com/blog/2021/06/standardizing-a-molecule-using-rdkit/), with the method renamed to make clear it expects a SMILES string. The provenance of this code originated from Matt Swain's Python code, MolVS, which Susan Leung converted to C++ in RDKit while working with Greg Landrum on a Google Summer of Code project.\n",
        "\n",
        "See also the [excellent thread here](https://sourceforge.net/p/rdkit/mailman/rdkit-discuss/thread/CANjYGkSoZZsTrOLvjM8mN9FymX7nMu3G9iZQL8N_sTA%3DmzKmfw%40mail.gmail.com/#msg37305148)."
      ],
      "metadata": {
        "id": "dlYHnvWS8U0t"
      }
    },
    {
      "cell_type": "code",
      "source": [
        "def standardize_mol(mol, verbose=False):\n",
        "    \"\"\"Standardize the RDKit molecule, select its parent molecule, uncharge it, \n",
        "    then enumerate all the tautomers.\n",
        "    If verbose is true, an explanation of the steps and structures of the molecule\n",
        "    as it is standardized will be output.\"\"\"\n",
        "    # Follows the steps from\n",
        "    # https://github.com/greglandrum/RSC_OpenScience_Standardization_202104/blob/main/MolStandardize%20pieces.ipynb\n",
        "    # as described **excellently** (by Greg Landrum) in\n",
        "    # https://www.youtube.com/watch?v=eWTApNX8dJQ -- JP\n",
        "    \n",
        "    from rdkit.Chem.MolStandardize import rdMolStandardize\n",
        "    # removeHs, disconnect metal atoms, normalize the molecule, reionize the molecule\n",
        "    clean_mol = rdMolStandardize.Cleanup(mol) \n",
        "    if verbose:\n",
        "      print('Remove Hs, disconnect metal atoms, normalize the molecule, reionize the molecule:')\n",
        "      draw_mol_with_SVG(clean_mol)\n",
        "\n",
        "    # if many fragments, get the \"parent\" (the actual mol we are interested in) \n",
        "    parent_clean_mol = rdMolStandardize.FragmentParent(clean_mol)\n",
        "    if verbose:\n",
        "      print('Select the \"parent\" fragment:')\n",
        "      draw_mol_with_SVG(parent_clean_mol)\n",
        "\n",
        "    # try to neutralize molecule\n",
        "    uncharger = rdMolStandardize.Uncharger() # annoying, but necessary as no convenience method exists\n",
        "    uncharged_parent_clean_mol = uncharger.uncharge(parent_clean_mol)\n",
        "    if verbose:\n",
        "      print('Neutralize the molecule:')\n",
        "      draw_mol_with_SVG(uncharged_parent_clean_mol)\n",
        "\n",
        "    # Note: no attempt is made at reionization at this step\n",
        "    # nor ionization at some pH (RDKit has no pKa caculator);\n",
        "    # the main aim to to represent all molecules from different sources\n",
        "    # in a (single) standard way, for use in ML, catalogues, etc.\n",
        "    te = rdMolStandardize.TautomerEnumerator() # idem\n",
        "    taut_uncharged_parent_clean_mol = te.Canonicalize(uncharged_parent_clean_mol)\n",
        "    if verbose:\n",
        "      print('Enumerate tautomers:')\n",
        "      draw_mol_with_SVG(taut_uncharged_parent_clean_mol)\n",
        "    assert taut_uncharged_parent_clean_mol != None\n",
        "    \n",
        "    if verbose: print(Chem.MolToSmiles(taut_uncharged_parent_clean_mol))\n",
        "    return taut_uncharged_parent_clean_mol\n",
        "\n",
        "def standardize_smiles(smiles, verbose=False):\n",
        "  \"\"\"Standardize the SMILES string, select its parent molecule, uncharge it, \n",
        "    then enumerate all the tautomers.\"\"\"\n",
        "  if verbose: print(smiles)\n",
        "  std_mol = standardize_mol(Chem.MolFromSmiles(smiles), verbose=verbose)\n",
        "  return Chem.MolToSmiles(std_mol)"
      ],
      "metadata": {
        "id": "MUkVmfU1IVfg"
      },
      "execution_count": null,
      "outputs": []
    },
    {
      "cell_type": "markdown",
      "source": [
        "Standardizing acetic acid: (acetic acid, acetate, and sodium acetate). First, let's build the molecules and draw them:"
      ],
      "metadata": {
        "id": "SVVNEX8oTIdd"
      }
    },
    {
      "cell_type": "code",
      "source": [
        "acetic_acid_smiles = ['CC(=O)O',     'CC(=O)[O-]', '[Na+].CC(=O)[O-]']\n",
        "acetic_acid_names  = ['acetic acid', 'acetate',    'sodium acetate']\n",
        "acetic_acid_mols   = [Chem.MolFromSmiles(s) for s in acetic_acid_smiles]\n",
        "\n",
        "Draw.MolsToGridImage(acetic_acid_mols, molsPerRow=3, subImgSize=(150,150), \n",
        "                     legends=['  '+n+'  ' for n in acetic_acid_names],\n",
        "                     useSVG=True)"
      ],
      "metadata": {
        "id": "a3ZrMw8RJ76l"
      },
      "execution_count": null,
      "outputs": []
    },
    {
      "cell_type": "markdown",
      "source": [
        "Now let's standardize each version: acetic acid, acetate, and sodium acetate:"
      ],
      "metadata": {
        "id": "XANPI99DK8hL"
      }
    },
    {
      "cell_type": "code",
      "source": [
        "acetic_acid_mols[0]"
      ],
      "metadata": {
        "id": "xQU8xpy_LWqQ"
      },
      "execution_count": null,
      "outputs": []
    },
    {
      "cell_type": "code",
      "source": [
        "saa0 = standardize_smiles(acetic_acid_smiles[0], verbose=True)"
      ],
      "metadata": {
        "id": "IslsjVW5dXG-"
      },
      "execution_count": null,
      "outputs": []
    },
    {
      "cell_type": "code",
      "source": [
        "saa1 = standardize_smiles(acetic_acid_smiles[1], verbose=True)"
      ],
      "metadata": {
        "id": "tnmcTQ6zR-1f"
      },
      "execution_count": null,
      "outputs": []
    },
    {
      "cell_type": "code",
      "source": [
        "saa2 = standardize_smiles(acetic_acid_smiles[2], verbose=True)"
      ],
      "metadata": {
        "id": "m8ueQ1CVTVzZ"
      },
      "execution_count": null,
      "outputs": []
    },
    {
      "cell_type": "markdown",
      "source": [
        "Keto-enol tautomerism:"
      ],
      "metadata": {
        "id": "Km1WbycyS9sL"
      }
    },
    {
      "cell_type": "code",
      "source": [
        "# Start with the enol-form:\n",
        "smi = 'C=C(O)C' # prop-1-en-2-ol\n",
        "name = get_IUPAC_name_from_smiles(smi)\n",
        "print(name)\n",
        "\n",
        "std_smi = standardize_smiles(smi, verbose=True)\n",
        "std_name = get_IUPAC_name_from_smiles(std_smi)\n",
        "print(std_name)"
      ],
      "metadata": {
        "id": "lNH9YCCnSUQU"
      },
      "execution_count": null,
      "outputs": []
    },
    {
      "cell_type": "code",
      "source": [
        "# Start with the keto-form:\n",
        "smi='CC(=O)C' # propan-2-one\n",
        "name = get_IUPAC_name_from_smiles(smi)\n",
        "print(name)\n",
        "\n",
        "std_smi = standardize_smiles(smi, verbose=True)\n",
        "\n",
        "std_name = get_IUPAC_name_from_smiles(smi)\n",
        "print(std_name)"
      ],
      "metadata": {
        "id": "chp6gVzuSWdq"
      },
      "execution_count": null,
      "outputs": []
    },
    {
      "cell_type": "markdown",
      "source": [
        "## 11.5 Molecular Sanitization\n",
        "\n",
        "The following explanation of molecular sanitization is taken from the (RDKit Book)[https://www.rdkit.org/docs/RDKit_Book.html]:\n",
        "\n",
        "The molecule parsing functions all, by default, perform a “sanitization” operation on the molecules read. The idea is to generate useful computed properties (like hybridization, ring membership, _etc._) for the rest of the code and to ensure that the molecules are “reasonable”: that they can be represented with octet-complete Lewis dot structures.\n",
        "\n",
        "Here are the steps involved, in order:\n",
        "\n",
        "1. ``clearComputedProps``: removes any computed properties that already exist\n",
        "on the molecule and its atoms and bonds. This step is always performed.\n",
        "\n",
        "2. ``cleanUp``: standardizes a small number of non-standard valence states. The clean up operations are:\n",
        "\n",
        "* Neutral 5 valent Ns with double bonds to Os are converted to the zwitterionic form. Example: ``N(=O)=O -> [N+](=O)O-]``\n",
        "\n",
        "* Neutral 5 valent Ns with triple bonds to another N are converted to the zwitterionic form. Example: ``C-N=N#N -> C-N=[N+]=[N-]``\n",
        "\n",
        "* Neutral 5 valent phosphorus with one double bond to an O and another to either a C or a P are converted to the zwitterionic form. Example: ``C=P(=O)O -> C=[P+]([O-])O``\n",
        "\n",
        "* Neutral Cl, Br, or I with exclusively O neighbors, and a valence of 3, 5, or 7, are converted to the zwitterionic form. This covers things like chlorous acid, chloric acid, and perchloric acid. Example: ``O=Cl(=O)O -> [O-][Cl+2][O-]O``\n",
        "\n",
        "This step should not generate exceptions.\n",
        "\n",
        "3. ``updatePropertyCache``: calculates the explicit and implicit valences on all atoms. This generates exceptions for atoms in higher-than-allowed valence states. This step is always performed, but if it is “skipped” the test for non-standard valences will not be carried out.\n",
        "\n",
        "4. ``symmetrizeSSSR``: calls the symmetrized smallest set of smallest rings algorithm (discussed in the [Getting Started](https://www.rdkit.org/docs/GettingStartedInPython.html) document).\n",
        "\n",
        "5. ``Kekulize``: converts aromatic rings to their [Kekule form](https://en.wikipedia.org/wiki/Aromaticity). Will raise an exception if a ring cannot be kekulized or if aromatic bonds are found outside of rings.\n",
        "\n",
        "6. ``assignRadicals``: determines the number of radical electrons (if any) on each atom.\n",
        "\n",
        "7. ``setAromaticity``: identifies the aromatic rings and ring systems (see above), sets the aromatic flag on atoms and bonds, sets bond orders to aromatic.\n",
        "\n",
        "8. ``setConjugation``: identifies which bonds are conjugated\n",
        "\n",
        "9. ``setHybridization``: calculates the hybridization state of each atom\n",
        "\n",
        "10. ``cleanupChirality``: removes chiral tags from atoms that are not sp<sup>3</sup> hybridized.\n",
        "\n",
        "11. ``adjustHs``: adds explicit Hs where necessary to preserve the chemistry. This is typically needed for heteroatoms in aromatic rings. The classic example is the nitrogen atom in [pyrrole](https://en.wikipedia.org/wiki/Pyrrole).\n",
        "\n",
        "The individual steps can be toggled on or off when calling ``MolOps::sanitizeMol`` or ``Chem.SanitizeMol``."
      ],
      "metadata": {
        "id": "dODzHDYvPWCN"
      }
    },
    {
      "cell_type": "markdown",
      "source": [
        "## 11.6 Molecular Normalization\n",
        "\n",
        "This example is from [Greg Landrum's talk on Standardization](https://github.com/greglandrum/RSC_OpenScience_Standardization_202104/blob/main/MolStandardize%20pieces.ipynb):"
      ],
      "metadata": {
        "id": "JIptSa2bMPGi"
      }
    },
    {
      "cell_type": "code",
      "source": [
        "from rdkit.Chem.MolStandardize import rdMolStandardize\n",
        "import pprint as pp\n",
        "\n",
        "smis = ('C[S+2]([O-])([O-])CC',   # S(=O)(=O) is preferred over [S+2]([O-])([O-])\n",
        "        'CC[S@](=O)C',            # [S+][O-] is preferred over S(=O)\n",
        "        'C[P+](CC)(N)N',          # P(=[NH2+]) is preferred over [P+]N\n",
        "        'CN=N#N',                 # N=[N+]=[N-] is preferred over N=N#N\n",
        "        'C=N#N',                  # C=[N+]=[N-] is preferred over C=N#N\n",
        "        '[N-]=[C+]C',             # C#N is preferred over [C+]=[N-]\n",
        "        '[nH]1c(=[N+](C)C)cccc1', # CN(C)(C) is preferred over C=[N+](C)(C)\n",
        "        'NC=C-C=[N+](C)C')        # CN(C)(C) is preferred over C=[N+](C)(C)\n",
        "\n",
        "ms = []\n",
        "names = []\n",
        "for smi in smis:\n",
        "    m = Chem.MolFromSmiles(smi,sanitize=False)\n",
        "    m.UpdatePropertyCache(strict=False) # calculates the explicit and implicit valences on all atoms\n",
        "    Chem.SanitizeMol(m, sanitizeOps=(Chem.SANITIZE_ALL^Chem.SANITIZE_CLEANUP^Chem.SANITIZE_PROPERTIES)) # See 11.5\n",
        "    cm = rdMolStandardize.Normalize(m) # use preferred bond orders and charged forms\n",
        "    names.append(get_IUPAC_name_from_smiles(Chem.MolToSmiles(cm)))\n",
        "    ms.extend([m,cm])\n",
        "\n",
        "pp.pprint(list(zip(smis,names)))\n",
        "Draw.MolsToGridImage(ms,molsPerRow=4,legends=['before','normalized']*(len(ms)//2))"
      ],
      "metadata": {
        "id": "IPoSe2u3Mpbi"
      },
      "execution_count": null,
      "outputs": []
    },
    {
      "cell_type": "markdown",
      "source": [
        "## 11.7 Neutralization\n",
        "\n",
        "Often, it is preferrable to treat charged and neutral forms of a molecule as the same thing; neutralization can be accomplished in certain cases by adding a proton to neutralize a negative charge, or by removing a proton:"
      ],
      "metadata": {
        "id": "G9xtjofhebIZ"
      }
    },
    {
      "cell_type": "code",
      "source": [
        "uncharger = rdMolStandardize.Uncharger()\n",
        "\n",
        "smis = ('c1ccccc1C(=O)[O-]',\n",
        "        'c1ccccc1C(=O)[O-].[Na+]',\n",
        "        'CC[NH+](C)C',\n",
        "        'CC[N+](C)(C)C',\n",
        "        '[O-]CC(C(=O)[O-])C[NH+](C)C',\n",
        "        '[O-]CC(C(=O)[O-])C[N+](C)(C)C')\n",
        "ms = []\n",
        "for smi in smis:\n",
        "    m = Chem.MolFromSmiles(smi)\n",
        "    cm = uncharger.uncharge(m)\n",
        "    ms.extend([m,cm])\n",
        "Draw.MolsToGridImage(ms,molsPerRow=4,legends=['before','after']*(len(ms)//2))"
      ],
      "metadata": {
        "id": "2EP2iGRojXoC"
      },
      "execution_count": null,
      "outputs": []
    },
    {
      "cell_type": "markdown",
      "source": [
        "## 11.8 Re-ionization\n",
        "\n",
        "It is also possible to re-ionize a molecule:"
      ],
      "metadata": {
        "id": "F7ZVQmcbkBp4"
      }
    },
    {
      "cell_type": "code",
      "source": [
        "smis = ('c1ccccc1C(=O)[O-]',\n",
        "        'c1ccc([O-])cc1C(=O)O',\n",
        "        'c1ccc(O)cc1C(=O)O.[Na]')\n",
        "ms = []\n",
        "for smi in smis:\n",
        "    m = Chem.MolFromSmiles(smi)\n",
        "    im = rdMolStandardize.Reionize(m)\n",
        "    ms.extend([m,im])\n",
        "Draw.MolsToGridImage(ms,molsPerRow=4,legends=['before','reionized']*(len(ms)//2))"
      ],
      "metadata": {
        "id": "hSz8gbf1kDb5"
      },
      "execution_count": null,
      "outputs": []
    },
    {
      "cell_type": "markdown",
      "source": [
        "# Drawing Proteins from the PDB"
      ],
      "metadata": {
        "id": "o06-bzibzSAf"
      }
    },
    {
      "cell_type": "code",
      "metadata": {
        "id": "qW2SaQp5-xNp"
      },
      "source": [
        "# py3Dmol can draw small molecules complexted with proteins, too; \n",
        "# here is HIV-1 Protease with the cyclic urea compound, XK2\n",
        "view = py3Dmol.view(query='pdb:1hvr')\n",
        "view.setStyle({'cartoon':{'color':'spectrum'}})\n",
        "view.setStyle({'resn':'XK2'}, {'stick':{'color':'cyanCarbon'}})\n",
        "view\n",
        "# You can click on or touch the object and spin it around, or use a scroll wheel or two fingers to zoom:"
      ],
      "execution_count": null,
      "outputs": []
    },
    {
      "cell_type": "markdown",
      "source": [
        "# 12. Using PubChem from Python\n",
        "\n",
        "## What is PubChem?\n",
        "\n",
        "From their website: \"*PubChem* is the world's largest collection of freely accessible chemical information. Search chemicals by name, molecular formula, structure, and other identifiers. Find chemical and physical properties, biological activities, safety and toxicity information, patents, literature citations and more.\"\n",
        "\n",
        "## What is PubChemPy?\n",
        "\n",
        "From their documentation, \"``PubChemPy`` provides a way to interact with *PubChem* in ``Python``. It allows chemical searches by name, substructure and similarity, chemical standardization, conversion between chemical file formats, depiction and retrieval of chemical properties.\". Sounds useful..."
      ],
      "metadata": {
        "id": "6mD16hvITvtZ"
      }
    },
    {
      "cell_type": "markdown",
      "source": [
        "## 12.1 Examples of how to use the PubChem Python API\n",
        "\n",
        "We will try to fetch a compound from PubChem by its PubChem ID, and by its name; we can also ask for the compounds log P, the base-10 logarithm of the partition coefficient of the compound in _n_-octanol and water (a measure of how water-soluble or 'greasy' it is):"
      ],
      "metadata": {
        "id": "UapArTRMY8mv"
      }
    },
    {
      "cell_type": "code",
      "source": [
        "from pubchempy import get_compounds, Compound\n",
        "\n",
        "### 12.1.1  Fetch a compound by its PubChem ID:\n",
        "\n",
        "comp = Compound.from_cid(1423)\n",
        "print(comp.isomeric_smiles)\n",
        "\n",
        "### Should print:\n",
        "### CCCCCCCNC1CCCC1CCCCCCC(=O)O\n",
        "\n",
        "\n",
        "### 12.1.2  Fetch a compound by its name:\n",
        "\n",
        "comps = get_compounds('Aspirin', 'name')\n",
        "for c in comps:\n",
        "  print(c.isomeric_smiles)\n",
        "  print(c.xlogp)\n",
        "\n",
        "### Should print:\n",
        "### CC(=O)OC1=CC=CC=C1C(=O)O\n",
        "### 1.2"
      ],
      "metadata": {
        "id": "YWQQxQYoaSs0"
      },
      "execution_count": null,
      "outputs": []
    },
    {
      "cell_type": "markdown",
      "source": [
        "# 13. Molecular Fingerprints\n",
        "\n",
        "Fingerprints are a way of representing features in molecules. The simplest are binary fingerprints, where a bit can represent the presence (1) or absence (0) of a feature. say a functional group or a molecular substructure.\n",
        "\n",
        "RDKit can compute fingerprints.\n",
        "\n",
        "## 13.1 Fingerprints and Similarity\n",
        "\n",
        "We will compute the similarity of fingerprints computed from benzene and from aniline. We will also use PubChem to fetch the official IUPAC name and synonyms from their SMILES strings."
      ],
      "metadata": {
        "id": "UhcpwkUvafF9"
      }
    },
    {
      "cell_type": "code",
      "source": [
        "smiles_1 = 'c1ccccc1'\n",
        "cpds = get_compounds(smiles_1, 'smiles')\n",
        "for c in cpds:\n",
        "  print(f'm1 is {c.iupac_name}, and its synonyms are: {c.synonyms}.')\n",
        "m1 = Chem.MolFromSmiles(smiles_1)\n",
        "\n",
        "smiles_2 = 'c1ccccc1(N)'\n",
        "cpds = get_compounds(smiles_2, 'smiles')\n",
        "for c in cpds:\n",
        "  print(f'm2 is {c.iupac_name}, and its synonyms are {c.synonyms}.')\n",
        "m2 = Chem.MolFromSmiles(smiles_2)"
      ],
      "metadata": {
        "id": "6DWxzuUJbNj1"
      },
      "execution_count": null,
      "outputs": []
    },
    {
      "cell_type": "code",
      "source": [
        "print('benzene:')\n",
        "draw_mol_with_SVG(m1) # benzene\n",
        "print('aniline')\n",
        "draw_mol_with_SVG(m2) # aniline"
      ],
      "metadata": {
        "id": "xS5-y2iJ4SzK"
      },
      "execution_count": null,
      "outputs": []
    },
    {
      "cell_type": "markdown",
      "source": [
        "## 13.2 Similarity Between Morgan (ECFP4) Fingerprints\n",
        "\n",
        "We can vary the radius of the substructures perceived by the Morgan algorithm to pick up more details in the structure of the molecule. Radius 0 considers just the central atom, while radius one jumps one bond from the central atom. Radius two considers substructures made up of all the atoms bonded to the atoms to the current central atom.\n",
        "\n",
        "The number of bits in a binary fingerprint is a power of two, and usually 2048. Each bit is turned on or off by a process of converting the long-integer unique identifier of each atom in the molecule by hashing. If fewer bits are used, 'collisions', where the same positional bit in the bit is turned on by different substructures.\n",
        "\n",
        "It is also possible to use different similarity measures between bit vectors. Perhaps the most common one is the Tanimoto similarity, also known as the Jaccard index, after the mathematician who first described it. By counting the number of common features in both molecules, and dividing by the number of features that are in either molecule, we get a value between 0 (no features in common) and 1 (identical features).\n",
        "\n",
        "Another measure, the Dice similarity, which is close to the Tanimoto similarity,uses the average number of on bits in the denominator."
      ],
      "metadata": {
        "id": "fFverQOY4yI_"
      }
    },
    {
      "cell_type": "code",
      "source": [
        "from rdkit import DataStructs\n",
        "\n",
        "rad = 2\n",
        "bits = 2048\n",
        "\n",
        "fp1 = AllChem.GetMorganFingerprintAsBitVect(m1, rad, nBits=bits)\n",
        "fp2 = AllChem.GetMorganFingerprintAsBitVect(m2, rad, nBits=bits)\n",
        "\n",
        "print(f'The Tanimoto similarity between the Morgan (ECFP{rad*2}) {bits}-bit Fingerprints of benzene and aniline is {DataStructs.TanimotoSimilarity(fp1,fp2):.2f}.\\n')\n",
        "print(f'The Dice similarity between the Morgan (ECFP{rad*2}) {bits}-bit Fingerprints of benzene and aniline is {DataStructs.DiceSimilarity(fp1,fp2):.2f}.\\n')"
      ],
      "metadata": {
        "id": "ywdGg0AiXlGK"
      },
      "execution_count": null,
      "outputs": []
    },
    {
      "cell_type": "markdown",
      "source": [
        "By default, Morgan (ECFP) Fingerprints ignore chirality, but we can ask the algorithm to consider chirality as one of the atom's invariant properties:"
      ],
      "metadata": {
        "id": "07j3EIgAcuBc"
      }
    },
    {
      "cell_type": "code",
      "source": [
        "# Compute the Morgan fingerprint but disregard the chirality of the atoms--\n",
        "# which is the default behavior:\n",
        "fp1 = AllChem.GetMorganFingerprintAsBitVect(his_3D_H, rad, nBits=bits)\n",
        "\n",
        "# Compute the Morgan fingerprint but consider the chirality of the atoms:\n",
        "fp2 = AllChem.GetMorganFingerprintAsBitVect(his_3D_H, rad, nBits=bits, useChirality=True)\n",
        "\n",
        "print(f'The Tanimoto similarity between the default Morgan (ECFP{rad*2}) {bits}-bit Fingerprints\\n \\\n",
        " of histidine and the chiral-aware Morgan FP of histidine is {DataStructs.TanimotoSimilarity(fp1,fp2):.2f}.\\n')\n",
        "\n",
        "print(f'The Dice similarity between the default Morgan (ECFP{rad*2}) {bits}-bit Fingerprints\\n \\\n",
        " of histidine and the chiral-aware Morgan FP of histidine is {DataStructs.DiceSimilarity(fp1,fp2):.2f}.\\n')"
      ],
      "metadata": {
        "id": "ELntSw0T38DJ"
      },
      "execution_count": null,
      "outputs": []
    },
    {
      "cell_type": "markdown",
      "source": [
        "Let's experiment with a new kind of molecular fingerprint called 'MAP4' from \"One molecular fingerprint to rule them all: drugs, biomolecules, and  the metabolome\" by Reymond *et al.*: https://jcheminf.biomedcentral.com/articles/10.1186/s13321-020-00445-4. See also: https://github.com/reymond-group/map4/blob/master/test.py\n",
        "\n",
        "## 13.3 Install TMAP and MAP4 fingerprints\n"
      ],
      "metadata": {
        "id": "LJSgUcVwu4gC"
      }
    },
    {
      "cell_type": "code",
      "source": [
        "!time mamba install -y -c tmap tmap\n",
        "\n",
        "##!wget https://github.com/reymond-group/map4/raw/master/environment.yml\n",
        "##!mamba env update -n base --file environment.yml\n",
        "!time pip install git+https://github.com/reymond-group/map4@v1.0"
      ],
      "metadata": {
        "id": "NcQEGebJw-y8"
      },
      "execution_count": null,
      "outputs": []
    },
    {
      "cell_type": "markdown",
      "source": [
        "## 13.3 Similarity Between MAP4 Fingerprints"
      ],
      "metadata": {
        "id": "sCoAROpWXfel"
      }
    },
    {
      "cell_type": "code",
      "source": [
        "import tmap as tm\n",
        "from map4 import MAP4Calculator\n",
        "\n",
        "def get_map4_similarity_of_mols(m1, m2, dim=1024):\n",
        "  \"\"\"Calculate the minhashed distance between the MAP4 fingerprints of \n",
        "two molecules.\n",
        "\n",
        ">>> print(get_map4_similarity_of_mols(m1,m2)\n",
        "0.7861328125\n",
        "\"\"\"\n",
        "  MAP4 = MAP4Calculator(dimensions=dim)\n",
        "  ENC = tm.Minhash(dim)\n",
        "  map4_m1 = MAP4.calculate(m1)\n",
        "  map4_m2 = MAP4.calculate(m2)\n",
        "\n",
        "  # or use parallelized version:\n",
        "  fps = MAP4.calculate_many([m1, m2])\n",
        "\n",
        "  return ENC.get_distance(map4_m1, map4_m2)\n",
        "  #return ENC.get_distance(fps[0], fps[1])\n",
        "\n",
        "# How similar are benzene and aniline, using MAP4 fingerprints, and\n",
        "# MinHashed distances?\n",
        "\n",
        "print(get_map4_similarity_of_mols(m1,m2))\n",
        "# Should print ~0.786"
      ],
      "metadata": {
        "id": "Ehp-wXL2XTXA"
      },
      "execution_count": null,
      "outputs": []
    },
    {
      "cell_type": "markdown",
      "source": [
        "# 14. Introduction to Protein-Ligand Docking\n",
        "\n",
        "We will use the Python APIs to use the latest AutoDock docking engines and scoring functions, as well as the latest Python-based protein-ligand docking preparation tools.\n"
      ],
      "metadata": {
        "id": "Ao6HotJieG_o"
      }
    },
    {
      "cell_type": "markdown",
      "source": [
        "## 14.1  Install AutoDock Vina, Meeko, and OpenBabel\n",
        "\n",
        "See:\n",
        "*   https://autodock-vina.readthedocs.io/en/latest/installation.html\n",
        "*   https://github.com/forlilab/Meeko\n",
        "\n"
      ],
      "metadata": {
        "id": "mzdyL4xMfJYo"
      }
    },
    {
      "cell_type": "code",
      "source": [
        "!mamba install -c conda-forge openbabel"
      ],
      "metadata": {
        "id": "k39yYE7FBrjU"
      },
      "execution_count": null,
      "outputs": []
    },
    {
      "cell_type": "markdown",
      "source": [],
      "metadata": {
        "id": "SoTsXHbqH3mJ"
      }
    },
    {
      "cell_type": "code",
      "source": [
        "!pip install -U vina meeko"
      ],
      "metadata": {
        "id": "1GWGC0XYfRr5"
      },
      "execution_count": null,
      "outputs": []
    },
    {
      "cell_type": "markdown",
      "source": [
        "This code was sent by Diogo Santos Martins:"
      ],
      "metadata": {
        "id": "08hndOlwgu_2"
      }
    },
    {
      "cell_type": "code",
      "source": [
        "import vina\n",
        "print(vina.__version__)"
      ],
      "metadata": {
        "id": "TGlLjCRXlCJc"
      },
      "execution_count": null,
      "outputs": []
    },
    {
      "cell_type": "code",
      "source": [
        "from vina import Vina\n",
        "from rdkit import Chem\n",
        "from rdkit.Chem import AllChem\n",
        "from meeko import MoleculePreparation\n",
        "from meeko import PDBQTMolecule"
      ],
      "metadata": {
        "id": "2NC7GkcneFdl"
      },
      "execution_count": null,
      "outputs": []
    },
    {
      "cell_type": "code",
      "source": [
        "import meeko\n",
        "#dir(meeko)"
      ],
      "metadata": {
        "id": "307YAbxrlagh"
      },
      "execution_count": null,
      "outputs": []
    },
    {
      "cell_type": "markdown",
      "source": [
        "## 14.2 Download Example Input Files for 1iep"
      ],
      "metadata": {
        "id": "qur_o_MNhhW4"
      }
    },
    {
      "cell_type": "code",
      "source": [
        "# Fetch some input files for docking\n",
        "\n",
        "!rm 1iep_ligand.sdf 1iep_receptorH.pdb 1iep_ligand.pdbqt 1iep_receptor.pdbqt 1iep_ligand.sdf 1iep_ligand_minimized.pdbqt\n",
        "!wget https://raw.githubusercontent.com/ccsb-scripps/AutoDock-Vina/develop/example/basic_docking/data/1iep_ligand.sdf\n",
        "!wget https://raw.githubusercontent.com/ccsb-scripps/AutoDock-Vina/develop/example/basic_docking/data/1iep_receptorH.pdb\n",
        "!wget https://raw.githubusercontent.com/ccsb-scripps/AutoDock-Vina/develop/example/basic_docking/solution/1iep_ligand.pdbqt\n",
        "!wget https://raw.githubusercontent.com/ccsb-scripps/AutoDock-Vina/develop/example/basic_docking/solution/1iep_receptor.pdbqt"
      ],
      "metadata": {
        "id": "3ULea5fVoSzd"
      },
      "execution_count": null,
      "outputs": []
    },
    {
      "cell_type": "code",
      "source": [
        "%ls"
      ],
      "metadata": {
        "id": "OZCHhiWfTTsB"
      },
      "execution_count": null,
      "outputs": []
    },
    {
      "cell_type": "code",
      "source": [
        "input_receptor = '1iep_receptor'\n",
        "input_receptor_pdbqt = input_receptor + '.pdbqt'\n",
        "\n",
        "input_ligand = '1iep_ligand'\n",
        "input_ligand_sdf = input_ligand + '.sdf'\n",
        "input_ligand_pdbqt = input_ligand + '.pdbqt'\n",
        "input_ligand_mols = [m for m in Chem.SDMolSupplier(input_ligand_sdf)]\n",
        "input_ligand_mols_H = [Chem.AddHs(m, addCoords=True) for m in input_ligand_mols]\n",
        "input_ligand_smiles_list = [Chem.MolToSmiles(m) for m in input_ligand_mols]\n",
        "input_ligand_smiles_H_list = [Chem.MolToSmiles(m) for m in input_ligand_mols_H]\n",
        "input_ligand_smiles = input_ligand_smiles_list[0]\n",
        "Chem.MolFromSmiles(input_ligand_smiles)\n"
      ],
      "metadata": {
        "id": "MrThRCoYTWFZ"
      },
      "execution_count": null,
      "outputs": []
    },
    {
      "cell_type": "code",
      "source": [
        "ligand_synonyms = get_synonyms_from_smiles(input_ligand_smiles)\n",
        "ligand_synonyms[0]"
      ],
      "metadata": {
        "id": "EqS5px4HH-kx"
      },
      "execution_count": null,
      "outputs": []
    },
    {
      "cell_type": "code",
      "source": [
        "v = Vina(sf_name='vina')\n",
        "v.set_receptor(input_receptor_pdbqt)\n",
        "#v.set_ligand_from_file(input_ligand_pdbqt)\n",
        "\n",
        "rdmol = Chem.MolFromSmiles(input_ligand_smiles)\n",
        "rdmol_H = Chem.AddHs(rdmol)\n",
        "AllChem.EmbedMolecule(rdmol_H)\n",
        "meeko_prep = MoleculePreparation(hydrate=False)\n",
        "meeko_prep.prepare(rdmol_H)\n",
        "ligand_pdbqt_string = meeko_prep.write_pdbqt_string()\n",
        "\n",
        "v.set_ligand_from_string(ligand_pdbqt_string)\n",
        "v.compute_vina_maps(center=[15.190, 53.903, 16.917], box_size=[20, 20, 20])"
      ],
      "metadata": {
        "id": "a7OdTaa7HFCg"
      },
      "execution_count": null,
      "outputs": []
    },
    {
      "cell_type": "code",
      "source": [
        "###v = Vina(sf_name='ad4') # seems to require pre-existing grid maps...\n",
        "###v.load_maps('4ykz_wk_rigid') # reads 4yzk_wk_rigid.<type>.map ## raises RuntimeError: Error: Cannot find affinity maps with 4ykz_wk_rigid\n",
        "\n",
        "# dock\n",
        "v.dock(exhaustiveness=2) # Reduce exhaustiveness from 32 to 2 on Colab\n",
        "output_pdbqt = v.poses(n_poses=5)\n",
        "\n",
        "# convert to SDF and write\n",
        "docked_ligand_sdf = 'docking-results.sdf'\n",
        "pmol = PDBQTMolecule(output_pdbqt)\n",
        "f = Chem.SDWriter(docked_ligand_sdf)\n",
        "for pose in pmol:\n",
        "    output_rdmol = pmol.export_rdkit_mol()\n",
        "    f.write(output_rdmol)\n",
        "f.close()"
      ],
      "metadata": {
        "id": "VqwlYNJXUXwL"
      },
      "execution_count": null,
      "outputs": []
    },
    {
      "cell_type": "code",
      "source": [
        "!cat {docked_ligand_sdf}"
      ],
      "metadata": {
        "id": "kwDIbEtUQWNT"
      },
      "execution_count": null,
      "outputs": []
    },
    {
      "cell_type": "code",
      "source": [
        "docked = PandasTools.LoadSDF(docked_ligand_sdf)\n",
        "docked"
      ],
      "metadata": {
        "id": "DglsQ_4lQ5wO"
      },
      "execution_count": null,
      "outputs": []
    },
    {
      "cell_type": "markdown",
      "source": [
        "## 14.3 Preparing an RDKit Molecule for Docking\n",
        "\n",
        "It's possible to generate an input PDBQT string (not file)\n",
        "from an RDKit molecule and dock this, instead of creating\n",
        "an input PDBQT file."
      ],
      "metadata": {
        "id": "qSKISR_LTjoC"
      }
    },
    {
      "cell_type": "markdown",
      "source": [],
      "metadata": {
        "id": "cmrw6eohQSMh"
      }
    },
    {
      "cell_type": "code",
      "source": [
        "# Build 3D conformer of ligand using RDKit\n",
        "rdmol = Chem.MolFromSmiles(\"C1C(O)CC=CC=CCC=CC=CC(=O)CC(C(=O)[O-])C1\")\n",
        "rdmol_H = Chem.AddHs(rdmol)\n",
        "AllChem.EmbedMolecule(rdmol_H) # Note: bad geometries can occur"
      ],
      "metadata": {
        "id": "CsIWoObUf6K3"
      },
      "execution_count": null,
      "outputs": []
    },
    {
      "cell_type": "code",
      "source": [
        "rdmol_H"
      ],
      "metadata": {
        "id": "GrUEUzbXgCEq"
      },
      "execution_count": null,
      "outputs": []
    },
    {
      "cell_type": "code",
      "source": [
        "# prepare ligand PDBQT, for \"wet-ligand\" docking:\n",
        "#meeko_prep = MoleculePreparation(macrocycle=True, hydrate=True) # generates TypeError: __init__() got an unexpected keyword argument 'macrocycle'\n",
        "meeko_prep = MoleculePreparation(hydrate=True) # works\n",
        "meeko_prep.prepare(rdmol_H)\n",
        "lig_pdbqt = meeko_prep.write_pdbqt_string()\n",
        "print(lig_pdbqt)"
      ],
      "metadata": {
        "id": "tBqbNLfrf24v"
      },
      "execution_count": null,
      "outputs": []
    },
    {
      "cell_type": "code",
      "source": [
        "###v = Vina(sf_name='ad4') # seems to require pre-existing grid maps...\n",
        "v = Vina(sf_name='vina')\n",
        "###v.load_maps('4ykz_wk_rigid') # reads 4yzk_wk_rigid.<type>.map ## raises RuntimeError: Error: Cannot find affinity maps with 4ykz_wk_rigid\n",
        "\n",
        "v.set_receptor(input_receptor_pdbqt)\n",
        "v.set_ligand_from_string(lig_pdbqt)\n",
        "v.compute_vina_maps(center=[15.190, 53.903, 16.917], box_size=[20, 20, 20])\n",
        "\n",
        "# dock\n",
        "v.dock(exhaustiveness=2)\n",
        "output_pdbqt = v.poses(n_poses=5)\n",
        "\n",
        "# convert to SDF and write\n",
        "pmol = PDBQTMolecule(output_pdbqt)\n",
        "f = Chem.SDWriter('docking-results-2.sdf')\n",
        "for pose in pmol:\n",
        "    output_rdmol = pmol.export_rdkit_mol()\n",
        "    f.write(output_rdmol)\n",
        "f.close()"
      ],
      "metadata": {
        "id": "GN5i5P21gLuW"
      },
      "execution_count": null,
      "outputs": []
    },
    {
      "cell_type": "code",
      "source": [
        "%ls"
      ],
      "metadata": {
        "id": "PU4CL9rvKhUd"
      },
      "execution_count": null,
      "outputs": []
    },
    {
      "cell_type": "code",
      "source": [
        "!cat docking-results-2.sdf"
      ],
      "metadata": {
        "id": "op8qyoDZLjsg"
      },
      "execution_count": null,
      "outputs": []
    },
    {
      "cell_type": "code",
      "source": [
        "# Score the current pose\n",
        "energy = v.score()\n",
        "print('Score before minimization: %.3f (kcal/mol)' % energy[0])\n",
        "\n",
        "# If docking imatinib it should print:\n",
        "# Score before minimization: -12.513 (kcal/mol)"
      ],
      "metadata": {
        "id": "qIrKuS7RlOQb"
      },
      "execution_count": null,
      "outputs": []
    },
    {
      "cell_type": "code",
      "source": [
        "# Minimized locally the current pose\n",
        "energy_minimized = v.optimize()\n",
        "print('Score after minimization : %.3f (kcal/mol)' % energy_minimized[0])\n",
        "v.write_pose('1iep_ligand_minimized.pdbqt', overwrite=True)\n",
        "\n",
        "# If docking imatinib it should print:\n",
        "# Score before minimization: -13.249 (kcal/mol)"
      ],
      "metadata": {
        "id": "7zHUD_EHVbrH"
      },
      "execution_count": null,
      "outputs": []
    },
    {
      "cell_type": "code",
      "source": [
        "# For more examples of interacting with web pages, see:\n",
        "# https://colab.research.google.com/notebooks/snippets/advanced_outputs.ipynb\n",
        "\n",
        "import ipywidgets as widgets\n",
        "\n",
        "# Slide to set the exhaaustiveness of the docking search\n",
        "# Every increment adds another 15 sec to the docking\n",
        "slider = widgets.IntSlider(2, min=1, max=4)\n",
        "slider"
      ],
      "metadata": {
        "id": "Gs3dU82wEGuw"
      },
      "execution_count": null,
      "outputs": []
    },
    {
      "cell_type": "code",
      "source": [
        "# Dock the ligand -- define docked filenames first:\n",
        "docked_stem = '1iep_ligand_vina_out'\n",
        "docked_pdbqt = docked_stem + '.pdbqt'\n",
        "docked_sdf = docked_stem + '.sdf'\n",
        "docked_pdb = docked_stem + '.pdb'\n",
        "###docked_mols = [mol for mol in Chem.SDMolSupplier(docked_sdf)]\n",
        "###docked_smiles = [Chem.MolToSmiles(mol) for mol in docked_mols if mol != None]"
      ],
      "metadata": {
        "id": "u6rzeVe5DSGv"
      },
      "execution_count": null,
      "outputs": []
    },
    {
      "cell_type": "code",
      "source": [
        "# Dock the ligand\n",
        "###v.dock(exhaustiveness=32, n_poses=20) ## TOO SLOW on Colab...\n",
        "###v.dock(exhaustiveness=slider_exhaust, n_poses=9)\n",
        "v.dock(exhaustiveness=2, n_poses=9)\n",
        "v.write_poses(docked_pdbqt, n_poses=5, overwrite=True)"
      ],
      "metadata": {
        "id": "5IpRJxTxQLer"
      },
      "execution_count": null,
      "outputs": []
    },
    {
      "cell_type": "code",
      "source": [
        "from rdkit.Chem import AllChem\n",
        "\n",
        "#load original molecule from smiles\n",
        "SMILES_STRING = input_ligand_smiles #the smiles string of your ligand\n",
        "template = Chem.MolFromSmiles(SMILES_STRING)\n",
        "\n",
        "#load the docked pose as a PDB file\n",
        "loc_of_docked_pose = docked_pdb #file location of the docked pose converted to PDB file\n",
        "docked_pose = AllChem.MolFromPDBFile(loc_of_docked_pose)\n",
        "\n",
        "#Assign the bond order to force correct valence\n",
        "newMol = AllChem.AssignBondOrdersFromTemplate(template, docked_pose)\n",
        "\n",
        "#Add Hydrogens if desired. \"addCoords = True\" makes sure the hydrogens are \n",
        "# added in 3D. This does not take pH/pKa into account. \n",
        "newMol_H = Chem.AddHs(newMol, addCoords=True)\n",
        "\n",
        "#save your new correct molecule as a sdf file that encodes for bond orders correctly\n",
        "output_loc = \"docked_pose_assigned_bond_order.sdf\" #output file name\n",
        "Chem.MolToMolFile(newMol_H, output_loc)"
      ],
      "metadata": {
        "id": "jueB3Yh0FgHW"
      },
      "execution_count": null,
      "outputs": []
    },
    {
      "cell_type": "markdown",
      "source": [
        "# 15. Deep Learning\n",
        "\n",
        "## 15.2 deep Learning using Molecular Fingerprints\n",
        "\n",
        "Let's try to do some [deep learning on Google Colab using RDKit](https://iwatobipen.wordpress.com/2018/11/01/run-rdkit-and-deep-learning-on-google-colab-rdkit/)."
      ],
      "metadata": {
        "id": "THB21Is6WGvV"
      }
    },
    {
      "cell_type": "code",
      "source": [
        "%ls /usr/local/lib/python3.7\n",
        "\n",
        "%matplotlib inline"
      ],
      "metadata": {
        "id": "NKLpfA9HXEpW"
      },
      "execution_count": null,
      "outputs": []
    },
    {
      "cell_type": "code",
      "source": [
        "import sys\n",
        "import os\n",
        "import numpy as np\n",
        "import pandas as pd\n",
        "import matplotlib.pyplot as plt\n",
        "\n",
        "from rdkit.Chem import DataStructs\n",
        "from rdkit.Chem import AllChem\n",
        "from rdkit.Chem import RDConfig\n",
        "from rdkit import rdBase\n",
        "\n",
        "sys.path.append('/usr/local/lib/python3.7/dist-packages/')\n",
        "\n",
        "trainsdf = Chem.SDMolSupplier(os.path.join( RDConfig.RDDocsDir, 'Book/data/solubility.train.sdf'))\n",
        "testsdf = Chem.SDMolSupplier(os.path.join( RDConfig.RDDocsDir, 'Book/data/solubility.test.sdf'))\n",
        "train_mols = [mol for mol in trainsdf if mol != None]\n",
        "test_mols = [mol for mol in testsdf if mol != None]\n",
        "sol_class = {\"(A) low\":0, \"(B) medium\":1, \"(C) high\": 2}"
      ],
      "metadata": {
        "id": "CGPQGWovWjPh"
      },
      "execution_count": null,
      "outputs": []
    },
    {
      "cell_type": "markdown",
      "source": [
        "# 15.2 Deep Learning with DeepChem\n",
        "\n",
        "[Rich Apodeca gives a nice introduction to using DeepChem for deep learning](https://depth-first.com/articles/2020/09/14/getting-started-with-deepchem/)."
      ],
      "metadata": {
        "id": "Ljn5C_DqIPHf"
      }
    },
    {
      "cell_type": "markdown",
      "source": [
        "# Keep This Colab Seesion Alive\n",
        "\n",
        "It has been reported that running an infinite loop like this keeps the Google Colab session alive:"
      ],
      "metadata": {
        "id": "5VwZ7AU9XwWA"
      }
    },
    {
      "cell_type": "code",
      "source": [
        "while True: pass"
      ],
      "metadata": {
        "id": "0lRtKouPqbF0"
      },
      "execution_count": null,
      "outputs": []
    },
    {
      "cell_type": "markdown",
      "source": [
        "# 16) Electron Density\n",
        "\n",
        "Let's fetch an electron density map in CCP4 format from PDB Europe."
      ],
      "metadata": {
        "id": "OD7tRk8Om78D"
      }
    },
    {
      "cell_type": "code",
      "source": [
        "!wget https://www.ebi.ac.uk/pdbe/entry-files/download/pdb3ptb.ent https://www.ebi.ac.uk/pdbe/coordinates/files/3ptb.ccp4\n",
        "!mv pdb3ptb.ent 3ptb.pdb\n",
        "%ls"
      ],
      "metadata": {
        "id": "PsttwrY_nlmB",
        "outputId": "8e6cf64a-dbc0-46f7-8af8-f222b791fc4e",
        "colab": {
          "base_uri": "https://localhost:8080/"
        }
      },
      "execution_count": null,
      "outputs": [
        {
          "output_type": "stream",
          "name": "stdout",
          "text": [
            "--2022-07-17 14:49:36--  https://www.ebi.ac.uk/pdbe/entry-files/download/pdb3ptb.ent\n",
            "Resolving www.ebi.ac.uk (www.ebi.ac.uk)... 193.62.193.80\n",
            "Connecting to www.ebi.ac.uk (www.ebi.ac.uk)|193.62.193.80|:443... connected.\n",
            "HTTP request sent, awaiting response... 200 OK\n",
            "Length: 183303 (179K) [text/plain]\n",
            "Saving to: ‘pdb3ptb.ent’\n",
            "\n",
            "pdb3ptb.ent         100%[===================>] 179.01K   215KB/s    in 0.8s    \n",
            "\n",
            "2022-07-17 14:49:38 (215 KB/s) - ‘pdb3ptb.ent’ saved [183303/183303]\n",
            "\n",
            "--2022-07-17 14:49:38--  https://www.ebi.ac.uk/pdbe/coordinates/files/3ptb.ccp4\n",
            "Reusing existing connection to www.ebi.ac.uk:443.\n",
            "HTTP request sent, awaiting response... 301 Moved Permanently\n",
            "Location: https://www.ebi.ac.uk/pdbe/coordinates/files/pt/3ptb/3ptb.ccp4 [following]\n",
            "--2022-07-17 14:49:38--  https://www.ebi.ac.uk/pdbe/coordinates/files/pt/3ptb/3ptb.ccp4\n",
            "Reusing existing connection to www.ebi.ac.uk:443.\n",
            "HTTP request sent, awaiting response... 200 OK\n",
            "Length: 2899008 (2.8M) [application/octet-stream]\n",
            "Saving to: ‘3ptb.ccp4.1’\n",
            "\n",
            "3ptb.ccp4.1         100%[===================>]   2.76M   887KB/s    in 3.2s    \n",
            "\n",
            "2022-07-17 14:49:42 (887 KB/s) - ‘3ptb.ccp4.1’ saved [2899008/2899008]\n",
            "\n",
            "FINISHED --2022-07-17 14:49:42--\n",
            "Total wall clock time: 5.4s\n",
            "Downloaded: 2 files, 2.9M in 4.0s (748 KB/s)\n",
            "3ptb.ccp4  3ptb.ccp4.1  3ptb.pdb  \u001b[0m\u001b[01;34msample_data\u001b[0m/\n"
          ]
        }
      ]
    },
    {
      "cell_type": "markdown",
      "source": [
        "Let's install gemmi, which can read in CCP4-formatted electron density maps:"
      ],
      "metadata": {
        "id": "IpwlGL89nruh"
      }
    },
    {
      "cell_type": "code",
      "source": [
        "%ls"
      ],
      "metadata": {
        "id": "XH0OwhqvoKru",
        "outputId": "b903034c-1ec6-426b-e13a-36d378875a1f",
        "colab": {
          "base_uri": "https://localhost:8080/"
        }
      },
      "execution_count": null,
      "outputs": [
        {
          "output_type": "stream",
          "name": "stdout",
          "text": [
            "3ptb.ccp4  3ptb.pdb  condacolab_install.log  \u001b[0m\u001b[01;34msample_data\u001b[0m/\n"
          ]
        }
      ]
    },
    {
      "cell_type": "code",
      "source": [
        "!mamba install -c conda-forge gemmi"
      ],
      "metadata": {
        "id": "uAyo8IxNn2YK",
        "outputId": "0c33d530-cf2f-4ba1-a740-8601212cd8fa",
        "colab": {
          "base_uri": "https://localhost:8080/"
        }
      },
      "execution_count": null,
      "outputs": [
        {
          "output_type": "stream",
          "name": "stdout",
          "text": [
            "\n",
            "                  __    __    __    __\n",
            "                 /  \\  /  \\  /  \\  /  \\\n",
            "                /    \\/    \\/    \\/    \\\n",
            "███████████████/  /██/  /██/  /██/  /████████████████████████\n",
            "              /  / \\   / \\   / \\   / \\  \\____\n",
            "             /  /   \\_/   \\_/   \\_/   \\    o \\__,\n",
            "            / _/                       \\_____/  `\n",
            "            |/\n",
            "        ███╗   ███╗ █████╗ ███╗   ███╗██████╗  █████╗\n",
            "        ████╗ ████║██╔══██╗████╗ ████║██╔══██╗██╔══██╗\n",
            "        ██╔████╔██║███████║██╔████╔██║██████╔╝███████║\n",
            "        ██║╚██╔╝██║██╔══██║██║╚██╔╝██║██╔══██╗██╔══██║\n",
            "        ██║ ╚═╝ ██║██║  ██║██║ ╚═╝ ██║██████╔╝██║  ██║\n",
            "        ╚═╝     ╚═╝╚═╝  ╚═╝╚═╝     ╚═╝╚═════╝ ╚═╝  ╚═╝\n",
            "\n",
            "        mamba (0.24.0) supported by @QuantStack\n",
            "\n",
            "        GitHub:  https://github.com/mamba-org/mamba\n",
            "        Twitter: https://twitter.com/QuantStack\n",
            "\n",
            "█████████████████████████████████████████████████████████████\n",
            "\n",
            "\n",
            "Looking for: ['gemmi']\n",
            "\n",
            "conda-forge/linux-64                                        Using cache\n",
            "conda-forge/noarch                                          Using cache\n",
            "\n",
            "Pinned packages:\n",
            "  - python 3.7.*\n",
            "  - python 3.7.*\n",
            "  - python_abi 3.7.* *cp37*\n",
            "  - cudatoolkit 11.1.*\n",
            "\n",
            "\n",
            "Transaction\n",
            "\n",
            "  Prefix: /usr/local\n",
            "\n",
            "  Updating specs:\n",
            "\n",
            "   - gemmi\n",
            "   - ca-certificates\n",
            "   - certifi\n",
            "   - openssl\n",
            "\n",
            "\n",
            "  Package  Version  Build           Channel                  Size\n",
            "───────────────────────────────────────────────────────────────────\n",
            "  Install:\n",
            "───────────────────────────────────────────────────────────────────\n",
            "\n",
            "\u001b[32m  + gemmi\u001b[00m    0.5.5  py37h0761922_0  conda-forge/linux-64      5MB\n",
            "\n",
            "  Summary:\n",
            "\n",
            "  Install: 1 packages\n",
            "\n",
            "  Total download: 5MB\n",
            "\n",
            "───────────────────────────────────────────────────────────────────\n",
            "\n",
            "\u001b[?25l\u001b[2K\u001b[0G[+] 0.0s\n",
            "Downloading        0%\n",
            "Extracting         0%\u001b[2K\u001b[1A\u001b[2K\u001b[1A\u001b[2K\u001b[0G[+] 0.1s\n",
            "Downloading  (1)   0%\n",
            "Extracting         0%\u001b[2K\u001b[1A\u001b[2K\u001b[1A\u001b[2K\u001b[0G[+] 0.2s\n",
            "Downloading  (1)   0%\n",
            "Extracting         0%\u001b[2K\u001b[1A\u001b[2K\u001b[1A\u001b[2K\u001b[0G[+] 0.3s\n",
            "Downloading  (1)   0%\n",
            "Extracting         0%\u001b[2K\u001b[1A\u001b[2K\u001b[1A\u001b[2K\u001b[0G[+] 0.4s\n",
            "Downloading  (1)   0%\n",
            "Extracting         0%\u001b[2K\u001b[1A\u001b[2K\u001b[1A\u001b[2K\u001b[0G[+] 0.5s\n",
            "Downloading  (1)  14%\n",
            "Extracting         0%\u001b[2K\u001b[1A\u001b[2K\u001b[1A\u001b[2K\u001b[0Ggemmi                                                4.8MB @   9.3MB/s  0.5s\n",
            "[+] 0.6s\n",
            "Downloading      100%\n",
            "Extracting   (1)  ⣾  \u001b[2K\u001b[1A\u001b[2K\u001b[1A\u001b[2K\u001b[0G[+] 0.7s\n",
            "Downloading      100%\n",
            "Extracting   (1)  ⣾  \u001b[2K\u001b[1A\u001b[2K\u001b[1A\u001b[2K\u001b[0G[+] 0.8s\n",
            "Downloading      100%\n",
            "Extracting   (1)  ⣾  \u001b[2K\u001b[1A\u001b[2K\u001b[1A\u001b[2K\u001b[0G[+] 0.9s\n",
            "Downloading      100%\n",
            "Extracting   (1)  ⣾  \u001b[2K\u001b[1A\u001b[2K\u001b[1A\u001b[2K\u001b[0G[+] 1.0s\n",
            "Downloading      100%\n",
            "Extracting   (1)  ⣾  \u001b[2K\u001b[1A\u001b[2K\u001b[1A\u001b[2K\u001b[0G[+] 1.1s\n",
            "Downloading      100%\n",
            "Extracting   (1)  ⣾  \u001b[2K\u001b[1A\u001b[2K\u001b[1A\u001b[2K\u001b[0G[+] 1.2s\n",
            "Downloading      100%\n",
            "Extracting   (1)  ⣾  \u001b[2K\u001b[1A\u001b[2K\u001b[1A\u001b[2K\u001b[0G[+] 1.3s\n",
            "Downloading      100%\n",
            "Extracting   (1)  ⣾  \u001b[2K\u001b[1A\u001b[2K\u001b[1A\u001b[2K\u001b[0G[+] 1.4s\n",
            "Downloading      100%\n",
            "Extracting   (1)  ⣾  \u001b[2K\u001b[1A\u001b[2K\u001b[1A\u001b[2K\u001b[0G[+] 1.5s\n",
            "Downloading      100%\n",
            "Extracting   (1)  ⣾  \u001b[2K\u001b[1A\u001b[2K\u001b[1A\u001b[2K\u001b[0G[+] 1.6s\n",
            "Downloading      100%\n",
            "Extracting       100%\u001b[2K\u001b[1A\u001b[2K\u001b[1A\u001b[2K\u001b[0G\u001b[?25hPreparing transaction: - \b\bdone\n",
            "Verifying transaction: | \b\bdone\n",
            "Executing transaction: - \b\bdone\n"
          ]
        }
      ]
    },
    {
      "cell_type": "code",
      "source": [
        "import gemmi\n",
        "import numpy\n",
        "ccp4_map = gemmi.read_ccp4_map('3ptb.ccp4')\n",
        "ccp4_map.setup(float('nan'))  # optional\n",
        "np_array = numpy.array(ccp4_map.grid, copy=False)\n",
        "# ...\n",
        "#ccp4_map.write_ccp4_map('out.ccp4')"
      ],
      "metadata": {
        "id": "h20I8eCgozRf"
      },
      "execution_count": null,
      "outputs": []
    },
    {
      "cell_type": "code",
      "source": [
        "np_array.shape"
      ],
      "metadata": {
        "id": "WGQiPm5pry9I",
        "outputId": "6d0a8f80-e8c3-41a0-989e-be4514eff037",
        "colab": {
          "base_uri": "https://localhost:8080/"
        }
      },
      "execution_count": null,
      "outputs": [
        {
          "output_type": "execute_result",
          "data": {
            "text/plain": [
              "(96, 104, 120)"
            ]
          },
          "metadata": {},
          "execution_count": 27
        }
      ]
    },
    {
      "cell_type": "code",
      "source": [
        "ccp4_map.header_str?"
      ],
      "metadata": {
        "id": "5yIIxPIEsijP"
      },
      "execution_count": null,
      "outputs": []
    },
    {
      "cell_type": "code",
      "source": [
        "ptb3 = gemmi.read_pdb('3ptb.pdb')"
      ],
      "metadata": {
        "id": "HodsRik4uQHv"
      },
      "execution_count": null,
      "outputs": []
    },
    {
      "cell_type": "code",
      "source": [
        "ptb3"
      ],
      "metadata": {
        "id": "5Tf7RIP6u3HN",
        "outputId": "58b13a40-5fd2-447c-fda8-9d9225a2b40f",
        "colab": {
          "base_uri": "https://localhost:8080/"
        }
      },
      "execution_count": null,
      "outputs": [
        {
          "output_type": "execute_result",
          "data": {
            "text/plain": [
              "<gemmi.Structure 3ptb with 1 model(s)>"
            ]
          },
          "metadata": {},
          "execution_count": 37
        }
      ]
    },
    {
      "cell_type": "code",
      "source": [],
      "metadata": {
        "id": "-AvIR8XGu4ji"
      },
      "execution_count": null,
      "outputs": []
    }
  ]
}