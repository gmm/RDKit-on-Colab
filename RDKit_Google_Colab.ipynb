{
  "nbformat": 4,
  "nbformat_minor": 0,
  "metadata": {
    "colab": {
      "name": "RDKit_Google_Colab.ipynb",
      "provenance": [],
      "collapsed_sections": [],
      "include_colab_link": true
    },
    "kernelspec": {
      "name": "python3",
      "display_name": "Python 3"
    }
  },
  "cells": [
    {
      "cell_type": "markdown",
      "metadata": {
        "id": "view-in-github",
        "colab_type": "text"
      },
      "source": [
        "<a href=\"https://colab.research.google.com/github/gmm/RDKit-on-Colab/blob/main/RDKit_Google_Colab.ipynb\" target=\"_parent\"><img src=\"https://colab.research.google.com/assets/colab-badge.svg\" alt=\"Open In Colab\"/></a>"
      ]
    },
    {
      "cell_type": "markdown",
      "metadata": {
        "id": "M_jLJcOB86Dm"
      },
      "source": [
        "# Cheminformatics in the Cloud\n",
        "\n",
        "We can use Google Colab to run Jupyter iPython notebooks on Google Cloud infrastructure. This iPython Notebook has been developed to run on Google Colab.\n",
        "\n",
        "We start by installing Conda and Mamba, using them to install the additional Python packages we need -- most importantly, RDKit.\n",
        "\n",
        "## 1. Set Up Conda\n",
        "\n",
        "First we need conda before we can install RDKit.\n",
        "\n",
        "We use CondaColab, which was developed by [Jaime Rodríguez-Guerra](https://github.com/jaimergp), and a solution that is discussed here:\n",
        "\n",
        "* https://inside-machinelearning.com/en/how-to-install-use-conda-on-google-colab/.\n",
        "\n",
        "This needs to be run at the start of the notebook, because it restarts the kernel.\n",
        "\n",
        "CondaColab uses [Mamba](https://mamba.readthedocs.io/en/latest/index.html), a \"fast, robust, and cross-platform package manager, ... a Python-based CLI conceived as a drop-in replacement for conda, offering higher speed and more reliable environment solutions.\" Mamba's [core is implemented in C++ and allows parallel downloading of repository data and package files using multi-threading](https://github.com/mamba-org/mamba).\n",
        "\n",
        "By default, CondaColab installs Mambaforge,  but `condacolab.install_anaconda()` [will install the Anaconda 2020.02 distribution, the last version that was built for Python 3.7](https://github.com/jaimergp/condacolab) (which is needed for Google Colab,  as of July 2021).\n",
        "\n",
        "Don't panic when you see your \"session crashed for an unknown reason\": the kernel restarts automatically, and Colab picks this up as an error. You want this to happen, so you can use the new `conda` environment."
      ]
    },
    {
      "cell_type": "code",
      "metadata": {
        "collapsed": true,
        "id": "tDmcqt_v2xDM"
      },
      "source": [
        "!pip install -q condacolab\n",
        "import condacolab\n",
        "condacolab.install()  # for ML, use `condacolab.install_anaconda()`"
      ],
      "execution_count": null,
      "outputs": []
    },
    {
      "cell_type": "markdown",
      "metadata": {
        "id": "J7pOPzxXbcih"
      },
      "source": [
        "Check the versions of conda and mamba:"
      ]
    },
    {
      "cell_type": "code",
      "metadata": {
        "id": "ywwgQ0rm2-qM"
      },
      "source": [
        "!which conda\n",
        "!conda --version\n",
        "!which mamba\n",
        "!mamba --version"
      ],
      "execution_count": null,
      "outputs": []
    },
    {
      "cell_type": "markdown",
      "metadata": {
        "id": "aqIIc2oRXgbJ"
      },
      "source": [
        "# 2. Update Conda\n",
        "\n",
        "In tests, `Mamba` seems to be slightly faster than `conda` to update `conda`:"
      ]
    },
    {
      "cell_type": "code",
      "metadata": {
        "id": "DbWh98s6Xqww"
      },
      "source": [
        "#!time conda update -y -n base conda"
      ],
      "execution_count": null,
      "outputs": []
    },
    {
      "cell_type": "code",
      "metadata": {
        "id": "i2faZHNDc4bi"
      },
      "source": [
        "!time mamba update -y -n base conda"
      ],
      "execution_count": null,
      "outputs": []
    },
    {
      "cell_type": "code",
      "metadata": {
        "id": "kpBfPxfFedxt"
      },
      "source": [
        "!conda --version\n",
        "!mamba --version"
      ],
      "execution_count": null,
      "outputs": []
    },
    {
      "cell_type": "markdown",
      "metadata": {
        "id": "Uusded0V9p5T"
      },
      "source": [
        "# 3. Install RDKit\n",
        "\n",
        "Use mamba to install RDKit."
      ]
    },
    {
      "cell_type": "code",
      "metadata": {
        "id": "5-mgVwD58M62"
      },
      "source": [
        "# Install the latest version of RDKit using mamba\n",
        "#\n",
        "#  -- Hint: don't create a separate environment, otherwise you must activate\n",
        "#           it before Google's Jupyter starts\n",
        "\n",
        "!mamba install -y -c rdkit rdkit"
      ],
      "execution_count": null,
      "outputs": []
    },
    {
      "cell_type": "markdown",
      "metadata": {
        "id": "FrlXGS-THyWU"
      },
      "source": [
        "# Install Py3Dmol\n",
        "\n",
        "So we can view and interact with 3D molecules in iPython and Jupyter."
      ]
    },
    {
      "cell_type": "code",
      "metadata": {
        "id": "MQXTwyf4_Gqs"
      },
      "source": [
        "!mamba install -y -c conda-forge py3dmol"
      ],
      "execution_count": null,
      "outputs": []
    },
    {
      "cell_type": "code",
      "metadata": {
        "id": "5dE-1RWJFzId"
      },
      "source": [
        "%pwd"
      ],
      "execution_count": null,
      "outputs": []
    },
    {
      "cell_type": "code",
      "metadata": {
        "id": "nUQXebv-Q42s"
      },
      "source": [
        "%ls"
      ],
      "execution_count": null,
      "outputs": []
    },
    {
      "cell_type": "markdown",
      "metadata": {
        "id": "afMZlQrsagW-"
      },
      "source": [
        "# 4. Import RDKit\n",
        "\n",
        "There are lots of useful websites explaining how to use RDKit.\n",
        "\n",
        "\n",
        "\n",
        "*   [Getting Started with the RDKit in Python](https://rdkit.readthedocs.io/en/latest/GettingStartedInPython.html)\n",
        "* [Greg Landrum's RDKit Blog](https://greglandrum.github.io/rdkit-blog)\n",
        "** [Generating 3D conformers of molecules](https://greglandrum.github.io/rdkit-blog/conformers/exploration/2021/02/22/etkdg-and-distance-constraints.html)\n",
        "*   https://xinhaoli74.github.io/blog/\n",
        "**    https://xinhaoli74.github.io/blog/rdkit/2021/01/06/rdkit.html\n",
        "\n"
      ]
    },
    {
      "cell_type": "code",
      "metadata": {
        "id": "AjDCDPmuAdrX"
      },
      "source": [
        "import rdkit\n",
        "print(rdkit.__version__)"
      ],
      "execution_count": null,
      "outputs": []
    },
    {
      "cell_type": "code",
      "metadata": {
        "id": "Z-R3qj5P8pu4"
      },
      "source": [
        "from rdkit import Chem"
      ],
      "execution_count": null,
      "outputs": []
    },
    {
      "cell_type": "code",
      "metadata": {
        "id": "r_MWXASG_dlk"
      },
      "source": [
        "from rdkit.Chem.Draw import IPythonConsole # to draw inline in iPython\n",
        "from rdkit.Chem import Draw # to draw molecules"
      ],
      "execution_count": null,
      "outputs": []
    },
    {
      "cell_type": "code",
      "metadata": {
        "id": "WO71StWG9asS"
      },
      "source": [
        "# Change the default to show molecules in interactive 3D\n",
        "IPythonConsole.ipython_3d = True\n",
        "\n",
        "# later on, get a conformer from an RDKit molecule, and use\n",
        "# IPythonConsole.drawMol3D(m, confID=cids[0])\n",
        "\n",
        "# See: https://greglandrum.github.io/rdkit-blog/conformers/exploration/2021/02/22/etkdg-and-distance-constraints.html"
      ],
      "execution_count": null,
      "outputs": []
    },
    {
      "cell_type": "code",
      "metadata": {
        "id": "VkxvAuOXxWHf"
      },
      "source": [
        "from rdkit.Chem import PandasTools # we use this to read in SDFs into pandas dataframes"
      ],
      "execution_count": null,
      "outputs": []
    },
    {
      "cell_type": "code",
      "metadata": {
        "id": "F1jo7dmpCa8Z"
      },
      "source": [
        "from IPython.display import SVG # to use vectors, not bitmaps, for cleaner lines\n",
        "from rdkit.Chem import rdDepictor  # to generate 2D depictions of molecules\n",
        "from rdkit.Chem.Draw import rdMolDraw2D # to draw 2D molecules using vectors"
      ],
      "execution_count": null,
      "outputs": []
    },
    {
      "cell_type": "code",
      "metadata": {
        "id": "FbNG7daA2KCk"
      },
      "source": [
        "import pandas as pd # we need this to make copies of pandas columns of molecules"
      ],
      "execution_count": null,
      "outputs": []
    },
    {
      "cell_type": "code",
      "metadata": {
        "id": "sivwTUb8xH1z"
      },
      "source": [
        "from rdkit.Chem import AllChem  # we need this to compute 2D depictions\n",
        "from copy import deepcopy  # we need deep copies of the molecule to avoid losing 3D coordinates"
      ],
      "execution_count": null,
      "outputs": []
    },
    {
      "cell_type": "code",
      "metadata": {
        "id": "Tg7bvBmHBR-P"
      },
      "source": [
        "import py3Dmol # for inline 3D interactive views of molecules"
      ],
      "execution_count": null,
      "outputs": []
    },
    {
      "cell_type": "markdown",
      "metadata": {
        "id": "iAeOPn9pDWw7"
      },
      "source": [
        "# Let's Make Some Molecules!\n",
        "\n",
        "We can create molecules by starting from a string that describes the elements, bonds (and their connectivity), stereochemistry, and charge of the molecule, using SMILES.\n",
        "\n",
        "* [SMILES Examples](https://www.daylight.com/dayhtml_tutorials/languages/smiles/smiles_examples.html)\n",
        "* [SMILES Tutorial](https://daylight.com/dayhtml_tutorials/languages/smiles/index.html)\n"
      ]
    },
    {
      "cell_type": "code",
      "metadata": {
        "id": "emvivISdhmbH"
      },
      "source": [
        "mol = Chem.MolFromSmiles('c1ccccc1C(=O)N')\n",
        "mol"
      ],
      "execution_count": null,
      "outputs": []
    },
    {
      "cell_type": "code",
      "metadata": {
        "id": "AGVvlHmxBEJa"
      },
      "source": [
        "def show_atom_numbers(mol, label):\n",
        "  \"\"\"See https://stackoverflow.com/questions/53321453/rdkit-how-to-show-moleculars-atoms-number?answertab=active#tab-top\"\"\"\n",
        "  for atom in mol.GetAtoms():\n",
        "    atom.SetProp(label, str(atom.GetIdx()+1))\n",
        "  return mol"
      ],
      "execution_count": null,
      "outputs": []
    },
    {
      "cell_type": "code",
      "metadata": {
        "id": "ADF4RZwoBaKu"
      },
      "source": [
        "mol = Chem.MolFromSmiles('c1ccccc1C(=O)N')\n",
        "show_atom_numbers(mol, 'atomLabel')"
      ],
      "execution_count": null,
      "outputs": []
    },
    {
      "cell_type": "code",
      "metadata": {
        "id": "d2D3s1JZBgs8"
      },
      "source": [
        "mol = Chem.MolFromSmiles('c1ccccc1C(=O)N')\n",
        "show_atom_numbers(mol, 'molAtomMapNumber')"
      ],
      "execution_count": null,
      "outputs": []
    },
    {
      "cell_type": "code",
      "metadata": {
        "id": "hJGlgjinB4g5"
      },
      "source": [
        "mol = Chem.MolFromSmiles('c1ccccc1C(=O)N')\n",
        "show_atom_numbers(mol, 'atomNote')"
      ],
      "execution_count": null,
      "outputs": []
    },
    {
      "cell_type": "markdown",
      "metadata": {
        "id": "fM0bOfyfIh6V"
      },
      "source": [
        "# Drawing Sharper Molecules Using Vectors, not Bitmaps\n",
        "\n",
        "This code uses SVG to depict molecules.\n",
        "\n",
        "See: https://leedavies.dev/index.php/2018/10/06/rdkit-in-jupyter-notebooks/"
      ]
    },
    {
      "cell_type": "code",
      "metadata": {
        "id": "Kk6O9szTCjpL"
      },
      "source": [
        "# Create mol object from smiles string\n",
        "mol = Chem.MolFromSmiles('c1cccnc1C(=O)N')\n",
        "\n",
        "molSize=(450,150)\n",
        "mc = Chem.Mol(mol.ToBinary())\n",
        "if not mc.GetNumConformers():\n",
        "  #Compute 2D coordinates\n",
        "  rdDepictor.Compute2DCoords(mc)\n",
        "\n",
        "# init the drawer with the size\n",
        "drawer = rdMolDraw2D.MolDraw2DSVG(molSize[0],molSize[1])\n",
        "\n",
        "#draw the molcule\n",
        "drawer.DrawMolecule(mc)\n",
        "drawer.FinishDrawing()\n",
        "\n",
        "# get the SVG string\n",
        "svg = drawer.GetDrawingText()\n",
        "\n",
        "# fix the svg string and display it\n",
        "display(SVG(svg.replace('svg:','')))"
      ],
      "execution_count": null,
      "outputs": []
    },
    {
      "cell_type": "markdown",
      "metadata": {
        "id": "BGJ0Eid5XcNQ"
      },
      "source": [
        "# Get Drugs from DrugBank\n",
        "\n",
        "Free access to DrugBank is permitted for students, academics and non-profits; you need to apply for access then use your username\n",
        "and password to login or `wget` files (using `--user` and `--password`).\n",
        "\n",
        "See: https://go.drugbank.com/releases/latest#structures"
      ]
    },
    {
      "cell_type": "code",
      "metadata": {
        "id": "eto5uBeBJfu8"
      },
      "source": [
        "### WARNING! NEVER EMBED USERNAME AND PASSWORD!!! ###\n",
        "### ESPECIALLY BEFORE SAVING OR COMMITTING CHANGES!!! ###\n",
        "\n",
        "import getpass\n",
        "user = getpass.getpass(\"DrugBank username: \")\n",
        "pwd = getpass.getpass(\"DrugBank password: \")\n",
        "\n",
        "#!wget --user $user --password $pwd https://go.drugbank.com/releases/5-1-8/downloads/all-structures\n",
        "!wget --user $user --password $pwd https://go.drugbank.com/releases/5-1-8/downloads/all-3d-structures\n",
        "#!wget --user $user --password $pwd https://go.drugbank.com/releases/5-1-8/downloads/all-structure-links"
      ],
      "execution_count": null,
      "outputs": []
    },
    {
      "cell_type": "code",
      "metadata": {
        "id": "icrspOE6TfEq"
      },
      "source": [
        "%ls"
      ],
      "execution_count": null,
      "outputs": []
    },
    {
      "cell_type": "code",
      "metadata": {
        "id": "2qR67Ud_Ut0t"
      },
      "source": [
        "!unzip all-3d-structures \n",
        "#!unzip all-structure-links \n",
        "#!unzip all-structures"
      ],
      "execution_count": null,
      "outputs": []
    },
    {
      "cell_type": "code",
      "metadata": {
        "id": "KMOZ_vA7Uzas"
      },
      "source": [
        "%ls"
      ],
      "execution_count": null,
      "outputs": []
    },
    {
      "cell_type": "code",
      "metadata": {
        "id": "2wTXpq_MU-wg"
      },
      "source": [
        "!mv 3D\\ structures.sdf all-drugbank-3D.sdf"
      ],
      "execution_count": null,
      "outputs": []
    },
    {
      "cell_type": "code",
      "metadata": {
        "id": "daqRDYwfVGyr"
      },
      "source": [
        "%ls"
      ],
      "execution_count": null,
      "outputs": []
    },
    {
      "cell_type": "markdown",
      "metadata": {
        "id": "6pNVGFlZ-S92"
      },
      "source": [
        "# Drawing Molecules in a Grid"
      ]
    },
    {
      "cell_type": "code",
      "metadata": {
        "id": "G21V6WbMnLsH"
      },
      "source": [
        "smiles = [\n",
        "    'N#CC(OC1OC(COC2OC(CO)C(O)C(O)C2O)C(O)C(O)C1O)c1ccccc1',\n",
        "    'c1ccc2c(c1)ccc1c2ccc2c3ccccc3ccc21',\n",
        "    'C=C(C)C1Cc2c(ccc3c2OC2COc4cc(OC)c(OC)cc4C2C3=O)O1',\n",
        "    'ClC(Cl)=C(c1ccc(Cl)cc1)c1ccc(Cl)cc1'\n",
        "]\n",
        "\n",
        "mols = [Chem.MolFromSmiles(smi) for smi in smiles]"
      ],
      "execution_count": null,
      "outputs": []
    },
    {
      "cell_type": "code",
      "metadata": {
        "id": "-D4lfJTWoM2i"
      },
      "source": [
        "Draw.MolsToGridImage(mols, molsPerRow=2, subImgSize=(200, 200))"
      ],
      "execution_count": null,
      "outputs": []
    },
    {
      "cell_type": "markdown",
      "metadata": {
        "id": "VDbL-Lp5dxV2"
      },
      "source": [
        "# Get 3D Structures of Drugs from DrugBank\n",
        "\n",
        "This will include everything: approved, withdrawn, illicit drugs and nutraceuticals, etc."
      ]
    },
    {
      "cell_type": "code",
      "metadata": {
        "id": "bOCR-1CkoPUD"
      },
      "source": [
        "# Read in the 3D coordinates of all the drugs in DrugBank\n",
        "# See Susan Leung's Blopig post: https://www.blopig.com/blog/2017/02/using-rdkit-to-load-ligand-sdfs-into-pandas-dataframes/\n",
        "filename = 'all-drugbank-3D.sdf'\n",
        "drugbank = PandasTools.LoadSDF(filename)"
      ],
      "execution_count": null,
      "outputs": []
    },
    {
      "cell_type": "code",
      "metadata": {
        "id": "stuCE4oSrT7U"
      },
      "source": [
        "drugbank.info()"
      ],
      "execution_count": null,
      "outputs": []
    },
    {
      "cell_type": "code",
      "metadata": {
        "id": "YT3ISMLerZEx"
      },
      "source": [
        "drugbank[:3]"
      ],
      "execution_count": null,
      "outputs": []
    },
    {
      "cell_type": "code",
      "metadata": {
        "id": "Dl-ufyswrmvL"
      },
      "source": [
        "drugbank[['MOLECULAR_WEIGHT','ROMol']][:3]"
      ],
      "execution_count": null,
      "outputs": []
    },
    {
      "cell_type": "markdown",
      "metadata": {
        "id": "ik19isaZePDp"
      },
      "source": [
        "## Make 2D Copies of the Molecules\n",
        "\n",
        "If we don't make deep copies of each molecule, Compute2DCoords will overwrite the original 3D coordinates of the atoms."
      ]
    },
    {
      "cell_type": "code",
      "metadata": {
        "id": "d3YdljuTsuKp"
      },
      "source": [
        "copy_of_mols = pd.Series( deepcopy(drugbank['ROMol'].to_dict()) ) # See: https://stackoverflow.com/questions/52708341/make-a-truly-deep-copy-of-a-pandas-series\n",
        "for m in copy_of_mols:\n",
        "  _ = AllChem.Compute2DCoords(m) # only updates coords of m\n",
        "drugbank_2D = [m for m in copy_of_mols]\n",
        "\n",
        "drugbank['ROMol_2D'] = drugbank_2D"
      ],
      "execution_count": null,
      "outputs": []
    },
    {
      "cell_type": "code",
      "metadata": {
        "id": "jwPhJ-JrsvH3"
      },
      "source": [
        "drugbank[['MOLECULAR_WEIGHT', 'ROMol', 'ROMol_2D']][:2]"
      ],
      "execution_count": null,
      "outputs": []
    },
    {
      "cell_type": "code",
      "metadata": {
        "id": "-xCQ3WxMsJ9m"
      },
      "source": [
        "drug = drugbank['ROMol'][0]"
      ],
      "execution_count": null,
      "outputs": []
    },
    {
      "cell_type": "code",
      "metadata": {
        "id": "Erjecenn-nAY"
      },
      "source": [
        "drug"
      ],
      "execution_count": null,
      "outputs": []
    },
    {
      "cell_type": "code",
      "metadata": {
        "id": "Lk1r36pc-s1M"
      },
      "source": [
        "IPythonConsole.drawMol3D(drug)"
      ],
      "execution_count": null,
      "outputs": []
    },
    {
      "cell_type": "code",
      "metadata": {
        "id": "qW2SaQp5-xNp"
      },
      "source": [
        "view = py3Dmol.view(query='pdb:1hvr')\n",
        "view.setStyle({'cartoon':{'color':'spectrum'}})\n",
        "view"
      ],
      "execution_count": null,
      "outputs": []
    },
    {
      "cell_type": "code",
      "metadata": {
        "id": "__XuZixaAKAt"
      },
      "source": [
        "IPythonConsole.ipython_3d = False"
      ],
      "execution_count": null,
      "outputs": []
    },
    {
      "cell_type": "code",
      "metadata": {
        "id": "GcwamnYzcYmS"
      },
      "source": [
        "drug"
      ],
      "execution_count": null,
      "outputs": []
    },
    {
      "cell_type": "code",
      "metadata": {
        "id": "ogpBYSAXcddw"
      },
      "source": [
        "IPythonConsole.ipython_3d = True"
      ],
      "execution_count": null,
      "outputs": []
    },
    {
      "cell_type": "code",
      "metadata": {
        "id": "Ex2R8O0xcmdG"
      },
      "source": [
        "drug"
      ],
      "execution_count": null,
      "outputs": []
    }
  ]
}