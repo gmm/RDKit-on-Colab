{
  "nbformat": 4,
  "nbformat_minor": 0,
  "metadata": {
    "colab": {
      "name": "morris@stats.ox.ac.uk",
      "provenance": [],
      "collapsed_sections": [],
      "include_colab_link": true
    },
    "kernelspec": {
      "display_name": "Python 3",
      "name": "python3"
    }
  },
  "cells": [
    {
      "cell_type": "markdown",
      "metadata": {
        "id": "view-in-github",
        "colab_type": "text"
      },
      "source": [
        "<a href=\"https://colab.research.google.com/github/gmm/RDKit-on-Colab/blob/main/RDKit_Google_Colab.ipynb\" target=\"_parent\"><img src=\"https://colab.research.google.com/assets/colab-badge.svg\" alt=\"Open In Colab\"/></a>"
      ]
    },
    {
      "cell_type": "markdown",
      "metadata": {
        "id": "M_jLJcOB86Dm"
      },
      "source": [
        "# A Brief Introduction to Chemistry\n",
        "\n",
        "## Molecules, Atoms, and Bonds\n",
        "\n",
        "All life is made of [molecules](https://en.wikipedia.org/wiki/Molecule), which in turn, are made of [atoms](https://en.wikipedia.org/wiki/Atom) and [bonds](https://en.wikipedia.org/wiki/Chemical_bond). The realm of molecules is incredibly small: too small to see with the naked eye. A water molecule is about 0.27 nm, or 2.7 Ångstrom (1 Å = 10<sup>-10</sup> m), and the simplest possible molecule, dihydrogen, or H<sub>2</sub>, is only 0.74 Å.\n",
        "\n",
        "The classic \"Powers of Ten\" visualizes beautifully the amazing worlds that exist at different scales:\n"
      ]
    },
    {
      "cell_type": "code",
      "source": [
        "from IPython.lib.display import YouTubeVideo\n",
        "YouTubeVideo('0fKBhvDjuy0', width=800, height=600)"
      ],
      "metadata": {
        "id": "uidonQM1G-1G"
      },
      "execution_count": null,
      "outputs": []
    },
    {
      "cell_type": "markdown",
      "source": [
        "Atoms have physical and chemical properties that are determined by their atomic and electronic structure: how many protons in the nucleus (determines the element), how many neutrons in the nucleus (determines the isotope) and how many electrons (determines the charge on the atom).\n",
        "\n",
        "## The Periodic Table\n",
        "\n",
        "The elements can be arranged periodically according to their number of protons (\"atomic number\") and the number of electrons in their outermost shells when they are neutral. These periodic patterns of atomic structure reveal similarities in physicochemical properties, and are exemplified in the [periodic table](https://en.wikipedia.org/wiki/Periodic_table):\n",
        "\n",
        "<p style=\"text-align: center\">\n",
        "<img src=\"https://upload.wikimedia.org/wikipedia/commons/c/c1/Periodic_table_%2832-col%2C_enwiki%29%2C_black_and_white.png\" alt=\"The Periodic Table\" width=\"1000\"/>\n",
        "Image Credit: Anonymous, <a href=\"https://commons.wikimedia.org/wiki/File:Periodic_table_(32-col,_enwiki),_black_and_white.png\">Periodic table (32-col, enwiki), black and white</a>, <a href=\"https://creativecommons.org/licenses/by-sa/4.0/legalcode\" rel=\"license\">CC BY-SA 4.0</a>\n",
        "</p>\n",
        "\n",
        "This video version of the periodic table is particularly fun: [Periodic Videos](http://www.periodicvideos.com)…\n",
        "\n",
        "## Electrons and Valency\n",
        "\n",
        "One of the consequences of the quantum mechanical nature of atoms is that their electrons reside in discrete energy levels, sometimes referred to as \"[shells](https://en.wikipedia.org/wiki/Electron_shell)\". Pre-quantum mechanical ideas visualized these electrons as \"orbitting\" the nucleus, like planets around a star--but this model is [inaccurate](https://en.wikipedia.org/wiki/Uncertainty_principle). It's better to think of electrons as probability density clouds, which in atoms are known as \"[atomic orbitals](https://en.wikipedia.org/wiki/Atomic_orbital)\":\n",
        "\n",
        "<p style=\"text-align: center\">\n",
        "    <img src=\"https://upload.wikimedia.org/wikipedia/commons/c/c4/Atomic-orbital-clouds_spdf_m0.png\" alt=\"Atomic Orbitals\" width=\"400\" style=\"display=block; margin:auto\"/>\n",
        "    Image Credit: <a href=\"https://commons.wikimedia.org/wiki/User:Geek3\">Geek3</a>, <a href=\"https://commons.wikimedia.org/wiki/File:Atomic-orbital-clouds_spdf_m0.png\">Atomic-orbital-clouds spdf m0</a>, <a href=\"https://creativecommons.org/licenses/by-sa/4.0/legalcode\" rel=\"license\">CC BY-SA 4.0</a>\n",
        "</p>\n",
        "\n",
        "Each of these shells has a maximum capacity to hold electrons, and they fill up with electrons in order from lowest energy to highest. The number of protons in the nucleus, and the number of electrons in the highest energy level--or \"outermost shell\"--determine the physical and chemcial properties of the element, and how many atoms it can bond to at once, a.k.a. its [valency](https://en.wikipedia.org/wiki/Valence_(chemistry)). You [can use valency to figure out the formula](https://www.bbc.co.uk/bitesize/guides/zqrxsbk/revision/2) of a compound.\n",
        "\n",
        "## Organic Molecules\n",
        "\n",
        "[Organic molecules](https://en.wikipedia.org/wiki/Organic_compound) are made up of carbon (C) and hydrogen (H), usually have nitrogen (N) and/or oxygen (O); and can have other elements like phosphorus (P) and sulfur (S). Small molecule drugs can contain other elements, like halogens: fluorine (F), chlorine (Cl), Bromine (Br), and/or iodine (I); or other elements such as boron (B).\n",
        "\n",
        "## Bonds\n",
        "\n",
        "Pairs of adjacent atoms in molecules are held together by strong covalent bonds, which are formed when the atom pairs share their outermost electrons. There are different types of covalent bonds: single, double, and triple bonds, in which one, two, or three pairs of electrons respectively are shared between the bonded atoms. The strongest bonds are triple, then double, then single. The stronger the bond, the shorter they tend to be.\n",
        "\n",
        "## Saturation\n",
        "\n",
        "The concept of \"saturation\" relates to how much hydrogen is attached to the carbon atoms and whether the carbons are singly, doubly or triply bonded. Hydrocarbons are compounds made up of hydrogen and carbon. A fully saturated hydrocarbon compound has the highest hydrogen to carbon ratio, while an unsaturated compound has the least hydrogen. For example, ethane has the chemical formula C<sub>2</sub>H<sub>6</sub> and the two carbon atoms are connected by a single bond. Ethene also has two carbon atoms, but it has a double bond between the carbons, and the formula C<sub>2</sub>H<sub>4</sub>. Ethane is saturated, while ethene is unsaturated.\n",
        "\n",
        "## Non-Covalent Bonds\n",
        "\n",
        "There are also non-covalent bonds, which are weaker than covalent bonds, and can form between parts of the same molecule, or between different molecules. One of the most common non-covalent bond is the hydrogen bond, or \"H-bond\" for short.\n",
        "\n",
        "## Hydrogen Bonds\n",
        "\n",
        "[Hydrogen bonds](https://en.wikipedia.org/wiki/Hydrogen_bond) are weak, directional interactions that arise as a result of differences in [electronegativity](https://en.wikipedia.org/wiki/Electronegativity) between hydrogen (less electronegative) and atoms like oxygen and nitrogen (more electronegative). The difference in electronegativity between two atoms in a bond causes the electrons in the bond(s) between the atoms to be distributed unequally, so one atom becomes slightly positively charged, and the other slightly negative. A hydrogen bond involves a hydrogen bond donor such as an N-H group, and a hydrogen bond acceptor such as an oxygen atom, and is often represented by dotted lines: N-H•••O. H-bonds while weak are highly directional: the angle from the H-bonding donor atom, via the H to the H-bonding acceptor tends to be ~180°. This leads to emergent local structure btween molecules, such as the tetrahedral lattice in water ice; or (secondary structure in proteins)[https://en.wikipedia.org/wiki/Protein_secondary_structure] formed by adjacent backbone amide groups.\n",
        "\n",
        "## Salt Bridges\n",
        "\n",
        "When the two groups or atoms interacting are charged, they can form salt bridges. These interactions are ionic, and involve positively charged (\"cationic\") and negatively charged (\"anionic\") groups. These types of interactions are observed between postively (arginine, lysine and sometimes histidine sidechains) and negatively charged amino acid (aspartic and glutamic acids) side chains (and their N- and C-termini). It's also possible for small molecule drugs to form salt bridges to amino acids in proteins, *e.g.* tamiflu binding to neuraminidase spikes in influenza virus)\n",
        "\n",
        "## Rings\n",
        "\n",
        "Molecules can be thought of as (graphs)[https://en.wikipedia.org/wiki/Graph_theory] where the nodes are atoms and the edges are bonds. Just like graphs, molecules can be linear, branched, or cyclic with the atoms arranged in *so called* rings. A saturated hydrocarbon 6-membered ring consists of six carbon atoms connected by six single bonds and is called *saturated*: this molecule is called \"cyclohexane\", and is an example of an \"aliphatic ring\"; it has the chemical formula C<sub>6</sub>H<sub>12</sub> But it is also possible to have a *unsaturated* 6-membered hydrocarbon ring with six carbons and alternating single and double bonds: this molecule is called \"benzene\", and is known as an \"[aromatic](https://en.wikipedia.org/wiki/Aromatic_compound) ring\"; it has the chemical formula C<sub>6</sub>H<sub>6</sub>. [Aromatic rings](https://en.wikipedia.org/wiki/Simple_aromatic_ring) feature heavily in small molecule drugs. One of the features of [aromaticity](https://en.wikipedia.org/wiki/Aromaticity) are the rings of negative electron clouds above and below the plane of the atoms. Another feature is molecular shape.\n",
        "\n",
        "## Molecular Shape and Conformation\n",
        "\n",
        "The shape of aromatic and aliphatic 6-membered carbon rings is quite different. [Benzene](https://en.wikipedia.org/wiki/Benzene), like all aromatic rings, is flat; but aliphatic cyclohexane is three-dimensional. Because it is possible to rotate connected atoms about a single bond, cyclohexane can adopt different [conformations](https://en.wikipedia.org/wiki/Cyclohexane_conformation). The most stable is the *chair* conformation, and the least stable, highest energy state is the *boat* conformation; intermediate between these two is the *twist boat* conformation.\n",
        "\n",
        "## Chemical Space\n",
        "\n",
        "With the combinatorics that emerges from the valencies of different elements, different bond types, and whether a molecule is linear, branched or cyclic, it's easy to imagine lots of possible small molecules. [Bohacek *et al.*](https://onlinelibrary.wiley.com/doi/abs/10.1002/%28SICI%291098-1128%28199601%2916%3A1%3C3%3A%3AAID-MED1%3E3.0.CO%3B2-6?sid=nlm%3Apubmed) claimed that just restricting ourselves to molecules with up to 30 atoms chosen from C, N, O, S, and H atoms, the \"true number [of molecules] will be well in excess of 10<sup>60</sup>\" [Bohacek *et al.*, 1996, *Med. Res. Rev.*, __16__: 3-50).\n",
        "\n",
        "## Functional Groups\n",
        "\n",
        "Often when describing parts of molecules that can vary, chemists use the symbol \"R\" to describe a group or sub-graph that is generic. When there are several points of variation, a subscripted number is used, such as \"R<sub>1</sub>\" or \"R<sub>2</sub>\".\n",
        "\n",
        "Common 'sub-graphs' in molecules are referred to by chemists as \"[functional groups](https://en.wikipedia.org/wiki/Functional_group)\". Functional groups have unique physicochemical properties, such as being neutral, negatively or positively charged; or being hydrophobic or hydrophilic. Examples include hydroxyl groups, R(OH); carbonyl groups, R<sub>1</sub>(C=O)R<sub>2</sub>; carboxylic acid groups, R(O=C-OH); and ammonium groups, R(NH<sub>3</sub><sup>+</sup>). \n",
        "\n",
        "## Molecular Properties\n",
        "\n",
        "Molecules have [chemical properties](https://en.wikipedia.org/wiki/Chemical_property) and [physical properties](https://en.wikipedia.org/wiki/Physical_property) that emerge from their chemical structure: whether they are solid, liquid or gaseous at a given temperature; their melting point if solid, or boiling point if liquid. They also have properties such as [molecular weight](https://en.wikipedia.org/wiki/Molecular_mass) (the sum of the atomic masses of all the atoms in the molecule, measured in Daltons, or \"Da\"); and counts, such as the number of non-hydrogen 'heavy' atoms, or the number of hydrogren bond donors. Cheminformatics software allows us to [calculate many such molecular descriptors](https://www.rdkit.org/docs/GettingStartedInPython.html#descriptor-calculation).\n",
        "\n",
        "## Molecular Recognition and Pharmacophores\n",
        "\n",
        "Small molecule drugs (sometimes referred to as 'ligands') bind to their target or targets, usually via non-covalent interactions such as H-bonds, salt bridges, and hydrophobic interactions. A key concept in these interactions is *complementarity*: an H-bond donor in the ligand interacts with an H-bond acceptor in the target; a positively charged group in the ligand interacts with a negatively charged group in the target; and so on. In addition to these electrostatic interactions, there are *steric* interactions, governed by [shape complementarity](https://en.wikipedia.org/wiki/Docking_(molecular)#Shape_complementarity), a bit like \"knobs\" fitting into \"holes\". Many of these concepts are embodied in protein-ligand [docking](https://en.wikipedia.org/wiki/Docking_(molecular)) software, where a search of the conformational, translational, and orientational degrees of freedom of a protein and ligand is performed using a [scoring function](https://en.wikipedia.org/wiki/Docking_(molecular)#Scoring_function) that quantifies the intermolecular and intramolecular interactions.\n",
        "\n",
        "The essential 3D arrangement of chemical features required for binding to a target is known as a *pharmacophore*, which the IUPAC defines as: \n",
        "\n",
        ">\"__Pharmacophore  (pharmacophoric pattern)__ A pharmacophore is the ensemble of steric and electronic features that is necessary to ensure the optimal supramolecular  interactions  with  a  specific  biological  target  structure  and to trigger  (or  to  block) its biological response.\"\n",
        "\n",
        ">\"A pharmacophore does not represent a real molecule  or a real association of functional groups, but a purely  abstract concept that accounts for the common molecular  interaction  capacities of a  group of compounds towards their  target  structure. The pharmacophore can be considered as the  largest  common  denominator  shared  by a  set of active molecules. This  definition discards a misuse  often  found in the medicinal  chemistry literature which consists of naming  as pharmacophores simple chemical functionalities such  as guanidines,  sulfonamides or dihydroimidazoles (formerly imidazolines), or typical  structural skeletons such as flavones, phenothiazines, prostaglandins or steroids.\"\n",
        "\n",
        "For this and other definitions, see: Wermuth CG, Ganellin CR, Lindberg P, and Mitscher LA (1998), \"Glossary of terms used in medicinal chemistry (IUPAC Recommendations 1998)\", *Pure and Applied Chemistry*, __70__ (5): 1129–1143. [doi:10.1351/pac199870051129](https://www.degruyter.com/document/doi/10.1351/pac199870051129/html)\n",
        "\n"
      ],
      "metadata": {
        "id": "M-yofuQUG5Yh"
      }
    },
    {
      "cell_type": "markdown",
      "source": [
        "\n",
        "# Cheminformatics\n",
        "\n",
        "The discipline of cheminformatics is centred on the algorithmic manipulation of chemical information. It allows us to store representations of (ususally small organic) molecules in a computer, and run algorithms on them to compute molecular properties, compare molecules, or search massive databases of molecules. In combination with machine learning, cheminformatics allows us to expand our models to molecular property prediction and even *de novo* design. The open source cheminformatics API, [RDKit](http://www.rdkit.org), provides a wealth of such functionality, that can be accessed from e`ither C++ or [Python](https://www.rdkit.org/docs/GettingStartedInPython.htmlhttps://www.rdkit.org/docs/GettingStartedInPython.html).\n",
        "\n",
        "## Python\n",
        "\n",
        "[Python](https://www.python.org) is a powerful general purpose, interpreted language that acts a computational glue for a wide variety of mathematical and scientific algorithms, including cheminformatics, bioinformatics, and biomolecular simulation. It has become extremely popular in data science. [iPython](https://ipython.org) provides a powerful interactive Python environment that also works well with the host operating system using so called [magic commands](https://ipython.readthedocs.io/en/stable/interactive/python-ipython-diff.html), which unlike Python begin with a \"%\" symbol. For example, \"%cd\" will change the directory that Python is currently running in. iPython also supports interactive data visualization and the use of GUI (Graphical User Interface) toolkits.\n",
        "\n",
        "The Python language has two variants: Python 2 and Python 3; while they are very similar, they are not backwards-compatible. This notebook has been written using Python 3 syntax.\n",
        "\n",
        "## Jupyter Notebooks on Google Colab\n",
        "\n",
        "Google provides a way to run Python from a web browser. This is done using [Jupyter](https://jupyter.org), which gives us a way to store code and document it in documents called notebooks, with the file extension ``.ipynb``. These notebooks have \"cells\" in which you can type Python code, or [Markdown](https://daringfireball.net/projects/markdown/)-formatted text. These Jupyter iPython notebooks run on Google servers remotely using \"Google Colab\". This iPython Notebook has been developed to run on Google Colab.\n",
        "\n",
        "Google Colab connects to remote virtual machines known as Google Compute Engine (GCE), and offers different types of runtimes which can be changed from the Runtime menu. Google Colab is a free service, but it is possible to pay for higher tier service that includes access to more memory, GPUs (Graphics Processing Units) and TPUs (Tensor Processing Units).\n",
        "\n",
        "## Software Package Managers\n",
        "\n",
        "Software can have many dependencies so we use package managers to take care of tracking these details. In Python, we can install extra functionality using the software package manager \"[Conda](https://docs.conda.io/en/latest/)\". Conda automatically includes a large number of Python packages like [NumPy](https://numpy.org) and [SciPy](https://scipy.org), but it doesn't include RDKit.\n",
        "\n",
        "We start by installing Conda and Mamba, using them to install the additional Python packages we need -- most importantly, RDKit.\n"
      ],
      "metadata": {
        "id": "HuFNXkTUI9vS"
      }
    },
    {
      "cell_type": "markdown",
      "source": [
        "\n",
        "## 1. Install the Python Package Manager\n",
        "\n",
        "First we need to install conda before we can install RDKit. We use CondaColab, which was developed by [Jaime Rodríguez-Guerra](https://github.com/jaimergp), a solution that is discussed here:\n",
        "\n",
        "* https://inside-machinelearning.com/en/how-to-install-use-conda-on-google-colab/.\n",
        "\n",
        "This needs to be run at the start of the notebook, because it restarts the kernel.\n",
        "\n",
        "CondaColab uses [Mamba](https://mamba.readthedocs.io/en/latest/index.html), a \"fast, robust, and cross-platform package manager, ... a Python-based CLI conceived as a drop-in replacement for conda, offering higher speed and more reliable environment solutions.\" Mamba's [core is implemented in C++ and allows parallel downloading of repository data and package files using multi-threading](https://github.com/mamba-org/mamba).\n",
        "\n",
        "By default, CondaColab installs Mambaforge,  but `condacolab.install_anaconda()` [will install the Anaconda 2020.02 distribution, the last version that was built for Python 3.7](https://github.com/jaimergp/condacolab) (which is needed for Google Colab as of July 2021).\n",
        "\n",
        "Don't panic when you see \"Your session crashed for an unknown reason.\" pop up: the kernel restarts automatically so it has access to the newly installed software, but Colab picks this up as an error. You want this to happen, so you can use the new `conda` environment."
      ],
      "metadata": {
        "id": "r05IS2n6JF-K"
      }
    },
    {
      "cell_type": "code",
      "metadata": {
        "collapsed": true,
        "id": "tDmcqt_v2xDM"
      },
      "source": [
        "# Running this cell is only necessary when running this Notebook on Google Colab\n",
        "\n",
        "!time pip install -q condacolab  # ~5s to run\n",
        "import condacolab\n",
        "condacolab.install()  # for ML, use `condacolab.install_anaconda()`; ~30s to run\n",
        "\n",
        "# When finished, the kernel will restart automatically with the new conda\n",
        "# functionality, and show message:\n",
        "# \"Your session crashed for an unknown reason.\"\n",
        "# --Click the \"X\" to dismiss it."
      ],
      "execution_count": null,
      "outputs": []
    },
    {
      "cell_type": "markdown",
      "metadata": {
        "id": "J7pOPzxXbcih"
      },
      "source": [
        "Check the versions of conda and mamba: they should be 4.9.2 and 0.8.0 or later, respectively."
      ]
    },
    {
      "cell_type": "code",
      "metadata": {
        "id": "ywwgQ0rm2-qM"
      },
      "source": [
        "!which conda\n",
        "!conda --version\n",
        "!which mamba\n",
        "!mamba --version"
      ],
      "execution_count": null,
      "outputs": []
    },
    {
      "cell_type": "markdown",
      "metadata": {
        "id": "aqIIc2oRXgbJ"
      },
      "source": [
        "# 2. Update Conda\n",
        "\n",
        "In tests, `Mamba` seems to be slightly faster than `Conda` to update all the packages:"
      ]
    },
    {
      "cell_type": "code",
      "metadata": {
        "id": "DbWh98s6Xqww"
      },
      "source": [
        "#!time conda update -y -n base conda"
      ],
      "execution_count": null,
      "outputs": []
    },
    {
      "cell_type": "code",
      "metadata": {
        "id": "i2faZHNDc4bi"
      },
      "source": [
        "!time mamba update -y -n base conda  # ~16-18s to run"
      ],
      "execution_count": null,
      "outputs": []
    },
    {
      "cell_type": "code",
      "metadata": {
        "id": "kpBfPxfFedxt"
      },
      "source": [
        "!conda --version\n",
        "!mamba --version"
      ],
      "execution_count": null,
      "outputs": []
    },
    {
      "cell_type": "markdown",
      "metadata": {
        "id": "Uusded0V9p5T"
      },
      "source": [
        "# 3. Install RDKit\n",
        "\n",
        "Use mamba to install RDKit."
      ]
    },
    {
      "cell_type": "code",
      "metadata": {
        "id": "5-mgVwD58M62"
      },
      "source": [
        "# Install the latest version of RDKit using mamba\n",
        "#\n",
        "#  -- Hint: don't create a separate environment, otherwise you must activate\n",
        "#           it before Google's Jupyter starts\n",
        "\n",
        "!time mamba install -y -c rdkit rdkit  # ~41s to install"
      ],
      "execution_count": null,
      "outputs": []
    },
    {
      "cell_type": "markdown",
      "metadata": {
        "id": "FrlXGS-THyWU"
      },
      "source": [
        "# 4. Install Py3Dmol\n",
        "Py3Dmol lets us view and interact with 3D molecules directly in iPython and Jupyter Notebooks."
      ]
    },
    {
      "cell_type": "code",
      "metadata": {
        "id": "MQXTwyf4_Gqs"
      },
      "source": [
        "!time mamba install -y -c conda-forge py3dmol  # ~1 min to install"
      ],
      "execution_count": null,
      "outputs": []
    },
    {
      "cell_type": "code",
      "metadata": {
        "id": "5dE-1RWJFzId"
      },
      "source": [
        "# What directory are we in?\n",
        "\n",
        "%pwd"
      ],
      "execution_count": null,
      "outputs": []
    },
    {
      "cell_type": "code",
      "metadata": {
        "id": "nUQXebv-Q42s"
      },
      "source": [
        "# What files and directories are already here?\n",
        "\n",
        "%ls"
      ],
      "execution_count": null,
      "outputs": []
    },
    {
      "cell_type": "code",
      "metadata": {
        "id": "F1jo7dmpCa8Z"
      },
      "source": [
        "from IPython.display import SVG # to use Scalar Vector Graphics (SVG) not bitmaps, for cleaner lines"
      ],
      "execution_count": null,
      "outputs": []
    },
    {
      "cell_type": "markdown",
      "metadata": {
        "id": "afMZlQrsagW-"
      },
      "source": [
        "# 5. Import RDKit\n",
        "\n",
        "There are lots of useful websites explaining how to use RDKit:\n",
        "\n",
        "*   [Getting Started with the RDKit in Python](https://rdkit.readthedocs.io/en/latest/GettingStartedInPython.html)\n",
        "* [Greg Landrum's RDKit Blog](https://greglandrum.github.io/rdkit-blog)\n",
        "** [Generating 3D conformers of molecules](https://greglandrum.github.io/rdkit-blog/conformers/exploration/2021/02/22/etkdg-and-distance-constraints.html)\n",
        "*   https://xinhaoli74.github.io/blog/\n",
        "**    https://xinhaoli74.github.io/blog/rdkit/2021/01/06/rdkit.html\n",
        "\n"
      ]
    },
    {
      "cell_type": "code",
      "metadata": {
        "id": "VkxvAuOXxWHf"
      },
      "source": [
        "import rdkit\n",
        "from rdkit import Chem\n",
        "from rdkit.Chem import Draw # to draw molecules\n",
        "from rdkit.Chem.Draw import IPythonConsole # to draw inline in iPython\n",
        "from rdkit.Chem import AllChem  # we need this to compute 2D depictions\n",
        "from rdkit.Chem import rdDepictor  # to generate 2D depictions of molecules\n",
        "from rdkit.Chem.Draw import rdMolDraw2D # to draw 2D molecules using vectors\n",
        "from rdkit.Chem import PandasTools # we use this to read in SDFs into pandas dataframes\n",
        "\n",
        "# What version of RDKit are we running?\n",
        "print(rdkit.__version__)"
      ],
      "execution_count": null,
      "outputs": []
    },
    {
      "cell_type": "code",
      "metadata": {
        "id": "WO71StWG9asS"
      },
      "source": [
        "# To show molecules interactively in 3D:\n",
        "IPythonConsole.ipython_3d = True\n",
        "\n",
        "# later on, get a conformer from an RDKit molecule, and then use:\n",
        "# IPythonConsole.drawMol3D(m, confID=cids[0])\n",
        "\n",
        "# See: https://greglandrum.github.io/rdkit-blog/conformers/exploration/2021/02/22/etkdg-and-distance-constraints.html"
      ],
      "execution_count": null,
      "outputs": []
    },
    {
      "cell_type": "code",
      "metadata": {
        "id": "Tg7bvBmHBR-P"
      },
      "source": [
        "import py3Dmol # for inline 3D interactive views of molecules"
      ],
      "execution_count": null,
      "outputs": []
    },
    {
      "cell_type": "code",
      "source": [
        "from copy import deepcopy  # we need deep copies of the molecule to avoid losing 3D coordinates"
      ],
      "metadata": {
        "id": "9iNQfVsmSF73"
      },
      "execution_count": null,
      "outputs": []
    },
    {
      "cell_type": "code",
      "metadata": {
        "id": "FbNG7daA2KCk"
      },
      "source": [
        "import pandas as pd # we need this to make copies of pandas columns of molecules"
      ],
      "execution_count": null,
      "outputs": []
    },
    {
      "cell_type": "markdown",
      "metadata": {
        "id": "iAeOPn9pDWw7"
      },
      "source": [
        "# 6. Let's Draw Some Molecules!\n",
        "\n",
        "We can create molecules by starting from a string that describes the elements, bonds (and their connectivity), stereochemistry, and charge of the molecule, using SMILES ([Simplified Molecular Input Line Entry System](https://en.wikipedia.org/wiki/Simplified_molecular-input_line-entry_system)). Branches are written inside parentheses, while atoms in rings are closed by writing numeric digits after the atoms:\n",
        "\n",
        "<img src=\"https://upload.wikimedia.org/wikipedia/commons/0/00/SMILES.png\" width=\"400\"/>\n",
        "Image Credit: Original by <a href=\"https://commons.wikimedia.org/wiki/User:Fdardel\">Fdardel</a>, slight edit by <a href=\"https://commons.wikimedia.org/wiki/User:DMacks\">DMacks</a>, <a href=\"https://commons.wikimedia.org/wiki/File:SMILES.png\">SMILES</a>, <a href=\"https://creativecommons.org/licenses/by-sa/3.0/legalcode\" rel=\"license\">CC BY-SA 3.0</a>\n",
        "\n",
        "* [SMILES Examples](https://www.daylight.com/dayhtml_tutorials/languages/smiles/smiles_examples.html)\n",
        "* [SMILES Tutorial](https://daylight.com/dayhtml_tutorials/languages/smiles/index.html)\n"
      ]
    },
    {
      "cell_type": "code",
      "metadata": {
        "id": "emvivISdhmbH"
      },
      "source": [
        "mol = Chem.MolFromSmiles('c1ccccc1C(=O)N')\n",
        "mol"
      ],
      "execution_count": null,
      "outputs": []
    },
    {
      "cell_type": "code",
      "metadata": {
        "id": "AGVvlHmxBEJa"
      },
      "source": [
        "def show_atom_numbers(mol, label):\n",
        "  \"\"\"See https://stackoverflow.com/questions/53321453/rdkit-how-to-show-moleculars-atoms-number?answertab=active#tab-top\"\"\"\n",
        "  for atom in mol.GetAtoms():\n",
        "    atom.SetProp(label, str(atom.GetIdx()+1))\n",
        "  return mol"
      ],
      "execution_count": null,
      "outputs": []
    },
    {
      "cell_type": "code",
      "metadata": {
        "id": "ADF4RZwoBaKu"
      },
      "source": [
        "mol = Chem.MolFromSmiles('c1ccccc1C(=O)N')\n",
        "show_atom_numbers(mol, 'atomLabel')"
      ],
      "execution_count": null,
      "outputs": []
    },
    {
      "cell_type": "code",
      "metadata": {
        "id": "d2D3s1JZBgs8"
      },
      "source": [
        "mol = Chem.MolFromSmiles('c1ccccc1C(=O)N')\n",
        "show_atom_numbers(mol, 'molAtomMapNumber')"
      ],
      "execution_count": null,
      "outputs": []
    },
    {
      "cell_type": "code",
      "metadata": {
        "id": "hJGlgjinB4g5"
      },
      "source": [
        "mol = Chem.MolFromSmiles('c1ccccc1C(=O)N')\n",
        "show_atom_numbers(mol, 'atomNote')"
      ],
      "execution_count": null,
      "outputs": []
    },
    {
      "cell_type": "markdown",
      "metadata": {
        "id": "fM0bOfyfIh6V"
      },
      "source": [
        "# 7. Draw Sharper Molecules Using Vectors, not Bitmaps\n",
        "\n",
        "This code uses SVG (Scalar Vector Graphics) to depict molecules using vector graphics.\n",
        "\n",
        "See: https://leedavies.dev/index.php/2018/10/06/rdkit-in-jupyter-notebooks/"
      ]
    },
    {
      "cell_type": "code",
      "metadata": {
        "id": "Kk6O9szTCjpL"
      },
      "source": [
        "# Create mol object from smiles string\n",
        "mol = Chem.MolFromSmiles('c1cccnc1C(=O)N')\n",
        "\n",
        "molSize=(450,150)\n",
        "mc = Chem.Mol(mol.ToBinary())\n",
        "if not mc.GetNumConformers():\n",
        "  #Compute 2D coordinates\n",
        "  rdDepictor.Compute2DCoords(mc)\n",
        "\n",
        "# init the drawer with the size\n",
        "drawer = rdMolDraw2D.MolDraw2DSVG(molSize[0],molSize[1])\n",
        "\n",
        "#draw the molcule\n",
        "drawer.DrawMolecule(mc)\n",
        "drawer.FinishDrawing()\n",
        "\n",
        "# get the SVG string\n",
        "svg = drawer.GetDrawingText()\n",
        "\n",
        "# fix the svg string and display it\n",
        "display(SVG(svg.replace('svg:','')))"
      ],
      "execution_count": null,
      "outputs": []
    },
    {
      "cell_type": "markdown",
      "metadata": {
        "id": "6pNVGFlZ-S92"
      },
      "source": [
        "# 8. Draw Molecules in a Grid"
      ]
    },
    {
      "cell_type": "code",
      "metadata": {
        "id": "G21V6WbMnLsH"
      },
      "source": [
        "smiles = [ 'N#CC(OC1OC(COC2OC(CO)C(O)C(O)C2O)C(O)C(O)C1O)c1ccccc1',\n",
        "           'c1ccc2c(c1)ccc1c2ccc2c3ccccc3ccc21',\n",
        "           'C=C(C)C1Cc2c(ccc3c2OC2COc4cc(OC)c(OC)cc4C2C3=O)O1',\n",
        "           'ClC(Cl)=C(c1ccc(Cl)cc1)c1ccc(Cl)cc1']\n",
        "\n",
        "mols = [Chem.MolFromSmiles(smi) for smi in smiles]"
      ],
      "execution_count": null,
      "outputs": []
    },
    {
      "cell_type": "code",
      "metadata": {
        "id": "-D4lfJTWoM2i"
      },
      "source": [
        "Draw.MolsToGridImage(mols, molsPerRow=2, subImgSize=(300, 300))"
      ],
      "execution_count": null,
      "outputs": []
    },
    {
      "cell_type": "markdown",
      "metadata": {
        "id": "BGJ0Eid5XcNQ"
      },
      "source": [
        "# 9. Get Drugs from DrugBank\n",
        "\n",
        "Free access to DrugBank is permitted for students, academics and non-profits; but you need to apply for access, then use your username and password to login or `wget` files (using `--user` and `--password`).\n",
        "\n",
        "See: https://go.drugbank.com/releases/latest#structures"
      ]
    },
    {
      "cell_type": "code",
      "metadata": {
        "id": "eto5uBeBJfu8"
      },
      "source": [
        "### WARNING! NEVER EMBED USERNAME AND PASSWORD!!! ###\n",
        "### ESPECIALLY BEFORE SAVING OR COMMITTING CHANGES!!! ###\n",
        "\n",
        "import getpass\n",
        "user = getpass.getpass(\"DrugBank username: \")\n",
        "pwd = getpass.getpass(\"DrugBank password: \")\n",
        "\n",
        "#!wget --user $user --password $pwd https://go.drugbank.com/releases/5-1-8/downloads/all-structures\n",
        "!wget --user $user --password $pwd https://go.drugbank.com/releases/5-1-8/downloads/all-3d-structures\n",
        "#!wget --user $user --password $pwd https://go.drugbank.com/releases/5-1-8/downloads/all-structure-links"
      ],
      "execution_count": null,
      "outputs": []
    },
    {
      "cell_type": "code",
      "metadata": {
        "id": "icrspOE6TfEq"
      },
      "source": [
        "%ls"
      ],
      "execution_count": null,
      "outputs": []
    },
    {
      "cell_type": "code",
      "metadata": {
        "id": "2qR67Ud_Ut0t"
      },
      "source": [
        "!unzip all-3d-structures \n",
        "#!unzip all-structure-links \n",
        "#!unzip all-structures"
      ],
      "execution_count": null,
      "outputs": []
    },
    {
      "cell_type": "code",
      "metadata": {
        "id": "KMOZ_vA7Uzas"
      },
      "source": [
        "%ls"
      ],
      "execution_count": null,
      "outputs": []
    },
    {
      "cell_type": "code",
      "metadata": {
        "id": "2wTXpq_MU-wg"
      },
      "source": [
        "!mv 3D\\ structures.sdf all-drugbank-3D.sdf"
      ],
      "execution_count": null,
      "outputs": []
    },
    {
      "cell_type": "code",
      "metadata": {
        "id": "daqRDYwfVGyr"
      },
      "source": [
        "%ls"
      ],
      "execution_count": null,
      "outputs": []
    },
    {
      "cell_type": "markdown",
      "metadata": {
        "id": "VDbL-Lp5dxV2"
      },
      "source": [
        "# 10. Get 3D Structures of Drugs from DrugBank\n",
        "\n",
        "This will include everything: approved, withdrawn, illicit drugs and nutraceuticals, etc."
      ]
    },
    {
      "cell_type": "code",
      "metadata": {
        "id": "bOCR-1CkoPUD"
      },
      "source": [
        "# Read in the 3D coordinates of all the drugs in DrugBank\n",
        "# See Susan Leung's Blopig post: https://www.blopig.com/blog/2017/02/using-rdkit-to-load-ligand-sdfs-into-pandas-dataframes/\n",
        "filename = 'all-drugbank-3D.sdf'\n",
        "drugbank = PandasTools.LoadSDF(filename)"
      ],
      "execution_count": null,
      "outputs": []
    },
    {
      "cell_type": "code",
      "metadata": {
        "id": "stuCE4oSrT7U"
      },
      "source": [
        "drugbank.info()"
      ],
      "execution_count": null,
      "outputs": []
    },
    {
      "cell_type": "code",
      "metadata": {
        "id": "YT3ISMLerZEx"
      },
      "source": [
        "drugbank[:3]"
      ],
      "execution_count": null,
      "outputs": []
    },
    {
      "cell_type": "code",
      "metadata": {
        "id": "Dl-ufyswrmvL"
      },
      "source": [
        "drugbank[['GENERIC_NAME', 'MOLECULAR_WEIGHT', 'ROMol']][:3]"
      ],
      "execution_count": null,
      "outputs": []
    },
    {
      "cell_type": "markdown",
      "metadata": {
        "id": "ik19isaZePDp"
      },
      "source": [
        "## 11. Make 2D Copies of the Molecules\n",
        "\n",
        "If we don't make deep copies of each molecule, Compute2DCoords will overwrite the original 3D coordinates of the atoms."
      ]
    },
    {
      "cell_type": "code",
      "metadata": {
        "id": "d3YdljuTsuKp"
      },
      "source": [
        "copy_of_mols = pd.Series( deepcopy(drugbank['ROMol'].to_dict()) ) \n",
        "# See: https://stackoverflow.com/questions/52708341/make-a-truly-deep-copy-of-a-pandas-series\n",
        "for m in copy_of_mols:\n",
        "  _ = AllChem.Compute2DCoords(m) # only updates coords of m\n",
        "drugbank_2D = [m for m in copy_of_mols]\n",
        "\n",
        "drugbank['ROMol_2D'] = drugbank_2D"
      ],
      "execution_count": null,
      "outputs": []
    },
    {
      "cell_type": "code",
      "metadata": {
        "id": "jwPhJ-JrsvH3"
      },
      "source": [
        "drugbank[['GENERIC_NAME', 'MOLECULAR_WEIGHT', 'ROMol_2D']][:3]"
      ],
      "execution_count": null,
      "outputs": []
    },
    {
      "cell_type": "code",
      "metadata": {
        "id": "-xCQ3WxMsJ9m"
      },
      "source": [
        "drug = drugbank['ROMol'][2]"
      ],
      "execution_count": null,
      "outputs": []
    },
    {
      "cell_type": "code",
      "metadata": {
        "id": "Erjecenn-nAY"
      },
      "source": [
        "drug"
      ],
      "execution_count": null,
      "outputs": []
    },
    {
      "cell_type": "code",
      "metadata": {
        "id": "Lk1r36pc-s1M"
      },
      "source": [
        "IPythonConsole.drawMol3D(drug)"
      ],
      "execution_count": null,
      "outputs": []
    },
    {
      "cell_type": "code",
      "metadata": {
        "id": "qW2SaQp5-xNp"
      },
      "source": [
        "# py3Dmol can draw proteins, too; here is HIV-1 Protease\n",
        "view = py3Dmol.view(query='pdb:1hvr')\n",
        "view.setStyle({'cartoon':{'color':'spectrum'}})\n",
        "view"
      ],
      "execution_count": null,
      "outputs": []
    },
    {
      "cell_type": "code",
      "metadata": {
        "id": "__XuZixaAKAt"
      },
      "source": [
        "IPythonConsole.ipython_3d = False"
      ],
      "execution_count": null,
      "outputs": []
    },
    {
      "cell_type": "code",
      "metadata": {
        "id": "GcwamnYzcYmS"
      },
      "source": [
        "drug"
      ],
      "execution_count": null,
      "outputs": []
    },
    {
      "cell_type": "code",
      "metadata": {
        "id": "ogpBYSAXcddw"
      },
      "source": [
        "IPythonConsole.ipython_3d = True"
      ],
      "execution_count": null,
      "outputs": []
    },
    {
      "cell_type": "code",
      "metadata": {
        "id": "Ex2R8O0xcmdG"
      },
      "source": [
        "drug"
      ],
      "execution_count": null,
      "outputs": []
    },
    {
      "cell_type": "markdown",
      "metadata": {
        "id": "YE1zooY7aiS9"
      },
      "source": [
        "# 12. Install MAP4 Fingerprints\n",
        "\n",
        "Let'e experiment with a new kind of small molecule fingerprint called MAP4, from \"One molecular fingerprint to rule them all: drugs, biomolecules, and  the metabolome\" by Reymond /et al./ https://jcheminf.biomedcentral.com/articles/10.1186/s13321-020-00445-4\n",
        "\n",
        "## 12.1  MAP4 depends on TMAP:"
      ]
    },
    {
      "cell_type": "code",
      "source": [
        "!time mamba install -y -c tmap tmap"
      ],
      "metadata": {
        "id": "bc0ZDSbkX4lF"
      },
      "execution_count": null,
      "outputs": []
    },
    {
      "cell_type": "markdown",
      "source": [
        "## 12.2 Install MAP4 fingerprints"
      ],
      "metadata": {
        "id": "kCne3t1aX9xL"
      }
    },
    {
      "cell_type": "code",
      "source": [
        "##!wget https://github.com/reymond-group/map4/raw/master/environment.yml\n",
        "##!mamba env update -n base --file environment.yml\n",
        "!time pip install git+https://github.com/reymond-group/map4@v1.0"
      ],
      "metadata": {
        "id": "9HBfuyyDYuED"
      },
      "execution_count": null,
      "outputs": []
    },
    {
      "cell_type": "markdown",
      "source": [
        "# 13. Using PubChem from Python\n",
        "\n",
        "## What is PubChem?\n",
        "\n",
        "From their website: \"*PubChem* is the world's largest collection of freely accessible chemical information. Search chemicals by name, molecular formula, structure, and other identifiers. Find chemical and physical properties, biological activities, safety and toxicity information, patents, literature citations and more.\"\n",
        "\n",
        "## What is PubChemPy?\n",
        "\n",
        "From their documentation, \"``PubChemPy`` provides a way to interact with *PubChem* in ``Python``. It allows chemical searches by name, substructure and similarity, chemical standardization, conversion between chemical file formats, depiction and retrieval of chemical properties.\". Sounds useful..."
      ],
      "metadata": {
        "id": "6mD16hvITvtZ"
      }
    },
    {
      "cell_type": "code",
      "source": [
        "!mamba install -c mcs07 pubchempy"
      ],
      "metadata": {
        "id": "m2s6CG1-Y6p2"
      },
      "execution_count": null,
      "outputs": []
    },
    {
      "cell_type": "markdown",
      "source": [
        "## 13.1 Examples of how to use the PubChem Python API\n"
      ],
      "metadata": {
        "id": "UapArTRMY8mv"
      }
    },
    {
      "cell_type": "code",
      "source": [
        "from pubchempy import get_compounds, Compound\n",
        "\n",
        "### 13.1.1  Fetch a compound by its PubChem ID:\n",
        "comp = Compound.from_cid(1423)\n",
        "print(comp.isomeric_smiles)\n",
        "### Should print:\n",
        "#CCCCCCCNC1CCCC1CCCCCCC(=O)O\n",
        "\n",
        "### 13.1.2  Fetch compounds using just their name:\n",
        "comps = get_compounds('Aspirin', 'name')\n",
        "for c in comps:\n",
        "  print(c.isomeric_smiles)\n",
        "  print(c.xlogp)\n",
        "\n",
        "### Should print:\n",
        "# CC(=O)OC1=CC=CC=C1C(=O)O\n",
        "# 1.2"
      ],
      "metadata": {
        "id": "YWQQxQYoaSs0"
      },
      "execution_count": null,
      "outputs": []
    },
    {
      "cell_type": "markdown",
      "source": [
        "# 14. Compute MAP4 fingerprints from RDKit molecules\n",
        "\n",
        "Next, we will compute the similarity of benzene and aniline. See: https://github.com/reymond-group/map4/blob/master/test.py\n",
        "\n",
        "We will also use PubChem to convert from the SMILES string of the molecule to its official IUPAC name and synonyms."
      ],
      "metadata": {
        "id": "UhcpwkUvafF9"
      }
    },
    {
      "cell_type": "code",
      "source": [
        "import tmap as tm\n",
        "from map4 import MAP4Calculator\n",
        "\n",
        "smiles_1 = 'c1ccccc1'\n",
        "cpds = get_compounds(smiles_1, 'smiles')\n",
        "for c in cpds:\n",
        "  print(c.iupac_name)\n",
        "  print(c.synonyms)\n",
        "m1 = Chem.MolFromSmiles(smiles_1)\n",
        "\n",
        "smiles_2 = 'c1cccc(N)c1'\n",
        "cpds = get_compounds(smiles_2, 'smiles')\n",
        "for c in cpds:\n",
        "  print(c.iupac_name)\n",
        "  print(c.synonyms)\n",
        "m2 = Chem.MolFromSmiles(smiles_2)\n",
        "\n",
        "def get_map4_similarity_of_mols(m1, m2, dim=1024):\n",
        "  \"\"\"Calculate the minhashed distance between the MAP4 fingerprints of \n",
        "two molecules.\n",
        "\n",
        ">>> print(get_map4_similarity_of_mols(m1,m2)\n",
        "0.7861328125\n",
        "\"\"\"\n",
        "  MAP4 = MAP4Calculator(dimensions=dim)\n",
        "  ENC = tm.Minhash(dim)\n",
        "  map4_m1 = MAP4.calculate(m1)\n",
        "  map4_m2 = MAP4.calculate(m2)\n",
        "\n",
        "  # or use parallelized version:\n",
        "  fps = MAP4.calculate_many([m1, m2])\n",
        "\n",
        "  return ENC.get_distance(map4_m1, map4_m2)\n",
        "  #return ENC.get_distance(fps[0], fps[1])\n",
        "\n",
        "print(get_map4_similarity_of_mols(m1,m2))\n",
        "# Should print ~0.786"
      ],
      "metadata": {
        "id": "6DWxzuUJbNj1"
      },
      "execution_count": null,
      "outputs": []
    },
    {
      "cell_type": "markdown",
      "source": [
        "# 15. Let's try to install AutoDock...\n",
        "\n",
        "## 15.1  First, Install AutoDock Vina and Meeko\n",
        "\n",
        "See:\n",
        "*   https://autodock-vina.readthedocs.io/en/latest/installation.html\n",
        "*   https://github.com/forlilab/Meeko\n",
        "\n"
      ],
      "metadata": {
        "id": "Ao6HotJieG_o"
      }
    },
    {
      "cell_type": "code",
      "source": [
        "!pip install -U vina meeko"
      ],
      "metadata": {
        "id": "1GWGC0XYfRr5"
      },
      "execution_count": null,
      "outputs": []
    },
    {
      "cell_type": "markdown",
      "source": [
        "This code was sent by Diogo Santos Martins:"
      ],
      "metadata": {
        "id": "08hndOlwgu_2"
      }
    },
    {
      "cell_type": "code",
      "source": [
        "from vina import Vina\n",
        "from rdkit import Chem\n",
        "from rdkit.Chem import AllChem\n",
        "from meeko import MoleculePreparation\n",
        "from meeko import PDBQTMolecule"
      ],
      "metadata": {
        "id": "2NC7GkcneFdl"
      },
      "execution_count": null,
      "outputs": []
    },
    {
      "cell_type": "code",
      "source": [
        "import vina\n",
        "print(vina.__version__)"
      ],
      "metadata": {
        "id": "TGlLjCRXlCJc"
      },
      "execution_count": null,
      "outputs": []
    },
    {
      "cell_type": "code",
      "source": [
        "import meeko\n",
        "dir(meeko)"
      ],
      "metadata": {
        "id": "307YAbxrlagh"
      },
      "execution_count": null,
      "outputs": []
    },
    {
      "cell_type": "code",
      "source": [
        "# embed ligand\n",
        "rdmol = Chem.MolFromSmiles(\"C1C(O)CC=CC=CCC=CC=CC(=O)CC(C(=O)[O-])C1\")\n",
        "rdmol_H = Chem.AddHs(rdmol)\n",
        "AllChem.EmbedMolecule(rdmol_H) # bad geometries occur"
      ],
      "metadata": {
        "id": "CsIWoObUf6K3"
      },
      "execution_count": null,
      "outputs": []
    },
    {
      "cell_type": "code",
      "source": [
        "rdmol_H"
      ],
      "metadata": {
        "id": "GrUEUzbXgCEq"
      },
      "execution_count": null,
      "outputs": []
    },
    {
      "cell_type": "code",
      "source": [
        "# prepare ligand PDBQT, for \"wet-ligand\" docking:\n",
        "#meeko_prep = MoleculePreparation(macrocycle=True, hydrate=True) # generates TypeError: __init__() got an unexpected keyword argument 'macrocycle'\n",
        "meeko_prep = MoleculePreparation(hydrate=True) # works\n",
        "meeko_prep.prepare(rdmol_H)\n",
        "lig_pdbqt = meeko_prep.write_pdbqt_string()\n",
        "print(lig_pdbqt)"
      ],
      "metadata": {
        "id": "tBqbNLfrf24v"
      },
      "execution_count": null,
      "outputs": []
    },
    {
      "cell_type": "code",
      "source": [
        "# dock\n",
        "v = Vina(sf_name='ad4') # seems to require pre-existing grid maps...\n",
        "###v = Vina(sf_name='vina')\n",
        "###v.load_maps('4ykz_wk_rigid') # reads 4yzk_wk_rigid.<type>.map ## raises RuntimeError: Error: Cannot find affinity maps with 4ykz_wk_rigid\n",
        "v.set_ligand_from_string(lig_pdbqt)\n",
        "v.dock()\n",
        "output_pdbqt = v.poses(n_poses=5)\n",
        "\n",
        "# convert to SDF and write\n",
        "pmol = PDBQTMolecule(output_pdbqt)\n",
        "f = Chem.SDWriter('docking-results.sdf')\n",
        "for pose in pmol:\n",
        "    output_rdmol = pmol.export_rdkit_mol()\n",
        "    f.write(output_rdmol)\n",
        "f.close()"
      ],
      "metadata": {
        "id": "GN5i5P21gLuW"
      },
      "execution_count": null,
      "outputs": []
    },
    {
      "cell_type": "code",
      "source": [
        "# Fetch some input files for docking\n",
        "\n",
        "!rm 1iep_ligand.sdf 1iep_receptorH.pdb 1iep_ligand.pdbqt 1iep_receptor.pdbqt 1iep_ligand.sdf\n",
        "!wget https://raw.githubusercontent.com/ccsb-scripps/AutoDock-Vina/develop/example/basic_docking/data/1iep_ligand.sdf\n",
        "!wget https://raw.githubusercontent.com/ccsb-scripps/AutoDock-Vina/develop/example/basic_docking/data/1iep_receptorH.pdb\n",
        "!wget https://raw.githubusercontent.com/ccsb-scripps/AutoDock-Vina/develop/example/basic_docking/solution/1iep_ligand.pdbqt\n",
        "!wget https://raw.githubusercontent.com/ccsb-scripps/AutoDock-Vina/develop/example/basic_docking/solution/1iep_receptor.pdbqt"
      ],
      "metadata": {
        "id": "3ULea5fVoSzd"
      },
      "execution_count": null,
      "outputs": []
    },
    {
      "cell_type": "code",
      "source": [
        "% ls"
      ],
      "metadata": {
        "id": "q4e-xS6HqGOw"
      },
      "execution_count": null,
      "outputs": []
    },
    {
      "cell_type": "code",
      "source": [
        "v = Vina(sf_name='vina')\n",
        "\n",
        "v.set_receptor('1iep_receptor.pdbqt')\n",
        "\n",
        "v.set_ligand_from_file('1iep_ligand.pdbqt')\n",
        "v.compute_vina_maps(center=[15.190, 53.903, 16.917], box_size=[20, 20, 20])\n",
        "\n",
        "# Score the current pose\n",
        "energy = v.score()\n",
        "print('Score before minimization: %.3f (kcal/mol)' % energy[0])\n",
        "\n",
        "# Minimized locally the current pose\n",
        "energy_minimized = v.optimize()\n",
        "print('Score after minimization : %.3f (kcal/mol)' % energy_minimized[0])\n",
        "v.write_pose('1iep_ligand_minimized.pdbqt', overwrite=True)\n",
        "\n",
        "# Dock the ligand\n",
        "v.dock(exhaustiveness=32, n_poses=20)\n",
        "v.write_poses('1iep_ligand_vina_out.pdbqt', n_poses=5, overwrite=True)"
      ],
      "metadata": {
        "id": "qur_o_MNhhW4"
      },
      "execution_count": null,
      "outputs": []
    },
    {
      "cell_type": "code",
      "source": [
        "% ls"
      ],
      "metadata": {
        "id": "lGk83ANjhzwf"
      },
      "execution_count": null,
      "outputs": []
    },
    {
      "cell_type": "code",
      "source": [
        ""
      ],
      "metadata": {
        "id": "0lRtKouPqbF0"
      },
      "execution_count": null,
      "outputs": []
    }
  ]
}