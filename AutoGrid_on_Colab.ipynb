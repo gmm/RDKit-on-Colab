{
  "nbformat": 4,
  "nbformat_minor": 0,
  "metadata": {
    "colab": {
      "name": "AutoGrid_on_Colab.ipynb",
      "provenance": [],
      "authorship_tag": "ABX9TyODEdESIk5LaeU6laGRIrfr",
      "include_colab_link": true
    },
    "kernelspec": {
      "name": "python3",
      "display_name": "Python 3"
    },
    "language_info": {
      "name": "python"
    }
  },
  "cells": [
    {
      "cell_type": "markdown",
      "metadata": {
        "id": "view-in-github",
        "colab_type": "text"
      },
      "source": [
        "<a href=\"https://colab.research.google.com/github/gmm/RDKit-on-Colab/blob/main/AutoGrid_on_Colab.ipynb\" target=\"_parent\"><img src=\"https://colab.research.google.com/assets/colab-badge.svg\" alt=\"Open In Colab\"/></a>"
      ]
    },
    {
      "cell_type": "markdown",
      "source": [
        "# How to Compile AutoGrid 4 on Google Colab\n",
        "\n",
        "First, we need to get the source code:"
      ],
      "metadata": {
        "id": "O5DeOgXyPMu7"
      }
    },
    {
      "cell_type": "code",
      "execution_count": 1,
      "metadata": {
        "colab": {
          "base_uri": "https://localhost:8080/"
        },
        "id": "AC8cW_BKC9ji",
        "outputId": "7c7dd763-c37f-4bc6-c50d-f52eb7b9ed8e"
      },
      "outputs": [
        {
          "output_type": "stream",
          "name": "stdout",
          "text": [
            "--2022-06-30 19:43:49--  https://autodock.scripps.edu/wp-content/uploads/sites/56/2021/10/autodocksuite-4.2.6-src.tar.gz\n",
            "Resolving autodock.scripps.edu (autodock.scripps.edu)... 192.26.252.19\n",
            "Connecting to autodock.scripps.edu (autodock.scripps.edu)|192.26.252.19|:443... connected.\n",
            "HTTP request sent, awaiting response... 200 OK\n",
            "Length: 35438010 (34M) [application/x-gzip]\n",
            "Saving to: ‘autodocksuite-4.2.6-src.tar.gz’\n",
            "\n",
            "autodocksuite-4.2.6 100%[===================>]  33.80M  26.4MB/s    in 1.3s    \n",
            "\n",
            "2022-06-30 19:43:51 (26.4 MB/s) - ‘autodocksuite-4.2.6-src.tar.gz’ saved [35438010/35438010]\n",
            "\n",
            "src/README\n",
            "src/RELEASENOTES\n",
            "src/autodock/\n",
            "src/autodock/AD4.1_bound.dat\n",
            "src/autodock/AD4.1_compact.dat\n",
            "src/autodock/AD4.1_extended.dat\n",
            "src/autodock/AD4_PARM99.dat\n",
            "src/autodock/AD4_parameters.dat\n",
            "src/autodock/AUTHORS\n",
            "src/autodock/COPYING\n",
            "src/autodock/INSTALL\n",
            "src/autodock/Makefile.am\n",
            "src/autodock/README\n",
            "src/autodock/NOTES_xml.txt\n",
            "src/autodock/PDBQT_tokens.h\n",
            "src/autodock/RELEASENOTES\n",
            "src/autodock/alea.cc\n",
            "src/autodock/alea.h\n",
            "src/autodock/analysis.cc\n",
            "src/autodock/analysis.h\n",
            "src/autodock/autocomm.h\n",
            "src/autodock/calculateEnergies.h\n",
            "src/autodock/atom_parameter_manager.cc\n",
            "src/autodock/atom_parameter_manager.h\n",
            "src/autodock/autodock3.1\n",
            "src/autodock/autoglobal.h\n",
            "src/autodock/banner.cc\n",
            "src/autodock/banner.h\n",
            "src/autodock/bestpdb.cc\n",
            "src/autodock/bestpdb.h\n",
            "src/autodock/config_acro\n",
            "src/autodock/com.cc\n",
            "src/autodock/calculateEnergies.cc\n",
            "src/autodock/call_cpso.cc\n",
            "src/autodock/call_cpso.h\n",
            "src/autodock/call_glss.cc\n",
            "src/autodock/call_glss.h\n",
            "src/autodock/call_gs.cc\n",
            "src/autodock/call_gs.h\n",
            "src/autodock/call_ls.cc\n",
            "src/autodock/call_ls.h\n",
            "src/autodock/center_ligand.cc\n",
            "src/autodock/center_ligand.h\n",
            "src/autodock/changeState.cc\n",
            "src/autodock/changeState.h\n",
            "src/autodock/check_header_float.cc\n",
            "src/autodock/check_header_float.h\n",
            "src/autodock/check_header_int.cc\n",
            "src/autodock/check_header_int.h\n",
            "src/autodock/check_header_line.cc\n",
            "src/autodock/check_header_line.h\n",
            "src/autodock/clmode.cc\n",
            "src/autodock/clmode.h\n",
            "src/autodock/cluster_analysis.cc\n",
            "src/autodock/cluster_analysis.h\n",
            "src/autodock/cnv_state_to_coords.cc\n",
            "src/autodock/cnv_state_to_coords.h\n",
            "src/autodock/coliny.cc\n",
            "src/autodock/coliny.h\n",
            "src/autodock/eval.cc\n",
            "src/autodock/configure-universalDarwin\n",
            "src/autodock/configure.ac\n",
            "src/autodock/parse_PDBQT_line.cc\n",
            "src/autodock/conformation_sampler.cc\n",
            "src/autodock/conformation_sampler.h\n",
            "src/autodock/constants.h\n",
            "src/autodock/dimLibrary.cc\n",
            "src/autodock/dimLibrary.h\n",
            "src/autodock/distdepdiel.cc\n",
            "src/autodock/distdepdiel.h\n",
            "src/autodock/dpf_add_section_tags\n",
            "src/autodock/dpftoken.h\n",
            "src/autodock/eintcal.cc\n",
            "src/autodock/eintcal.h\n",
            "src/autodock/eintcalPrint.cc\n",
            "src/autodock/eintcalPrint.h\n",
            "src/autodock/energy.h\n",
            "src/autodock/eval.h\n",
            "src/autodock/gencau.cc\n",
            "src/autodock/gencau.h\n",
            "src/autodock/getInitialState.cc\n",
            "src/autodock/getInitialState.h\n",
            "src/autodock/get_atom_type.cc\n",
            "src/autodock/get_atom_type.h\n",
            "src/autodock/getpdbcrds.cc\n",
            "src/autodock/getpdbcrds.h\n",
            "src/autodock/getrms.cc\n",
            "src/autodock/getrms.h\n",
            "src/autodock/globals.h\n",
            "src/autodock/grid.h\n",
            "src/autodock/gs.cc\n",
            "src/autodock/gs.h\n",
            "src/autodock/hybrids.h\n",
            "src/autodock/initautodock.cc\n",
            "src/autodock/initautodock.h\n",
            "src/autodock/input_state.cc\n",
            "src/autodock/input_state.h\n",
            "src/autodock/intnbtable.cc\n",
            "src/autodock/intnbtable.h\n",
            "src/autodock/investigate.cc\n",
            "src/autodock/investigate.h\n",
            "src/autodock/linpack.cc\n",
            "src/autodock/ls.cc\n",
            "src/autodock/ls.h\n",
            "src/autodock/main.cc\n",
            "src/autodock/main.h\n",
            "src/autodock/makecheck\n",
            "src/autodock/map_declare.h\n",
            "src/autodock/mdist.h\n",
            "src/autodock/mapping.cc\n",
            "src/autodock/mingw_getrusage.cc\n",
            "src/autodock/mingw_sys_times.h\n",
            "src/autodock/mingw_sysconf.h\n",
            "src/autodock/minmeanmax.cc\n",
            "src/autodock/mkNewState.cc\n",
            "src/autodock/mkNewState.h\n",
            "src/autodock/mkRandomState.cc\n",
            "src/autodock/mkRandomState.h\n",
            "src/autodock/mkTorTree.cc\n",
            "src/autodock/mkTorTree.h\n",
            "src/autodock/mkdistbins\n",
            "src/autodock/mkdisttars\n",
            "src/autodock/nbe.cc\n",
            "src/autodock/nbe.h\n",
            "src/autodock/nonbonds.cc\n",
            "src/autodock/nonbonds.h\n",
            "src/autodock/openfile.cc\n",
            "src/autodock/openfile.h\n",
            "src/autodock/output_state.cc\n",
            "src/autodock/output_state.h\n",
            "src/autodock/paramdat2h.csh\n",
            "src/autodock/partokens.h\n",
            "src/autodock/parameters.h\n",
            "src/autodock/parse_param_line.cc\n",
            "src/autodock/parse_PDBQT_line.h\n",
            "src/autodock/parse_dpf_line.cc\n",
            "src/autodock/parse_dpf_line.h\n",
            "src/autodock/print_atomic_energies.h\n",
            "src/autodock/parse_param_line.h\n",
            "src/autodock/parse_trj_line.cc\n",
            "src/autodock/parse_trj_line.h\n",
            "src/autodock/parsetypes.cc\n",
            "src/autodock/parsetypes.h\n",
            "src/autodock/prClusterHist.cc\n",
            "src/autodock/prClusterHist.h\n",
            "src/autodock/prInitialState.cc\n",
            "src/autodock/prInitialState.h\n",
            "src/autodock/prTorConList.cc\n",
            "src/autodock/prTorConList.h\n",
            "src/autodock/printEnergies.cc\n",
            "src/autodock/printEnergies.h\n",
            "src/autodock/print_2x.cc\n",
            "src/autodock/print_2x.h\n",
            "src/autodock/qmultiply.h\n",
            "src/autodock/pso.cc\n",
            "src/autodock/print_atomic_energies.cc\n",
            "src/autodock/print_avsfld.cc\n",
            "src/autodock/print_avsfld.h\n",
            "src/autodock/print_rem.cc\n",
            "src/autodock/print_rem.h\n",
            "src/autodock/printdate.cc\n",
            "src/autodock/printdate.h\n",
            "src/autodock/printhms.cc\n",
            "src/autodock/printhms.h\n",
            "src/autodock/pso.h\n",
            "src/autodock/rep_constants.h\n",
            "src/autodock/qmultiply.cc\n",
            "src/autodock/qtransform.cc\n",
            "src/autodock/qtransform.h\n",
            "src/autodock/quicksort.cc\n",
            "src/autodock/quicksort.h\n",
            "src/autodock/ranlib.cc\n",
            "src/autodock/ranlib.h\n",
            "src/autodock/readPDBQT.cc\n",
            "src/autodock/readPDBQT.h\n",
            "src/autodock/readfield.cc\n",
            "src/autodock/rep.cc\n",
            "src/autodock/read_parameter_library.cc\n",
            "src/autodock/read_parameter_library.h\n",
            "src/autodock/readfield.h\n",
            "src/autodock/readmap.cc\n",
            "src/autodock/readmap.h\n",
            "src/autodock/rep.h\n",
            "src/autodock/setflags.cc\n",
            "src/autodock/scauchy.cc\n",
            "src/autodock/stateLibrary.cc\n",
            "src/autodock/setflags.h\n",
            "src/autodock/simanneal.cc\n",
            "src/autodock/simanneal.h\n",
            "src/autodock/sort_enrg.cc\n",
            "src/autodock/sort_enrg.h\n",
            "src/autodock/stack.cc\n",
            "src/autodock/stack.h\n",
            "src/autodock/stateLibrary.h\n",
            "src/autodock/stop.cc\n",
            "src/autodock/stop.h\n",
            "src/autodock/warn_bad_file.h\n",
            "src/autodock/usage.h\n",
            "src/autodock/strindex.cc\n",
            "src/autodock/strindex.h\n",
            "src/autodock/structs.h\n",
            "src/autodock/success.cc\n",
            "src/autodock/success.h\n",
            "src/autodock/support.cc\n",
            "src/autodock/support.h\n",
            "src/autodock/swap.cc\n",
            "src/autodock/swap.h\n",
            "src/autodock/test_times.cc\n",
            "src/autodock/threadlog.cc\n",
            "src/autodock/threadlog.h\n",
            "src/autodock/timesys.cc\n",
            "src/autodock/timesys.h\n",
            "src/autodock/timesyshms.cc\n",
            "src/autodock/timesyshms.h\n",
            "src/autodock/torNorVec.cc\n",
            "src/autodock/torNorVec.h\n",
            "src/autodock/torsion.cc\n",
            "src/autodock/torsion.h\n",
            "src/autodock/trilinterp.cc\n",
            "src/autodock/trilinterp.h\n",
            "src/autodock/trjtokens.h\n",
            "src/autodock/typedefs.h\n",
            "src/autodock/update_copyright\n",
            "src/autodock/update_license_de-GNU\n",
            "src/autodock/usage.cc\n",
            "src/autodock/version.h\n",
            "src/autodock/warn_bad_file.cc\n",
            "src/autodock/weedbonds.cc\n",
            "src/autodock/weedbonds.h\n",
            "src/autodock/writePDBQT.cc\n",
            "src/autodock/writePDBQT.h\n",
            "src/autodock/EXAMPLES/\n",
            "src/autodock/EXAMPLES/1dwd/\n",
            "src/autodock/EXAMPLES/1dwd/eval_lig/\n",
            "src/autodock/EXAMPLES/1dwd/eval_lig/1dwd_epdb_best.dlg\n",
            "src/autodock/EXAMPLES/1dwd/eval_lig/1dwd_1dwd.gpf\n",
            "src/autodock/EXAMPLES/1dwd/eval_lig/1dwd_epdb.dlg\n",
            "src/autodock/EXAMPLES/1dwd/eval_lig/1dwd_epdb.dpf\n",
            "src/autodock/EXAMPLES/1dwd/eval_lig/1dwd_epdb_best.dpf\n",
            "src/autodock/EXAMPLES/1dwd/eval_lig/1dwd_lig.pdbqt\n",
            "src/autodock/EXAMPLES/1dwd/eval_lig/1dwd_rec.pdbqt\n",
            "src/autodock/EXAMPLES/1dwd/eval_lig/best.pdbqt\n",
            "src/autodock/EXAMPLES/1dwd/eval_lig/run_examples\n",
            "src/autodock/EXAMPLES/1dwd/mkdist\n",
            "src/autodock/EXAMPLES/1dwd/1dwd_rec_maps/\n",
            "src/autodock/EXAMPLES/1dwd/1dwd_rec_maps/1dwd_rec.HD.map\n",
            "src/autodock/EXAMPLES/1dwd/1dwd_rec_maps/1dwd_rec.A.map\n",
            "src/autodock/EXAMPLES/1dwd/1dwd_rec_maps/1dwd_rec.C.map\n",
            "src/autodock/EXAMPLES/1dwd/1dwd_rec_maps/1dwd_rec.N.map\n",
            "src/autodock/EXAMPLES/1dwd/1dwd_rec_maps/1dwd_rec.OA.map\n",
            "src/autodock/EXAMPLES/1dwd/1dwd_rec_maps/1dwd_rec.S.map\n",
            "src/autodock/EXAMPLES/1dwd/1dwd_rec_maps/1dwd_rec.d.map\n",
            "src/autodock/EXAMPLES/1dwd/1dwd_rec_maps/1dwd_rec.e.map\n",
            "src/autodock/EXAMPLES/1dwd/1dwd_rec_maps/1dwd_rec.maps.fld\n",
            "src/autodock/EXAMPLES/1dwd/1dwd_rec_maps/1dwd_rec.maps.xyz\n",
            "src/autodock/EXAMPLES/1dwd/run_all_examples\n",
            "src/autodock/EXAMPLES/1dwd/run_examples\n",
            "src/autodock/EXAMPLES/1dwd/1dwd_rigid_maps/\n",
            "src/autodock/EXAMPLES/1dwd/1dwd_rigid_maps/1dwd_rigid.maps.fld\n",
            "src/autodock/EXAMPLES/1dwd/1dwd_rigid_maps/1dwd_rigid.A.map\n",
            "src/autodock/EXAMPLES/1dwd/1dwd_rigid_maps/1dwd_rigid.C.map\n",
            "src/autodock/EXAMPLES/1dwd/1dwd_rigid_maps/1dwd_rigid.HD.map\n",
            "src/autodock/EXAMPLES/1dwd/1dwd_rigid_maps/1dwd_rigid.N.map\n",
            "src/autodock/EXAMPLES/1dwd/1dwd_rigid_maps/1dwd_rigid.NA.map\n",
            "src/autodock/EXAMPLES/1dwd/1dwd_rigid_maps/1dwd_rigid.OA.map\n",
            "src/autodock/EXAMPLES/1dwd/1dwd_rigid_maps/1dwd_rigid.S.map\n",
            "src/autodock/EXAMPLES/1dwd/1dwd_rigid_maps/1dwd_rigid.d.map\n",
            "src/autodock/EXAMPLES/1dwd/1dwd_rigid_maps/1dwd_rigid.e.map\n",
            "src/autodock/EXAMPLES/1dwd/1dwd_rigid_maps/1dwd_rigid.maps.xyz\n",
            "src/autodock/EXAMPLES/1dwd/dock_flexlig/\n",
            "src/autodock/EXAMPLES/1dwd/dock_flexlig/1dwd_1dwd_long.dpf\n",
            "src/autodock/EXAMPLES/1dwd/dock_flexlig/1dwd_1dwd.dlg\n",
            "src/autodock/EXAMPLES/1dwd/dock_flexlig/1dwd_1dwd.dpf\n",
            "src/autodock/EXAMPLES/1dwd/dock_flexlig/1dwd_1dwd.gpf\n",
            "src/autodock/EXAMPLES/1dwd/dock_flexlig/1dwd_best.pdbqt\n",
            "src/autodock/EXAMPLES/1dwd/dock_flexlig/1dwd_lig.pdbqt\n",
            "src/autodock/EXAMPLES/1dwd/dock_flexlig/1dwd_rec.pdbqt\n",
            "src/autodock/EXAMPLES/1dwd/dock_flexlig/run_examples\n",
            "src/autodock/EXAMPLES/1dwd/dock_flexlig_25M/\n",
            "src/autodock/EXAMPLES/1dwd/dock_flexlig_25M/1dwd_1dwd_long.dpf\n",
            "src/autodock/EXAMPLES/1dwd/dock_flexlig_25M/1dwd_1dwd.dlg\n",
            "src/autodock/EXAMPLES/1dwd/dock_flexlig_25M/1dwd_1dwd.dpf\n",
            "src/autodock/EXAMPLES/1dwd/dock_flexlig_25M/1dwd_1dwd.gpf\n",
            "src/autodock/EXAMPLES/1dwd/dock_flexlig_25M/1dwd_best.pdbqt\n",
            "src/autodock/EXAMPLES/1dwd/dock_flexlig_25M/1dwd_lig.pdbqt\n",
            "src/autodock/EXAMPLES/1dwd/dock_flexlig_25M/1dwd_rec.pdbqt\n",
            "src/autodock/EXAMPLES/1dwd/dock_flexlig_25M/run_examples\n",
            "src/autodock/EXAMPLES/1dwd/dock_flexlig_flexres/\n",
            "src/autodock/EXAMPLES/1dwd/dock_flexlig_flexres/1dwd_flex.pdbqt\n",
            "src/autodock/EXAMPLES/1dwd/dock_flexlig_flexres/1dwd_lig.pdbqt\n",
            "src/autodock/EXAMPLES/1dwd/dock_flexlig_flexres/1dwd_rec.pdbqt\n",
            "src/autodock/EXAMPLES/1dwd/dock_flexlig_flexres/1dwd_rigid.gpf\n",
            "src/autodock/EXAMPLES/1dwd/dock_flexlig_flexres/1dwd_lig_1dwd_flexres_1dwd_rigid.dlg\n",
            "src/autodock/EXAMPLES/1dwd/dock_flexlig_flexres/1dwd_lig_1dwd_flexres_1dwd_rigid.dpf\n",
            "src/autodock/EXAMPLES/1dwd/dock_flexlig_flexres/1dwd_lig_1dwd_flexres_1dwd_rigid_long.dpf\n",
            "src/autodock/EXAMPLES/1dwd/dock_flexlig_flexres/1dwd_rigid.pdbqt\n",
            "src/autodock/EXAMPLES/1dwd/dock_flexlig_flexres/make_rigid_maps\n",
            "src/autodock/EXAMPLES/1dwd/dock_flexlig_flexres/run_examples\n",
            "src/autodock/EXAMPLES/1dwd/dock_flexlig_flexres_25M/\n",
            "src/autodock/EXAMPLES/1dwd/dock_flexlig_flexres_25M/1dwd_flex.pdbqt\n",
            "src/autodock/EXAMPLES/1dwd/dock_flexlig_flexres_25M/1dwd_lig.pdbqt\n",
            "src/autodock/EXAMPLES/1dwd/dock_flexlig_flexres_25M/1dwd_lig_1dwd_flexres_25M.dlg\n",
            "src/autodock/EXAMPLES/1dwd/dock_flexlig_flexres_25M/1dwd_lig_1dwd_flexres_1dwd_rigid.dpf\n",
            "src/autodock/EXAMPLES/1dwd/dock_flexlig_flexres_25M/1dwd_lig_1dwd_flexres_1dwd_rigid_long.dpf\n",
            "src/autodock/EXAMPLES/1dwd/dock_flexlig_flexres_25M/1dwd_rec.pdbqt\n",
            "src/autodock/EXAMPLES/1dwd/dock_flexlig_flexres_25M/1dwd_rigid.gpf\n",
            "src/autodock/EXAMPLES/1dwd/dock_flexlig_flexres_25M/1dwd_rigid.pdbqt\n",
            "src/autodock/EXAMPLES/1dwd/dock_flexlig_flexres_25M/run_examples\n",
            "src/autodock/EXAMPLES/1dwd/dock_rigidlig/\n",
            "src/autodock/EXAMPLES/1dwd/dock_rigidlig/1dwd_1dwd_long.dpf\n",
            "src/autodock/EXAMPLES/1dwd/dock_rigidlig/1dwd_0.pdbqt\n",
            "src/autodock/EXAMPLES/1dwd/dock_rigidlig/1dwd_1dwd.dpf\n",
            "src/autodock/EXAMPLES/1dwd/dock_rigidlig/1dwd_1dwd.gpf\n",
            "src/autodock/EXAMPLES/1dwd/dock_rigidlig/1dwd_rigidlig.dlg\n",
            "src/autodock/EXAMPLES/1dwd/dock_rigidlig/1dwd_rec.pdbqt\n",
            "src/autodock/EXAMPLES/1dwd/dock_rigidlig/make_rec_maps\n",
            "src/autodock/EXAMPLES/1dwd/dock_rigidlig/run_examples\n",
            "src/autodock/EXAMPLES/1dwd/dock_rigidlig_25M/\n",
            "src/autodock/EXAMPLES/1dwd/dock_rigidlig_25M/1dwd_1dwd_long.dpf\n",
            "src/autodock/EXAMPLES/1dwd/dock_rigidlig_25M/1dwd_0.pdbqt\n",
            "src/autodock/EXAMPLES/1dwd/dock_rigidlig_25M/1dwd_1dwd.dpf\n",
            "src/autodock/EXAMPLES/1dwd/dock_rigidlig_25M/1dwd_1dwd.gpf\n",
            "src/autodock/EXAMPLES/1dwd/dock_rigidlig_25M/1dwd_rigid_25M.dlg\n",
            "src/autodock/EXAMPLES/1dwd/dock_rigidlig_25M/1dwd_rec.pdbqt\n",
            "src/autodock/EXAMPLES/1dwd/dock_rigidlig_25M/run_examples\n",
            "src/autodock/EXAMPLES/1dwd/local_search_lig/\n",
            "src/autodock/EXAMPLES/1dwd/local_search_lig/1dwd_local_only.dlg\n",
            "src/autodock/EXAMPLES/1dwd/local_search_lig/1dwd_1dwd.gpf\n",
            "src/autodock/EXAMPLES/1dwd/local_search_lig/1dwd_lig.pdbqt\n",
            "src/autodock/EXAMPLES/1dwd/local_search_lig/1dwd_local_only_best.dlg\n",
            "src/autodock/EXAMPLES/1dwd/local_search_lig/1dwd_local_only.dpf\n",
            "src/autodock/EXAMPLES/1dwd/local_search_lig/1dwd_local_only_best_long.dpf\n",
            "src/autodock/EXAMPLES/1dwd/local_search_lig/1dwd_local_only_best.dpf\n",
            "src/autodock/EXAMPLES/1dwd/local_search_lig/1dwd_local_only_long.dpf\n",
            "src/autodock/EXAMPLES/1dwd/local_search_lig/1dwd_rec.pdbqt\n",
            "src/autodock/EXAMPLES/1dwd/local_search_lig/best.pdbqt\n",
            "src/autodock/EXAMPLES/1dwd/local_search_lig/run_examples\n",
            "src/autodock/EXAMPLES/1dwd/recluster/\n",
            "src/autodock/EXAMPLES/1dwd/recluster/1dwd_lig_xray.pdbqt\n",
            "src/autodock/EXAMPLES/1dwd/recluster/1dwd_1dwd_1.dlg\n",
            "src/autodock/EXAMPLES/1dwd/recluster/1dwd_1dwd_2.dlg\n",
            "src/autodock/EXAMPLES/1dwd/recluster/1dwd_1dwd_3.dlg\n",
            "src/autodock/EXAMPLES/1dwd/recluster/1dwd_1dwd_4.dlg\n",
            "src/autodock/EXAMPLES/1dwd/recluster/ligand.pdbqt\n",
            "src/autodock/EXAMPLES/1dwd/recluster/recluster.dlg\n",
            "src/autodock/EXAMPLES/1dwd/recluster/recluster.dpf\n",
            "src/autodock/EXAMPLES/1dwd/recluster/run_examples\n",
            "src/autodock/EXAMPLES/1dwd/simulated_annealing/\n",
            "src/autodock/EXAMPLES/1dwd/simulated_annealing/1dwd_lig.pdbqt\n",
            "src/autodock/EXAMPLES/1dwd/simulated_annealing/run_examples\n",
            "src/autodock/EXAMPLES/1dwd/simulated_annealing/best.pdbqt\n",
            "src/autodock/EXAMPLES/1dwd/simulated_annealing/1dwd_simulated_annealing.dpf\n",
            "src/autodock/EXAMPLES/1dwd/simulated_annealing/1dwd_simulated_annealing_long.dpf\n",
            "src/autodock/EXAMPLES/4hvp/\n",
            "src/autodock/EXAMPLES/4hvp/4hvp_rec_maps/\n",
            "src/autodock/EXAMPLES/4hvp/4hvp_rec_maps/4hvp_rec.HD.map\n",
            "src/autodock/EXAMPLES/4hvp/4hvp_rec_maps/4hvp_rec.C.map\n",
            "src/autodock/EXAMPLES/4hvp/4hvp_rec_maps/4hvp_rec.N.map\n",
            "src/autodock/EXAMPLES/4hvp/4hvp_rec_maps/4hvp_rec.OA.map\n",
            "src/autodock/EXAMPLES/4hvp/4hvp_rec_maps/4hvp_rec.d.map\n",
            "src/autodock/EXAMPLES/4hvp/4hvp_rec_maps/4hvp_rec.e.map\n",
            "src/autodock/EXAMPLES/4hvp/4hvp_rec_maps/4hvp_rec.maps.fld\n",
            "src/autodock/EXAMPLES/4hvp/4hvp_rec_maps/4hvp_rec.maps.xyz\n",
            "src/autodock/EXAMPLES/4hvp/4hvp_rigid_maps/\n",
            "src/autodock/EXAMPLES/4hvp/4hvp_rigid_maps/4hvp_rigid.maps.fld\n",
            "src/autodock/EXAMPLES/4hvp/4hvp_rigid_maps/4hvp_rigid.C.map\n",
            "src/autodock/EXAMPLES/4hvp/4hvp_rigid_maps/4hvp_rigid.HD.map\n",
            "src/autodock/EXAMPLES/4hvp/4hvp_rigid_maps/4hvp_rigid.N.map\n",
            "src/autodock/EXAMPLES/4hvp/4hvp_rigid_maps/4hvp_rigid.OA.map\n",
            "src/autodock/EXAMPLES/4hvp/4hvp_rigid_maps/4hvp_rigid.d.map\n",
            "src/autodock/EXAMPLES/4hvp/4hvp_rigid_maps/4hvp_rigid.e.map\n",
            "src/autodock/EXAMPLES/4hvp/4hvp_rigid_maps/4hvp_rigid.maps.xyz\n",
            "src/autodock/EXAMPLES/4hvp/dock_flexlig/\n",
            "src/autodock/EXAMPLES/4hvp/dock_flexlig/4hvp_4hvp.dlg\n",
            "src/autodock/EXAMPLES/4hvp/dock_flexlig/4hvp_4hvp.dpf\n",
            "src/autodock/EXAMPLES/4hvp/dock_flexlig/4hvp_4hvp.gpf\n",
            "src/autodock/EXAMPLES/4hvp/dock_flexlig/4hvp_lig.pdbqt\n",
            "src/autodock/EXAMPLES/4hvp/dock_flexlig/4hvp_rec.pdbqt\n",
            "src/autodock/EXAMPLES/4hvp/dock_flexlig_25M/\n",
            "src/autodock/EXAMPLES/4hvp/dock_flexlig_25M/4hvp_4hvp_25M.dlg\n",
            "src/autodock/EXAMPLES/4hvp/dock_flexlig_25M/4hvp_4hvp.dpf\n",
            "src/autodock/EXAMPLES/4hvp/dock_flexlig_25M/4hvp_4hvp.glg\n",
            "src/autodock/EXAMPLES/4hvp/dock_flexlig_25M/4hvp_4hvp.gpf\n",
            "src/autodock/EXAMPLES/4hvp/dock_flexlig_25M/4hvp_lig.pdbqt\n",
            "src/autodock/EXAMPLES/4hvp/dock_flexlig_25M/4hvp_rec.pdbqt\n",
            "src/autodock/EXAMPLES/4hvp/dock_flexlig_flexres/\n",
            "src/autodock/EXAMPLES/4hvp/dock_flexlig_flexres/4hvp_flex.pdbqt\n",
            "src/autodock/EXAMPLES/4hvp/dock_flexlig_flexres/4hvp_lig.pdbqt\n",
            "src/autodock/EXAMPLES/4hvp/dock_flexlig_flexres/4hvp_rigid.glg\n",
            "src/autodock/EXAMPLES/4hvp/dock_flexlig_flexres/4hvp_lig_flexres_rigid.dlg\n",
            "src/autodock/EXAMPLES/4hvp/dock_flexlig_flexres/4hvp_lig_flexres_rigid.dpf\n",
            "src/autodock/EXAMPLES/4hvp/dock_flexlig_flexres/4hvp_rigid.gpf\n",
            "src/autodock/EXAMPLES/4hvp/dock_flexlig_flexres/4hvp_rigid.pdbqt\n",
            "src/autodock/EXAMPLES/4hvp/dock_flexlig_flexres_25M/\n",
            "src/autodock/EXAMPLES/4hvp/dock_flexlig_flexres_25M/4hvp_flex.pdbqt\n",
            "src/autodock/EXAMPLES/4hvp/dock_flexlig_flexres_25M/4hvp_lig.pdbqt\n",
            "src/autodock/EXAMPLES/4hvp/dock_flexlig_flexres_25M/4hvp_rigid.gpf\n",
            "src/autodock/EXAMPLES/4hvp/dock_flexlig_flexres_25M/4hvp_lig_flexres_rigid.dlg\n",
            "src/autodock/EXAMPLES/4hvp/dock_flexlig_flexres_25M/4hvp_lig_flexres_rigid.dpf\n",
            "src/autodock/EXAMPLES/4hvp/dock_flexlig_flexres_25M/4hvp_rigid.pdbqt\n",
            "src/autodock/EXAMPLES/4hvp/dock_rigidlig/\n",
            "src/autodock/EXAMPLES/4hvp/dock_rigidlig/4hvp0_4hvp.dlg\n",
            "src/autodock/EXAMPLES/4hvp/dock_rigidlig/4hvp0_4hvp.dpf\n",
            "src/autodock/EXAMPLES/4hvp/dock_rigidlig/4hvp_0.pdbqt\n",
            "src/autodock/EXAMPLES/4hvp/dock_rigidlig/4hvp_4hvp.glg\n",
            "src/autodock/EXAMPLES/4hvp/dock_rigidlig/4hvp_4hvp.gpf\n",
            "src/autodock/EXAMPLES/4hvp/dock_rigidlig/4hvp_rec.pdbqt\n",
            "src/autodock/EXAMPLES/4hvp/dock_rigidlig_25M/\n",
            "src/autodock/EXAMPLES/4hvp/dock_rigidlig_25M/4hvp0_4hvp.dlg\n",
            "src/autodock/EXAMPLES/4hvp/dock_rigidlig_25M/4hvp0_4hvp.dpf\n",
            "src/autodock/EXAMPLES/4hvp/dock_rigidlig_25M/4hvp_0.pdbqt\n",
            "src/autodock/EXAMPLES/4hvp/dock_rigidlig_25M/4hvp_4hvp.gpf\n",
            "src/autodock/EXAMPLES/4hvp/dock_rigidlig_25M/4hvp_rec.pdbqt\n",
            "src/autodock/EXAMPLES/4hvp/eval_lig/\n",
            "src/autodock/EXAMPLES/4hvp/eval_lig/4hvp_best.pdbqt\n",
            "src/autodock/EXAMPLES/4hvp/eval_lig/4hvp_4hvp.gpf\n",
            "src/autodock/EXAMPLES/4hvp/eval_lig/4hvp_best_epdb.dlg\n",
            "src/autodock/EXAMPLES/4hvp/eval_lig/4hvp_best_epdb.dpf\n",
            "src/autodock/EXAMPLES/4hvp/eval_lig/4hvp_epdb.dlg\n",
            "src/autodock/EXAMPLES/4hvp/eval_lig/4hvp_epdb.dpf\n",
            "src/autodock/EXAMPLES/4hvp/eval_lig/4hvp_lig.pdbqt\n",
            "src/autodock/EXAMPLES/4hvp/eval_lig/4hvp_rec.pdbqt\n",
            "src/autodock/EXAMPLES/4hvp/local_search_lig/\n",
            "src/autodock/EXAMPLES/4hvp/local_search_lig/4hvp_best.pdbqt\n",
            "src/autodock/EXAMPLES/4hvp/local_search_lig/4hvp_4hvp.gpf\n",
            "src/autodock/EXAMPLES/4hvp/local_search_lig/4hvp_best_local_only.dlg\n",
            "src/autodock/EXAMPLES/4hvp/local_search_lig/4hvp_best_local_only.dpf\n",
            "src/autodock/EXAMPLES/4hvp/local_search_lig/4hvp_lig.pdbqt\n",
            "src/autodock/EXAMPLES/4hvp/local_search_lig/4hvp_local_only.dlg\n",
            "src/autodock/EXAMPLES/4hvp/local_search_lig/4hvp_local_only.dpf\n",
            "src/autodock/EXAMPLES/4hvp/local_search_lig/4hvp_rec.pdbqt\n",
            "src/autodock/Tests/\n",
            "src/autodock/Tests/1pgp.dpf.dpf\n",
            "src/autodock/Tests/1pgp.dpf\n",
            "src/autodock/Tests/1pgp_1_4_50.dpf\n",
            "src/autodock/Tests/1pgp.fpd\n",
            "src/autodock/Tests/1pgp.gpf\n",
            "src/autodock/Tests/1pgp_about_only.dpf\n",
            "src/autodock/Tests/1pgp_1_4_100.dpf\n",
            "src/autodock/Tests/1pgp_just_right_number_torsions.dpf\n",
            "src/autodock/Tests/1pgp_about_auto_ga_only.dpf\n",
            "src/autodock/Tests/1pgp_about_auto_gals.dpf\n",
            "src/autodock/Tests/1pgp_about_auto_local_only.dpf\n",
            "src/autodock/Tests/1pgp_about_auto_simanneal.dpf\n",
            "src/autodock/Tests/1pgp_epdb_etables.dpf\n",
            "src/autodock/Tests/1pgp_epdb_flexres_intelec.dpf\n",
            "src/autodock/Tests/1pgp_epdb_flexres_nointelec.dpf\n",
            "src/autodock/Tests/1pgp_flex.pdbqt\n",
            "src/autodock/Tests/1pgp_flexlig_pso_ls1_psw1.dpf\n",
            "src/autodock/Tests/1pgp_flexres.dpf\n",
            "src/autodock/Tests/1pgp_flexres_1_4_100.dpf\n",
            "src/autodock/Tests/1pgp_flexres_1_4_50.dpf\n",
            "src/autodock/Tests/1pgp_flexres_emptyligand.dpf\n",
            "src/autodock/Tests/1pgp_ga_only.dpf\n",
            "src/autodock/Tests/1pgp_ga_run_maxruns.dpf\n",
            "src/autodock/Tests/1pgp_ga_run_maxruns_analysis.dpf\n",
            "src/autodock/Tests/1pgp_ga_select_linear_ranking.dpf\n",
            "src/autodock/Tests/1pgp_ga_select_tournament.dpf\n",
            "src/autodock/Tests/1pgp_gals_10runs.dpf\n",
            "src/autodock/Tests/1pgp_gals_set_sw1.dpf\n",
            "src/autodock/Tests/1pgp_gals_use_defaults.dpf\n",
            "src/autodock/Tests/1pgp_lig.pdbqt\n",
            "src/autodock/Tests/1pgp_illegal_keyword.dpf\n",
            "src/autodock/Tests/1pgp_illegal_outlev.dpf\n",
            "src/autodock/Tests/1pgp_illegal_symoutlev.dpf\n",
            "src/autodock/Tests/1pgp_intelec_off.dpf\n",
            "src/autodock/Tests/1pgp_intnbcoeffs.dpf\n",
            "src/autodock/Tests/1pgp_intnbpreps.dpf\n",
            "src/autodock/Tests/1pgp_intnbpreps_illegal_atom.dpf\n",
            "src/autodock/Tests/1pgp_intnbpreps_toofew.dpf\n",
            "src/autodock/Tests/1pgp_lig_32tors.pdbqt\n",
            "src/autodock/Tests/1pgp_lig2.pdbqt\n",
            "src/autodock/Tests/1pgp_ligNOH.pdbqt\n",
            "src/autodock/Tests/1pgp_lig_33tors.pdbqt\n",
            "src/autodock/Tests/1pgp_mixed_adt_analysis.dpf\n",
            "src/autodock/Tests/1pgp_ligand_types_map_mismatch.dpf\n",
            "src/autodock/Tests/1pgp_ligrand_ga_only.dpf\n",
            "src/autodock/Tests/1pgp_lsonly_10runs.dpf\n",
            "src/autodock/Tests/1pgp_map_truncated.dpf\n",
            "src/autodock/Tests/1pgp_mixed_maxruns_adt_analysis.dpf\n",
            "src/autodock/Tests/1pgp_mixed_basic_analysis.dpf\n",
            "src/autodock/Tests/1pgp_mixed_maxruns.dpf\n",
            "src/autodock/Tests/1pgp_mixed_maxruns_basic_analysis.dpf\n",
            "src/autodock/Tests/1pgp_mixed_maxruns_analysis.dpf\n",
            "src/autodock/Tests/1pgp_no_elec_desolv_maps.dpf\n",
            "src/autodock/Tests/1pgp_multipleabouts.dpf\n",
            "src/autodock/Tests/1pgp_no_desolvmap.dpf\n",
            "src/autodock/Tests/1pgp_no_elecmap.dpf\n",
            "src/autodock/Tests/1pgp_no_extension\n",
            "src/autodock/Tests/1pgp_no_outlev.dpf\n",
            "src/autodock/Tests/1pgp_rec.C.map\n",
            "src/autodock/Tests/1pgp_rigid.maps.fld\n",
            "src/autodock/Tests/1pgp_no_parameter_file.dpf\n",
            "src/autodock/Tests/1pgp_no_set_ga.dpf\n",
            "src/autodock/Tests/1pgp_no_set_psw1.dpf\n",
            "src/autodock/Tests/1pgp_numoutlev.dpf\n",
            "src/autodock/Tests/1pgp_outpopfil.dpf\n",
            "src/autodock/Tests/1pgp_overmaxruns.dpf\n",
            "src/autodock/Tests/1pgp_rec.HD.map\n",
            "src/autodock/Tests/1pgp_rec.OA.map\n",
            "src/autodock/Tests/1pgp_rec.P.map\n",
            "src/autodock/Tests/1pgp_rec.OA.truncated.map\n",
            "src/autodock/Tests/1pgp_rec.SA.map\n",
            "src/autodock/Tests/1pgp_rec.d.map\n",
            "src/autodock/Tests/1pgp_rec.e.map\n",
            "src/autodock/Tests/1pgp_rec.maps.fld\n",
            "src/autodock/Tests/1pgp_rec.maps.xyz\n",
            "src/autodock/Tests/1pgp_rec.pdbqt\n",
            "src/autodock/Tests/1pgp_rigid.C.map\n",
            "src/autodock/Tests/1pgp_rigid.HD.map\n",
            "src/autodock/Tests/1pgp_rigid.N.map\n",
            "src/autodock/Tests/1pgp_rigid.OA.map\n",
            "src/autodock/Tests/1pgp_rigid.P.map\n",
            "src/autodock/Tests/1pgp_rigid.d.map\n",
            "src/autodock/Tests/1pgp_rigid.e.map\n",
            "src/autodock/Tests/1pgp_rigid.gpf\n",
            "src/autodock/Tests/1pgp_rigid.maps.xyz\n",
            "src/autodock/Tests/1pgp_rigid.pdbqt\n",
            "src/autodock/Tests/1pgp_seed01.dpf\n",
            "src/autodock/Tests/1pgp_seed37.dpf\n",
            "src/autodock/Tests/1pgp_rmsmode_all_heavy_atom_pairs_only.dpf\n",
            "src/autodock/Tests/1pgp_rmsmode_heavy_atoms_only_noH.dpf\n",
            "src/autodock/Tests/1pgp_rmsmode_unique_heavy_atom_pairs_only.dpf\n",
            "src/autodock/Tests/1pgp_seedinttime.dpf\n",
            "src/autodock/Tests/DlgParser.py\n",
            "src/autodock/Tests/hsg1_small.maps.fld\n",
            "src/autodock/Tests/1pgp_simanneal_10runs.dpf\n",
            "src/autodock/Tests/1pgp_simanneal_small.dpf\n",
            "src/autodock/Tests/1pgp_smaller.dpf\n",
            "src/autodock/Tests/1pgp_smooth0.dpf\n",
            "src/autodock/Tests/1pgp_simanneal_small_geometric_schedule.dpf\n",
            "src/autodock/Tests/1pgp_symoutlev.dpf\n",
            "src/autodock/Tests/1pgp_timepid.dpf\n",
            "src/autodock/Tests/1pgp_too_many_ligand_types.dpf\n",
            "src/autodock/Tests/1pgp_too_many_torsions.dpf\n",
            "src/autodock/Tests/1pgp_two_ligands.dpf\n",
            "src/autodock/Tests/1pgp_two_mapsets.dpf\n",
            "src/autodock/Tests/1pgp_unbound_compute_unbound_extended.dpf\n",
            "src/autodock/Tests/1pgp_unbound_default.dpf\n",
            "src/autodock/Tests/1pgp_unbound_ignored.dpf\n",
            "src/autodock/Tests/1pgp_unbound_model_bound.dpf\n",
            "src/autodock/Tests/1pgp_unbound_model_compact.dpf\n",
            "src/autodock/Tests/1pgp_unbound_model_extended.dpf\n",
            "src/autodock/Tests/1pgp_unbound_model_illegal.dpf\n",
            "src/autodock/Tests/1pgp_unbound_model_value.dpf\n",
            "src/autodock/Tests/1pgp_unbound_set0.dpf\n",
            "src/autodock/Tests/1pgp_unbound_set10.dpf\n",
            "src/autodock/Tests/1pgp_unbound_set_illegal.dpf\n",
            "src/autodock/Tests/empty.pdbqt\n",
            "src/autodock/Tests/hsg1_small.C.map\n",
            "src/autodock/Tests/hsg1_small.HD.map\n",
            "src/autodock/Tests/hsg1_small.OA.map\n",
            "src/autodock/Tests/hsg1_small.P.map\n",
            "src/autodock/Tests/hsg1_small.d.map\n",
            "src/autodock/Tests/hsg1_small.e.map\n",
            "src/autodock/Tests/AutoDockTools/\n",
            "src/autodock/Tests/hsg1_small.maps.xyz\n",
            "src/autodock/Tests/test_autodock4.py\n",
            "src/autodock/USERGUIDES/\n",
            "src/autodock/USERGUIDES/README\n",
            "src/autodock/USERGUIDES/AutoDock4.0_UserGuide.doc\n",
            "src/autodock/USERGUIDES/AutoDock4.1_UserGuide.doc\n",
            "src/autodock/USERGUIDES/AutoDock4.2_UserGuide.doc\n",
            "src/autodock/USERGUIDES/AutoDock4.2_UserGuide.pdf\n",
            "src/autodock/aclocal.m4\n",
            "src/autodock/configure\n",
            "src/autodock/config.guess\n",
            "src/autodock/config.sub\n",
            "src/autodock/install-sh\n",
            "src/autodock/missing\n",
            "src/autodock/depcomp\n",
            "src/autodock/Makefile.in\n",
            "src/autogrid/\n",
            "src/autogrid/Makefile.am\n",
            "src/autogrid/AUTHORS\n",
            "src/autogrid/COPYING\n",
            "src/autogrid/INSTALL\n",
            "src/autogrid/check_size.cpp\n",
            "src/autogrid/README\n",
            "src/autogrid/autogrid.h\n",
            "src/autogrid/banner.cpp\n",
            "src/autogrid/atom_parameter_manager.cpp\n",
            "src/autogrid/atom_parameter_manager.h\n",
            "src/autogrid/grid.h\n",
            "src/autogrid/parameters.h\n",
            "src/autogrid/calc_vina_potential.cpp\n",
            "src/autogrid/calc_vina_potential.h\n",
            "src/autogrid/configure-universalDarwin\n",
            "src/autogrid/configure.ac\n",
            "src/autogrid/convertmap.cpp\n",
            "src/autogrid/copyfilesfromAD\n",
            "src/autogrid/distdepdiel.cpp\n",
            "src/autogrid/distdepdiel.h\n",
            "src/autogrid/gpfparser.cpp\n",
            "src/autogrid/gpftoken.h\n",
            "src/autogrid/gridmap.h\n",
            "src/autogrid/main.cpp\n",
            "src/autogrid/init_gridmap.cpp\n",
            "src/autogrid/makecheck\n",
            "src/autogrid/Tests/\n",
            "src/autogrid/Tests/AD4.1_bound.dat\n",
            "src/autogrid/Tests/hsg1.pdbqt\n",
            "src/autogrid/Tests/hsg1_sm.gpf\n",
            "src/autogrid/Tests/x1hpv.pdbqt\n",
            "src/autogrid/Tests/hsg1_no_receptor_types.gpf\n",
            "src/autogrid/Tests/hsg1_sm.pdbqt\n",
            "src/autogrid/Tests/hsg1_sm_minus_two_types.gpf\n",
            "src/autogrid/Tests/hsg1_sm_nbpcoeffs.gpf\n",
            "src/autogrid/Tests/hsg1_sm_nbpreps.gpf\n",
            "src/autogrid/Tests/hsg1_sm_nbpreps_illegal_atom.gpf\n",
            "src/autogrid/Tests/hsg1_sm_nbpreps_toofew.gpf\n",
            "src/autogrid/Tests/hsg1_sm_no_parameter_file.gpf\n",
            "src/autogrid/Tests/py_hsg1_sm.A.map\n",
            "src/autogrid/Tests/py_hsg1_sm.C.map\n",
            "src/autogrid/Tests/py_hsg1_sm.HD.map\n",
            "src/autogrid/Tests/py_hsg1_sm.N.map\n",
            "src/autogrid/Tests/py_hsg1_sm.NA.map\n",
            "src/autogrid/Tests/py_hsg1_sm.OA.map\n",
            "src/autogrid/Tests/py_hsg1_sm.d.map\n",
            "src/autogrid/Tests/py_hsg1_sm.e.map\n",
            "src/autogrid/Tests/test_autogrid4.py\n",
            "src/autogrid/Tests/write_python_maps.py\n",
            "src/autogrid/Tests/x1hpv_CASE0.gpf\n",
            "src/autogrid/Tests/x1hpv_CASE1.gpf\n",
            "src/autogrid/Tests/x1hpv_CASE2.gpf\n",
            "src/autogrid/Tests/x1hpv_CASE3.gpf\n",
            "src/autogrid/parm.h\n",
            "src/autogrid/parsetypes.cpp\n",
            "src/autogrid/prHMSfixed.cpp\n",
            "src/autogrid/prototypes.h\n",
            "src/autogrid/setflags.cpp\n",
            "src/autogrid/strindex.cpp\n",
            "src/autogrid/times.h\n",
            "src/autogrid/typedefs.h\n",
            "src/autogrid/util.cpp\n",
            "src/autogrid/util.h\n",
            "src/autogrid/aclocal.m4\n",
            "src/autogrid/configure\n",
            "src/autogrid/config.guess\n",
            "src/autogrid/config.sub\n",
            "src/autogrid/install-sh\n",
            "src/autogrid/missing\n",
            "src/autogrid/depcomp\n",
            "src/autogrid/Makefile.in\n"
          ]
        }
      ],
      "source": [
        "!wget https://autodock.scripps.edu/wp-content/uploads/sites/56/2021/10/autodocksuite-4.2.6-src.tar.gz\n",
        "!tar xvf autodocksuite-4.2.6-src.tar.gz"
      ]
    },
    {
      "cell_type": "code",
      "source": [
        "%cd /content/src/autogrid\n",
        "%ls"
      ],
      "metadata": {
        "colab": {
          "base_uri": "https://localhost:8080/"
        },
        "id": "5czwpCbpDo8n",
        "outputId": "69b9578d-9ec1-4fff-d661-b9ccfb384075"
      },
      "execution_count": 32,
      "outputs": [
        {
          "output_type": "stream",
          "name": "stdout",
          "text": [
            "/content/src/autogrid\n",
            "aclocal.m4                          gpftoken.h\n",
            "atom_parameter_manager.cpp          grid.h\n",
            "atom_parameter_manager.h            gridmap.h\n",
            "AUTHORS                             init_gridmap.cpp\n",
            "\u001b[0m\u001b[01;32mautogrid4\u001b[0m*                          INSTALL\n",
            "autogrid4-atom_parameter_manager.o  \u001b[01;32minstall-sh\u001b[0m*\n",
            "autogrid4-banner.o                  main.cpp\n",
            "autogrid4-calc_vina_potential.o     makecheck\n",
            "autogrid4-check_size.o              Makefile\n",
            "autogrid4-distdepdiel.o             Makefile.am\n",
            "autogrid4-gpfparser.o               Makefile.in\n",
            "autogrid4-main.o                    mingw_getrusage.cpp\n",
            "autogrid4-mingw_getrusage.o         mingw_sysconf.h\n",
            "autogrid4-parse_param_line.o        mingw_sys_times.h\n",
            "autogrid4-parsetypes.o              missing\n",
            "autogrid4-prHMSfixed.o              parameters.h\n",
            "autogrid4-printdate.o               parm.h\n",
            "autogrid4-printhms.o                parse_param_line.cpp\n",
            "autogrid4-read_parameter_library.o  parse_param_line.h\n",
            "autogrid4-setflags.o                parsetypes.cpp\n",
            "autogrid4-stop.o                    prHMSfixed.cpp\n",
            "autogrid4-strindex.o                printdate.cpp\n",
            "autogrid4-timesyshms.o              printdate.h\n",
            "autogrid4-timesys.o                 printhms.cpp\n",
            "autogrid.h                          printhms.h\n",
            "banner.cpp                          prototypes.h\n",
            "calc_vina_potential.cpp             README\n",
            "calc_vina_potential.h               read_parameter_library.cpp\n",
            "check_size.cpp                      read_parameter_library.h\n",
            "config.guess                        setflags.cpp\n",
            "config.log                          stop.cpp\n",
            "\u001b[01;32mconfig.status\u001b[0m*                      stop.h\n",
            "config.sub                          strindex.cpp\n",
            "\u001b[01;32mconfigure\u001b[0m*                          \u001b[34;42mTestruns\u001b[0m/\n",
            "\u001b[01;32mconfigure.ac\u001b[0m*                       \u001b[34;42mTests\u001b[0m/\n",
            "\u001b[01;32mconfigure-universalDarwin\u001b[0m*          times.h\n",
            "convertmap.cpp                      timesys.cpp\n",
            "copyfilesfromAD                     timesys.h\n",
            "COPYING                             timesyshms.cpp\n",
            "default_parameters.h                timesyshms.h\n",
            "depcomp                             \u001b[01;34mtmp\u001b[0m/\n",
            "distdepdiel.cpp                     typedefs.h\n",
            "distdepdiel.h                       util.cpp\n",
            "gpfparser.cpp                       util.h\n"
          ]
        }
      ]
    },
    {
      "cell_type": "code",
      "source": [
        "# We need csh to generate the default_parameters.h file, and \n",
        "# to copy over some source code from AutoDock 4:\n",
        "!apt-get install csh"
      ],
      "metadata": {
        "colab": {
          "base_uri": "https://localhost:8080/"
        },
        "id": "ylCewpDqFUvY",
        "outputId": "fe387814-ac7c-42d0-dac3-575cbf29788c"
      },
      "execution_count": 3,
      "outputs": [
        {
          "output_type": "stream",
          "name": "stdout",
          "text": [
            "Reading package lists... Done\n",
            "Building dependency tree       \n",
            "Reading state information... Done\n",
            "The following package was automatically installed and is no longer required:\n",
            "  libnvidia-common-460\n",
            "Use 'apt autoremove' to remove it.\n",
            "The following NEW packages will be installed:\n",
            "  csh\n",
            "0 upgraded, 1 newly installed, 0 to remove and 49 not upgraded.\n",
            "Need to get 243 kB of archives.\n",
            "After this operation, 358 kB of additional disk space will be used.\n",
            "Get:1 http://archive.ubuntu.com/ubuntu bionic-updates/universe amd64 csh amd64 20110502-3ubuntu0.18.04.1 [243 kB]\n",
            "Fetched 243 kB in 0s (844 kB/s)\n",
            "Selecting previously unselected package csh.\n",
            "(Reading database ... 155639 files and directories currently installed.)\n",
            "Preparing to unpack .../csh_20110502-3ubuntu0.18.04.1_amd64.deb ...\n",
            "Unpacking csh (20110502-3ubuntu0.18.04.1) ...\n",
            "Setting up csh (20110502-3ubuntu0.18.04.1) ...\n",
            "update-alternatives: using /bin/bsd-csh to provide /bin/csh (csh) in auto mode\n",
            "Processing triggers for man-db (2.8.3-2ubuntu0.1) ...\n"
          ]
        }
      ]
    },
    {
      "cell_type": "code",
      "source": [
        "# Now configure the platform-specific Makefile:\n",
        "!./configure"
      ],
      "metadata": {
        "colab": {
          "base_uri": "https://localhost:8080/"
        },
        "id": "UjBbZiX-Dqyd",
        "outputId": "19745322-e700-4b86-84b5-ab62159687b2"
      },
      "execution_count": 33,
      "outputs": [
        {
          "output_type": "stream",
          "name": "stdout",
          "text": [
            "checking for a BSD-compatible install... /usr/bin/install -c\n",
            "checking whether build environment is sane... yes\n",
            "checking for a thread-safe mkdir -p... /bin/mkdir -p\n",
            "checking for gawk... no\n",
            "checking for mawk... mawk\n",
            "checking whether make sets $(MAKE)... yes\n",
            "checking for g++... g++\n",
            "checking whether the C++ compiler works... yes\n",
            "checking for C++ compiler default output file name... a.out\n",
            "checking for suffix of executables... \n",
            "checking whether we are cross compiling... no\n",
            "checking for suffix of object files... o\n",
            "checking whether we are using the GNU C++ compiler... yes\n",
            "checking whether g++ accepts -g... yes\n",
            "checking for style of include used by make... GNU\n",
            "checking dependency style of g++... gcc3\n",
            "checking build system type... x86_64-unknown-linux-gnu\n",
            "checking host system type... x86_64-unknown-linux-gnu\n",
            "checking for gcc... gcc\n",
            "checking whether we are using the GNU C compiler... yes\n",
            "checking whether gcc accepts -g... yes\n",
            "checking for gcc option to accept ISO C89... none needed\n",
            "checking dependency style of gcc... gcc3\n",
            "checking for sqrt in -lm... yes\n",
            "checking how to run the C preprocessor... gcc -E\n",
            "checking for grep that handles long lines and -e... /bin/grep\n",
            "checking for egrep... /bin/grep -E\n",
            "checking for ANSI C header files... yes\n",
            "checking for sys/types.h... yes\n",
            "checking for sys/stat.h... yes\n",
            "checking for stdlib.h... yes\n",
            "checking for string.h... yes\n",
            "checking for memory.h... yes\n",
            "checking for strings.h... yes\n",
            "checking for inttypes.h... yes\n",
            "checking for stdint.h... yes\n",
            "checking for unistd.h... yes\n",
            "checking for stdbool.h that conforms to C99... yes\n",
            "checking for _Bool... yes\n",
            "checking for an ANSI C-conforming const... yes\n",
            "checking whether struct tm is in sys/time.h or time.h... time.h\n",
            "checking for stdlib.h... (cached) yes\n",
            "checking for GNU libc compatible malloc... yes\n",
            "checking for gethostname... yes\n",
            "checking for getpid... yes\n",
            "checking for GetProcessId... no\n",
            "checking for fchmod... yes\n",
            "checking for setlinebuf... yes\n",
            "checking for sysconf... yes\n",
            "checking for times... yes\n",
            "checking for getrusage... yes\n",
            "checking for pow... yes\n",
            "checking for sqrt... yes\n",
            "checking for strncasecmp... yes\n",
            "checking that generated files are newer than configure... done\n",
            "configure: creating ./config.status\n",
            "config.status: creating Makefile\n",
            "config.status: executing depfiles commands\n"
          ]
        }
      ]
    },
    {
      "cell_type": "code",
      "source": [
        "# For some reason, we have to explicitly copy over files from AutoDock 4 source:\n",
        "!sh copyfilesfromAD"
      ],
      "metadata": {
        "id": "96nG_P7UHS7k"
      },
      "execution_count": 34,
      "outputs": []
    },
    {
      "cell_type": "code",
      "source": [
        "# We also have to create the default_paramters.h file explicitly:\n",
        "!make default_parameters.h"
      ],
      "metadata": {
        "colab": {
          "base_uri": "https://localhost:8080/"
        },
        "id": "z-HdRAxfHze8",
        "outputId": "70bff6c6-e0a2-4b66-c53d-aadd343f20b9"
      },
      "execution_count": 35,
      "outputs": [
        {
          "output_type": "stream",
          "name": "stdout",
          "text": [
            "make: 'default_parameters.h' is up to date.\n"
          ]
        }
      ]
    },
    {
      "cell_type": "markdown",
      "source": [
        "## Edit the Makefile to use Python 2\n",
        "\n",
        "Note that the \"test\" target in the Makefile calls \"python\" but it assumes this is a Python 2-based interpreter!\n",
        "\n",
        "We need to edit the Makefile, replacing all calls to \"python\" by \"python2\"."
      ],
      "metadata": {
        "id": "SRnpV3qVN3zs"
      }
    },
    {
      "cell_type": "code",
      "source": [
        "!sed -i 's/python/python2/' Makefile"
      ],
      "metadata": {
        "id": "b-fSKoNfOjc9"
      },
      "execution_count": 37,
      "outputs": []
    },
    {
      "cell_type": "markdown",
      "source": [
        "## Make AutoGrid"
      ],
      "metadata": {
        "id": "ObXlXNiDPEI8"
      }
    },
    {
      "cell_type": "code",
      "source": [
        "!make test"
      ],
      "metadata": {
        "colab": {
          "base_uri": "https://localhost:8080/"
        },
        "id": "efYgi6rSHZgO",
        "outputId": "241c5725-c6d0-40d4-814e-b16f1f1e13d4"
      },
      "execution_count": 38,
      "outputs": [
        {
          "output_type": "stream",
          "name": "stdout",
          "text": [
            " \n",
            "Running the Python test_autogrid4.py unit-tests on autogrid4\n",
            " \n",
            "outputdir=`pwd` ;\\\n",
            "umask 0 ;\\\n",
            "test -d $outputdir/Testruns && chmod -fR a+w $outputdir/Testruns;\\\n",
            "test -d $outputdir/Testruns || mkdir $outputdir/Testruns ;\\\n",
            "cp ./Tests/AD4.1_bound.dat   $outputdir/Testruns;\\\n",
            "cp ./Tests/*.py   $outputdir/Testruns;\\\n",
            "cp ./Tests/*.gpf  $outputdir/Testruns;\\\n",
            "cp ./Tests/*.pdbqt  $outputdir/Testruns;\\\n",
            "cp ./Tests/*.map*  $outputdir/Testruns;\\\n",
            "chmod -fR a+w $outputdir/Testruns;\\\n",
            "cd $outputdir/Testruns;\\\n",
            "python2 ./test_autogrid4.py -d . -e ../autogrid4 -o .\n",
            "\n",
            "Running ../autogrid4 using GPF \"./hsg1_sm.gpf\", saving results in \"./hsg1_sm.glg\":\n",
            "........\n",
            "Running ../autogrid4 using GPF \"./hsg1_sm_no_parameter_file.gpf\", saving results in \"./hsg1_sm.glg\":\n",
            "........\n",
            "Running ../autogrid4 using GPF \"./hsg1_no_receptor_types.gpf\", saving results in \"./hsg1_sm.glg\":\n",
            "........\n",
            "Running ../autogrid4 using GPF \"./hsg1_no_receptor_types.gpf\", saving results in \"./hsg1_sm.glg\":\n",
            "........\n",
            "Running ../autogrid4 using GPF \"./x1hpv_CASE1.gpf\", saving results in \"./test_x1hpv_CASE1.glg\":\n",
            "\n",
            "../autogrid4: ERROR:  Not enough map keywords found.\n",
            "\n",
            "\n",
            "after call to run_AutoGrid\n",
            "Testing that GLG exists and AutoGrid did not complete.\n",
            ".\n",
            "Running ../autogrid4 using GPF \"./x1hpv_CASE2.gpf\", saving results in \"./test_x1hpv_CASE2.glg\":\n",
            "\n",
            "../autogrid4: ERROR:  No electrostatic map file defined.\n",
            "\n",
            "\n",
            "after call to run_AutoGrid\n",
            "Testing that GLG exists and AutoGrid did not complete.\n",
            ".\n",
            "Running ../autogrid4 using GPF \"./x1hpv_CASE3.gpf\", saving results in \"./test_x1hpv_CASE3.glg\":\n",
            "\n",
            "../autogrid4: ERROR:  No desolvation map file defined.\n",
            "\n",
            "\n",
            "after call to run_AutoGrid\n",
            "Testing that GLG exists and AutoGrid did not complete.\n",
            ".\n",
            "Running ../autogrid4 using GPF \"./x1hpv_CASE0.gpf\", saving results in \"./test_x1hpv_CASE0.glg\":\n",
            "after call to run_AutoGrid\n",
            "Testing that GLG exists and AutoGrid successfully completed.\n",
            ".\n",
            "Running ../autogrid4 using GPF \"./hsg1_sm_nbpreps.gpf\", saving results in \"./test_hsg1_sm_nbpreps.glg\":\n",
            "after call to run_AutoGrid\n",
            "Testing that GLG exists and AutoGrid successfully completed.\n",
            ".\n",
            "Running ../autogrid4 using GPF \"./hsg1_sm_nbpreps_illegal_atom.gpf\", saving results in \"./test_hsg1_sm_nbpreps_illegal_atom.glg\":\n",
            "after call to run_AutoGrid\n",
            "Testing that GLG exists and AutoGrid successfully completed.\n",
            ".\n",
            "Running ../autogrid4 using GPF \"./hsg1_sm_nbpreps_toofew.gpf\", saving results in \"./test_hsg1_sm_nbpreps_toofew.glg\":\n",
            "\n",
            "../autogrid4: ERROR:  syntax error, not 6 values in NBP_R_EPS line\n",
            "\n",
            "after call to run_AutoGrid\n",
            "Testing that GLG exists and AutoGrid did not complete.\n",
            ".\n",
            "Running ../autogrid4 using GPF \"./hsg1_sm_nbpcoeffs.gpf\", saving results in \"./test_hsg1_sm_nbpcoeffs.glg\":\n",
            "after call to run_AutoGrid\n",
            "Testing that GLG exists and AutoGrid successfully completed.\n",
            ".\n",
            "----------------------------------------------------------------------\n",
            "Ran 40 tests in 0.357s\n",
            "\n",
            "OK\n"
          ]
        }
      ]
    },
    {
      "cell_type": "code",
      "source": [
        "!./autogrid4 --version"
      ],
      "metadata": {
        "colab": {
          "base_uri": "https://localhost:8080/"
        },
        "id": "3zW1ksQkIqxF",
        "outputId": "10ffaa76-628e-4e29-e647-04bc6938a85d"
      },
      "execution_count": 39,
      "outputs": [
        {
          "output_type": "stream",
          "name": "stdout",
          "text": [
            "AutoGrid 4.2.6   \n",
            "compilation options:\n",
            "  Double-precision calculations (USE_DOUBLE):  yes\n",
            "  Non-bond cutoff for internal energy calculation (NBC): 8.00\n",
            "  Optimize internal energy scoring (USE_8A_NBCUTOFF):  yes\n",
            "  Maximum number of receptor atom types (NUM_RECEPTOR_TYPES): 20\n",
            "  Maximum number of atom types (MAX_ATOM_TYPES): 14\n",
            "  Maximum number of maps (MAX_MAPS): 16\n",
            "  Maximum dimension of map x, y, or z (MAX_GRID_PTS): 1025\n",
            "  Size of int 4, long 8, float 4, double 8, Real 8 bytes.\n",
            "\n",
            " Copyright (C) 2009 The Scripps Research Institute.\n",
            " License GPLv2+: GNU GPL version 2 or later <http://gnu.org/licenses/gpl.html>\n",
            " This is free software: you are free to change and redistribute it.\n",
            " There is NO WARRANTY, to the extent permitted by law.\n"
          ]
        }
      ]
    },
    {
      "cell_type": "code",
      "source": [
        "%ls -ls Tests"
      ],
      "metadata": {
        "id": "wzfiH5PkJdgN",
        "colab": {
          "base_uri": "https://localhost:8080/"
        },
        "outputId": "2fd1393c-1de2-4f42-988a-be0c9d9393dd"
      },
      "execution_count": 40,
      "outputs": [
        {
          "output_type": "stream",
          "name": "stdout",
          "text": [
            "total 412\n",
            "  8 -r--r--r-- 1 124 systemd-network   7003 Apr 24  2012 AD4.1_bound.dat\n",
            "  4 -r--r--r-- 1 124 systemd-network   1064 Jun 26  2008 hsg1_no_receptor_types.gpf\n",
            "144 -r--r--r-- 1 124 systemd-network 147416 May 28  2004 hsg1.pdbqt\n",
            "  4 -r--r--r-- 1 124 systemd-network   1122 Jun 26  2008 hsg1_sm.gpf\n",
            "  4 -r--r--r-- 1 124 systemd-network   1122 Jun 26  2008 hsg1_sm_minus_two_types.gpf\n",
            "  4 -r--r--r-- 1 124 systemd-network   1279 Oct  9  2013 hsg1_sm_nbpcoeffs.gpf\n",
            "  4 -r--r--r-- 1 124 systemd-network   1211 Oct  9  2013 hsg1_sm_nbpreps.gpf\n",
            "  4 -r--r--r-- 1 124 systemd-network   1181 Oct  9  2013 hsg1_sm_nbpreps_illegal_atom.gpf\n",
            "  4 -r--r--r-- 1 124 systemd-network   1182 Oct  9  2013 hsg1_sm_nbpreps_toofew.gpf\n",
            "  4 -r--r--r-- 1 124 systemd-network   1054 Jul 13  2006 hsg1_sm_no_parameter_file.gpf\n",
            " 12 -r--r--r-- 1 124 systemd-network  12132 Jul 19  2006 hsg1_sm.pdbqt\n",
            "  4 -r--r--r-- 1 124 systemd-network   1043 Jun 26  2008 py_hsg1_sm.A.map\n",
            "  4 -r--r--r-- 1 124 systemd-network   1043 Jun 26  2008 py_hsg1_sm.C.map\n",
            "  4 -r--r--r-- 1 124 systemd-network    918 Jun 26  2008 py_hsg1_sm.d.map\n",
            "  4 -r--r--r-- 1 124 systemd-network   1043 Jun 26  2008 py_hsg1_sm.e.map\n",
            "  4 -r--r--r-- 1 124 systemd-network    973 Jun 26  2008 py_hsg1_sm.HD.map\n",
            "  4 -r--r--r-- 1 124 systemd-network   1043 Jun 26  2008 py_hsg1_sm.NA.map\n",
            "  4 -r--r--r-- 1 124 systemd-network   1043 Jun 26  2008 py_hsg1_sm.N.map\n",
            "  4 -r--r--r-- 1 124 systemd-network   1043 Jun 26  2008 py_hsg1_sm.OA.map\n",
            " 16 -r--r--r-- 1 124 systemd-network  13691 Nov 14  2013 test_autogrid4.py\n",
            "  4 -r--r--r-- 1 124 systemd-network   1410 Sep 28  2005 write_python_maps.py\n",
            "  4 -r--r--r-- 1 124 systemd-network   1421 Mar 18  2009 x1hpv_CASE0.gpf\n",
            "  4 -r--r--r-- 1 124 systemd-network   1476 Mar 18  2009 x1hpv_CASE1.gpf\n",
            "  4 -r--r--r-- 1 124 systemd-network   1474 Mar 18  2009 x1hpv_CASE2.gpf\n",
            "  4 -r--r--r-- 1 124 systemd-network   1474 Mar 18  2009 x1hpv_CASE3.gpf\n",
            "148 -r--r--r-- 1 124 systemd-network 148020 Mar 18  2009 x1hpv.pdbqt\n"
          ]
        }
      ]
    },
    {
      "cell_type": "code",
      "source": [
        "!mkdir tmp"
      ],
      "metadata": {
        "id": "2ajsogVMOxZS",
        "outputId": "cae06fa2-a4d0-402d-8e27-2736554d7b93",
        "colab": {
          "base_uri": "https://localhost:8080/"
        }
      },
      "execution_count": 41,
      "outputs": [
        {
          "output_type": "stream",
          "name": "stdout",
          "text": [
            "mkdir: cannot create directory ‘tmp’: File exists\n"
          ]
        }
      ]
    },
    {
      "cell_type": "code",
      "source": [
        "!cp Tests/* tmp"
      ],
      "metadata": {
        "id": "TITfkvIRRgAi"
      },
      "execution_count": 12,
      "outputs": []
    },
    {
      "cell_type": "code",
      "source": [
        "%cd tmp"
      ],
      "metadata": {
        "colab": {
          "base_uri": "https://localhost:8080/"
        },
        "id": "KVivwfaBRkHD",
        "outputId": "b2a8bc4d-f2e0-4d3d-d488-02a0e5f67725"
      },
      "execution_count": 42,
      "outputs": [
        {
          "output_type": "stream",
          "name": "stdout",
          "text": [
            "/content/src/autogrid/tmp\n"
          ]
        }
      ]
    },
    {
      "cell_type": "code",
      "source": [
        "%ls"
      ],
      "metadata": {
        "colab": {
          "base_uri": "https://localhost:8080/"
        },
        "id": "LWmB3IspRlmQ",
        "outputId": "9fbab9dc-8f9b-4023-b57d-15d2ca531306"
      },
      "execution_count": 43,
      "outputs": [
        {
          "output_type": "stream",
          "name": "stdout",
          "text": [
            "AD4.1_bound.dat                   hsg1_sm.OA.map\n",
            "hsg1_no_receptor_types.gpf        hsg1_sm.pdbqt\n",
            "hsg1.pdbqt                        hsg_sm_gmm.glg\n",
            "hsg1_sm.A.map                     py_hsg1_sm.A.map\n",
            "hsg1_sm.C.map                     py_hsg1_sm.C.map\n",
            "hsg1_sm.d.map                     py_hsg1_sm.d.map\n",
            "hsg1_sm.e.map                     py_hsg1_sm.e.map\n",
            "hsg1_sm.gpf                       py_hsg1_sm.HD.map\n",
            "hsg1_sm.HD.map                    py_hsg1_sm.NA.map\n",
            "hsg1_sm.maps.fld                  py_hsg1_sm.N.map\n",
            "hsg1_sm.maps.xyz                  py_hsg1_sm.OA.map\n",
            "hsg1_sm_minus_two_types.gpf       test_autogrid4.py\n",
            "hsg1_sm.NA.map                    write_python_maps.py\n",
            "hsg1_sm_nbpcoeffs.gpf             x1hpv_CASE0.gpf\n",
            "hsg1_sm_nbpreps.gpf               x1hpv_CASE1.gpf\n",
            "hsg1_sm_nbpreps_illegal_atom.gpf  x1hpv_CASE2.gpf\n",
            "hsg1_sm_nbpreps_toofew.gpf        x1hpv_CASE3.gpf\n",
            "hsg1_sm.N.map                     x1hpv.pdbqt\n",
            "hsg1_sm_no_parameter_file.gpf\n"
          ]
        }
      ]
    },
    {
      "cell_type": "code",
      "source": [
        "!sed -i 's/npts 4 4 4/npts 2 4 6/' hsg1_sm.gpf\n",
        "!head hsg1_sm.gpf"
      ],
      "metadata": {
        "id": "FBcGEXHWUk0n",
        "outputId": "6f860635-d32c-4045-d833-82eabfe2debb",
        "colab": {
          "base_uri": "https://localhost:8080/"
        }
      },
      "execution_count": 51,
      "outputs": [
        {
          "output_type": "stream",
          "name": "stdout",
          "text": [
            "parameter_file AD4.1_bound.dat      # force field default parm file\n",
            "npts 2 4 6                          # num.grid points in xyz\n",
            "gridfld hsg1_sm.maps.fld            # grid_data_file\n",
            "spacing 0.375                       # spacing(A)\n",
            "receptor_types A C HD N NA OA SA    # receptor atom types\n",
            "ligand_types A C HD N NA OA         # ligand atom type\n",
            "receptor hsg1_sm.pdbqt              # macromolecule\n",
            "gridcenter 2.5 6.5 -7.5             # xyz-coordinates or auto\n",
            "smooth 0.5                          # store minimum energy w/in rad(A)\n",
            "map hsg1_sm.A.map                   # atom-specific affinity map\n"
          ]
        }
      ]
    },
    {
      "cell_type": "code",
      "source": [
        "!../autogrid4 -p hsg1_sm.gpf -l hsg_sm_gmm.glg"
      ],
      "metadata": {
        "id": "pcm8d50iRmiF"
      },
      "execution_count": 52,
      "outputs": []
    },
    {
      "cell_type": "code",
      "source": [
        "%ls -lstra"
      ],
      "metadata": {
        "colab": {
          "base_uri": "https://localhost:8080/"
        },
        "id": "NOPuCteCR1iI",
        "outputId": "0077f3ce-4421-477a-f4c5-2b8e64cf94e1"
      },
      "execution_count": 46,
      "outputs": [
        {
          "output_type": "stream",
          "name": "stdout",
          "text": [
            "total 536\n",
            "144 -r--r--r-- 1 root systemd-network 147416 Jun 30 19:45 hsg1.pdbqt\n",
            "  4 -r--r--r-- 1 root systemd-network   1064 Jun 30 19:45 hsg1_no_receptor_types.gpf\n",
            "  8 -r--r--r-- 1 root systemd-network   7003 Jun 30 19:45 AD4.1_bound.dat\n",
            "  4 -r--r--r-- 1 root systemd-network   1043 Jun 30 19:45 py_hsg1_sm.NA.map\n",
            "  4 -r--r--r-- 1 root systemd-network    973 Jun 30 19:45 py_hsg1_sm.HD.map\n",
            "  4 -r--r--r-- 1 root systemd-network   1043 Jun 30 19:45 py_hsg1_sm.e.map\n",
            "  4 -r--r--r-- 1 root systemd-network    918 Jun 30 19:45 py_hsg1_sm.d.map\n",
            "  4 -r--r--r-- 1 root systemd-network   1043 Jun 30 19:45 py_hsg1_sm.C.map\n",
            "  4 -r--r--r-- 1 root systemd-network   1043 Jun 30 19:45 py_hsg1_sm.A.map\n",
            " 12 -r--r--r-- 1 root systemd-network  12132 Jun 30 19:45 hsg1_sm.pdbqt\n",
            "  4 -r--r--r-- 1 root systemd-network   1054 Jun 30 19:45 hsg1_sm_no_parameter_file.gpf\n",
            "  4 -r--r--r-- 1 root systemd-network   1182 Jun 30 19:45 hsg1_sm_nbpreps_toofew.gpf\n",
            "  4 -r--r--r-- 1 root systemd-network   1181 Jun 30 19:45 hsg1_sm_nbpreps_illegal_atom.gpf\n",
            "  4 -r--r--r-- 1 root systemd-network   1211 Jun 30 19:45 hsg1_sm_nbpreps.gpf\n",
            "  4 -r--r--r-- 1 root systemd-network   1279 Jun 30 19:45 hsg1_sm_nbpcoeffs.gpf\n",
            "  4 -r--r--r-- 1 root systemd-network   1122 Jun 30 19:45 hsg1_sm_minus_two_types.gpf\n",
            "148 -r--r--r-- 1 root systemd-network 148020 Jun 30 19:45 x1hpv.pdbqt\n",
            "  4 -r--r--r-- 1 root systemd-network   1474 Jun 30 19:45 x1hpv_CASE3.gpf\n",
            "  4 -r--r--r-- 1 root systemd-network   1474 Jun 30 19:45 x1hpv_CASE2.gpf\n",
            "  4 -r--r--r-- 1 root systemd-network   1476 Jun 30 19:45 x1hpv_CASE1.gpf\n",
            "  4 -r--r--r-- 1 root systemd-network   1421 Jun 30 19:45 x1hpv_CASE0.gpf\n",
            "  4 -r--r--r-- 1 root systemd-network   1410 Jun 30 19:45 write_python_maps.py\n",
            " 16 -r--r--r-- 1 root systemd-network  13691 Jun 30 19:45 test_autogrid4.py\n",
            "  4 -r--r--r-- 1 root systemd-network   1043 Jun 30 19:45 py_hsg1_sm.OA.map\n",
            "  4 -r--r--r-- 1 root systemd-network   1043 Jun 30 19:45 py_hsg1_sm.N.map\n",
            "  4 drwxrwsrwx 6  124 systemd-network   4096 Jun 30 19:51 \u001b[0m\u001b[34;42m..\u001b[0m/\n",
            "  4 -r--r--r-- 1 root systemd-network   1122 Jun 30 19:53 hsg1_sm.gpf\n",
            "  4 drwxr-sr-x 2 root systemd-network   4096 Jun 30 19:53 \u001b[01;34m.\u001b[0m/\n",
            "  4 -rw-r--r-- 1 root systemd-network     38 Jun 30 19:53 hsg1_sm.maps.xyz\n",
            "  4 -rw-r--r-- 1 root systemd-network   1635 Jun 30 19:53 hsg1_sm.maps.fld\n",
            "  4 -rw-r--r-- 1 root systemd-network   1023 Jun 30 19:53 hsg1_sm.OA.map\n",
            "  4 -rw-r--r-- 1 root systemd-network   1023 Jun 30 19:53 hsg1_sm.N.map\n",
            "  4 -rw-r--r-- 1 root systemd-network   1023 Jun 30 19:53 hsg1_sm.NA.map\n",
            "  4 -rw-r--r-- 1 root systemd-network    953 Jun 30 19:53 hsg1_sm.HD.map\n",
            "  4 -rw-r--r-- 1 root systemd-network   1023 Jun 30 19:53 hsg1_sm.C.map\n",
            "  4 -rw-r--r-- 1 root systemd-network   1023 Jun 30 19:53 hsg1_sm.A.map\n",
            " 76 -rw-r--r-- 1 root systemd-network  77680 Jun 30 19:53 hsg_sm_gmm.glg\n",
            "  4 -rw-r--r-- 1 root systemd-network   1023 Jun 30 19:53 hsg1_sm.e.map\n",
            "  4 -rw-r--r-- 1 root systemd-network    898 Jun 30 19:53 hsg1_sm.d.map\n"
          ]
        }
      ]
    },
    {
      "cell_type": "markdown",
      "source": [
        "# Example Grid Map\n",
        "\n",
        "```\n",
        "ID_PARAMETER_FILE hsg1_sm.gpf\n",
        "GRID_DATA_FILE hsg1_sm.maps.fld\n",
        "MACROMOLECULE hsg1_sm.pdbqt\n",
        "SPACING 0.375\n",
        "NELEMENTS 2 4 6\n",
        "CENTER 2.500 6.500 -7.500\n",
        "-0.226\n",
        "-0.228\n",
        "-0.234\n",
        "-0.247\n",
        "-0.246\n",
        "-0.247\n",
        "-0.283\n",
        "-0.280\n",
        "```\n",
        "\n",
        "AutoDock uses readmap to read in AutoGrid maps; it loops over z, then y, then x fastest:\n",
        "\n",
        "```\n",
        "    for ( k = 0;  k < info->num_points1[Z];  k++) {\n",
        "        for ( j = 0;  j < info->num_points1[Y];  j++) {\n",
        "            for ( i = 0;  i < info->num_points1[X];  i++) {\n",
        "\t\t            float thisval;\n",
        "\t              if (fgets( map_line, LINE_LEN, map_file) == NULL) continue; // eof or error\n",
        "                if (B_charMap) {\n",
        "                    if (sscanf( map_line,  \"%c\",  &C_mapValue ) != 1) continue;\n",
        "\t\t                thisval=mapc2f(C_mapValue);\n",
        "                } else {\n",
        "                    if( sscanf( map_line,  \"%f\",  &thisval) != 1) continue;\n",
        "                }\n",
        "\t\t            SetMap(map,info,k,j,i,num_maps,thisval);\n",
        "\t\t            map_max = max( map_max, thisval );\n",
        "                map_min = min( map_min, thisval );\n",
        "                map_total += thisval;\n",
        "\t\t            nv++;\n",
        "            }\n",
        "        }\n",
        "    }\n",
        "\n",
        "```"
      ],
      "metadata": {
        "id": "PlDFQzVIn9j6"
      }
    },
    {
      "cell_type": "code",
      "source": [
        "with open('hsg1_sm.C.map', 'r') as f:\n",
        "  map = f.readlines()\n",
        "\n",
        "import pprint\n",
        "pprint.pprint(map[0:10])"
      ],
      "metadata": {
        "id": "D2EkcV3MUJqU",
        "outputId": "5434b4b2-97bb-44f2-e00a-aaee228f13ef",
        "colab": {
          "base_uri": "https://localhost:8080/"
        }
      },
      "execution_count": 56,
      "outputs": [
        {
          "output_type": "stream",
          "name": "stdout",
          "text": [
            "['GRID_PARAMETER_FILE hsg1_sm.gpf\\n',\n",
            " 'GRID_DATA_FILE hsg1_sm.maps.fld\\n',\n",
            " 'MACROMOLECULE hsg1_sm.pdbqt\\n',\n",
            " 'SPACING 0.375\\n',\n",
            " 'NELEMENTS 2 4 6\\n',\n",
            " 'CENTER 2.500 6.500 -7.500\\n',\n",
            " '-0.226\\n',\n",
            " '-0.228\\n',\n",
            " '-0.234\\n',\n",
            " '-0.247\\n']\n"
          ]
        }
      ]
    },
    {
      "cell_type": "code",
      "source": [
        "X,Y,Z = [int(n)+1 for n in map[4].split()[1:]]\n",
        "print(f'X={X} Y={Y}, Z={Z}')"
      ],
      "metadata": {
        "id": "XkT8BA65UkXA",
        "outputId": "fe7d1501-1436-40a9-fc61-8452319f0a98",
        "colab": {
          "base_uri": "https://localhost:8080/"
        }
      },
      "execution_count": 67,
      "outputs": [
        {
          "output_type": "stream",
          "name": "stdout",
          "text": [
            "X=3 Y=5, Z=7\n"
          ]
        }
      ]
    },
    {
      "cell_type": "code",
      "source": [
        "for k in range(Z):\n",
        "  for j in range(Y):\n",
        "    for i in range(X):\n",
        "      print(f'i={i}, j={j}, k={k}')"
      ],
      "metadata": {
        "id": "RzNxmM9_WVQJ",
        "outputId": "56f36e8c-f1fe-4dd4-d1f9-8fe9832ad2d1",
        "colab": {
          "base_uri": "https://localhost:8080/"
        }
      },
      "execution_count": 69,
      "outputs": [
        {
          "output_type": "stream",
          "name": "stdout",
          "text": [
            "i=0, j=0, k=0\n",
            "i=1, j=0, k=0\n",
            "i=2, j=0, k=0\n",
            "i=0, j=1, k=0\n",
            "i=1, j=1, k=0\n",
            "i=2, j=1, k=0\n",
            "i=0, j=2, k=0\n",
            "i=1, j=2, k=0\n",
            "i=2, j=2, k=0\n",
            "i=0, j=3, k=0\n",
            "i=1, j=3, k=0\n",
            "i=2, j=3, k=0\n",
            "i=0, j=4, k=0\n",
            "i=1, j=4, k=0\n",
            "i=2, j=4, k=0\n",
            "i=0, j=0, k=1\n",
            "i=1, j=0, k=1\n",
            "i=2, j=0, k=1\n",
            "i=0, j=1, k=1\n",
            "i=1, j=1, k=1\n",
            "i=2, j=1, k=1\n",
            "i=0, j=2, k=1\n",
            "i=1, j=2, k=1\n",
            "i=2, j=2, k=1\n",
            "i=0, j=3, k=1\n",
            "i=1, j=3, k=1\n",
            "i=2, j=3, k=1\n",
            "i=0, j=4, k=1\n",
            "i=1, j=4, k=1\n",
            "i=2, j=4, k=1\n",
            "i=0, j=0, k=2\n",
            "i=1, j=0, k=2\n",
            "i=2, j=0, k=2\n",
            "i=0, j=1, k=2\n",
            "i=1, j=1, k=2\n",
            "i=2, j=1, k=2\n",
            "i=0, j=2, k=2\n",
            "i=1, j=2, k=2\n",
            "i=2, j=2, k=2\n",
            "i=0, j=3, k=2\n",
            "i=1, j=3, k=2\n",
            "i=2, j=3, k=2\n",
            "i=0, j=4, k=2\n",
            "i=1, j=4, k=2\n",
            "i=2, j=4, k=2\n",
            "i=0, j=0, k=3\n",
            "i=1, j=0, k=3\n",
            "i=2, j=0, k=3\n",
            "i=0, j=1, k=3\n",
            "i=1, j=1, k=3\n",
            "i=2, j=1, k=3\n",
            "i=0, j=2, k=3\n",
            "i=1, j=2, k=3\n",
            "i=2, j=2, k=3\n",
            "i=0, j=3, k=3\n",
            "i=1, j=3, k=3\n",
            "i=2, j=3, k=3\n",
            "i=0, j=4, k=3\n",
            "i=1, j=4, k=3\n",
            "i=2, j=4, k=3\n",
            "i=0, j=0, k=4\n",
            "i=1, j=0, k=4\n",
            "i=2, j=0, k=4\n",
            "i=0, j=1, k=4\n",
            "i=1, j=1, k=4\n",
            "i=2, j=1, k=4\n",
            "i=0, j=2, k=4\n",
            "i=1, j=2, k=4\n",
            "i=2, j=2, k=4\n",
            "i=0, j=3, k=4\n",
            "i=1, j=3, k=4\n",
            "i=2, j=3, k=4\n",
            "i=0, j=4, k=4\n",
            "i=1, j=4, k=4\n",
            "i=2, j=4, k=4\n",
            "i=0, j=0, k=5\n",
            "i=1, j=0, k=5\n",
            "i=2, j=0, k=5\n",
            "i=0, j=1, k=5\n",
            "i=1, j=1, k=5\n",
            "i=2, j=1, k=5\n",
            "i=0, j=2, k=5\n",
            "i=1, j=2, k=5\n",
            "i=2, j=2, k=5\n",
            "i=0, j=3, k=5\n",
            "i=1, j=3, k=5\n",
            "i=2, j=3, k=5\n",
            "i=0, j=4, k=5\n",
            "i=1, j=4, k=5\n",
            "i=2, j=4, k=5\n",
            "i=0, j=0, k=6\n",
            "i=1, j=0, k=6\n",
            "i=2, j=0, k=6\n",
            "i=0, j=1, k=6\n",
            "i=1, j=1, k=6\n",
            "i=2, j=1, k=6\n",
            "i=0, j=2, k=6\n",
            "i=1, j=2, k=6\n",
            "i=2, j=2, k=6\n",
            "i=0, j=3, k=6\n",
            "i=1, j=3, k=6\n",
            "i=2, j=3, k=6\n",
            "i=0, j=4, k=6\n",
            "i=1, j=4, k=6\n",
            "i=2, j=4, k=6\n"
          ]
        }
      ]
    },
    {
      "cell_type": "code",
      "source": [
        "import numpy as np"
      ],
      "metadata": {
        "id": "FnkHZ-nvXTe9"
      },
      "execution_count": 70,
      "outputs": []
    },
    {
      "cell_type": "code",
      "source": [
        "values = np.array([float(v) for v in map[6:]]) # first 6 lines = header"
      ],
      "metadata": {
        "id": "pGF4OhsqYgAL"
      },
      "execution_count": 71,
      "outputs": []
    },
    {
      "cell_type": "code",
      "source": [
        "values"
      ],
      "metadata": {
        "id": "2yifJGXQdE2j",
        "outputId": "7da78afe-7f6f-42cd-bca4-dd566efe05e4",
        "colab": {
          "base_uri": "https://localhost:8080/"
        }
      },
      "execution_count": 72,
      "outputs": [
        {
          "output_type": "execute_result",
          "data": {
            "text/plain": [
              "array([-0.226, -0.228, -0.234, -0.247, -0.246, -0.247, -0.283, -0.28 ,\n",
              "       -0.274, -0.32 , -0.32 , -0.311, -0.358, -0.358, -0.351, -0.225,\n",
              "       -0.226, -0.229, -0.244, -0.247, -0.247, -0.285, -0.283, -0.279,\n",
              "       -0.328, -0.328, -0.318, -0.371, -0.368, -0.359, -0.224, -0.223,\n",
              "       -0.227, -0.243, -0.243, -0.245, -0.283, -0.286, -0.279, -0.333,\n",
              "       -0.33 , -0.322, -0.374, -0.373, -0.361, -0.221, -0.222, -0.227,\n",
              "       -0.238, -0.241, -0.244, -0.28 , -0.279, -0.274, -0.329, -0.328,\n",
              "       -0.319, -0.37 , -0.367, -0.359, -0.219, -0.22 , -0.228, -0.237,\n",
              "       -0.239, -0.241, -0.273, -0.275, -0.275, -0.32 , -0.318, -0.31 ,\n",
              "       -0.357, -0.355, -0.344, -0.215, -0.219, -0.226, -0.231, -0.233,\n",
              "       -0.24 , -0.265, -0.27 , -0.273, -0.305, -0.307, -0.299, -0.342,\n",
              "       -0.336, -0.328, -0.214, -0.217, -0.225, -0.227, -0.229, -0.24 ,\n",
              "       -0.252, -0.26 , -0.264, -0.29 , -0.293, -0.29 , -0.319, -0.315,\n",
              "       -0.314])"
            ]
          },
          "metadata": {},
          "execution_count": 72
        }
      ]
    },
    {
      "cell_type": "code",
      "source": [
        "print(values.shape)"
      ],
      "metadata": {
        "id": "aojGcc6TdXJj",
        "outputId": "55edcdf0-0650-464b-f5cf-d251b9876430",
        "colab": {
          "base_uri": "https://localhost:8080/"
        }
      },
      "execution_count": 73,
      "outputs": [
        {
          "output_type": "stream",
          "name": "stdout",
          "text": [
            "(105,)\n"
          ]
        }
      ]
    },
    {
      "cell_type": "code",
      "source": [
        "gridmap = values.reshape(Z, Y, X)\n",
        "print(gridmap.shape)\n",
        "print(gridmap)"
      ],
      "metadata": {
        "id": "J4Xzg4fNdwUU",
        "outputId": "331d577c-e330-4f86-e504-dd6c34a0a04a",
        "colab": {
          "base_uri": "https://localhost:8080/"
        }
      },
      "execution_count": 76,
      "outputs": [
        {
          "output_type": "stream",
          "name": "stdout",
          "text": [
            "(7, 5, 3)\n",
            "[[[-0.226 -0.228 -0.234]\n",
            "  [-0.247 -0.246 -0.247]\n",
            "  [-0.283 -0.28  -0.274]\n",
            "  [-0.32  -0.32  -0.311]\n",
            "  [-0.358 -0.358 -0.351]]\n",
            "\n",
            " [[-0.225 -0.226 -0.229]\n",
            "  [-0.244 -0.247 -0.247]\n",
            "  [-0.285 -0.283 -0.279]\n",
            "  [-0.328 -0.328 -0.318]\n",
            "  [-0.371 -0.368 -0.359]]\n",
            "\n",
            " [[-0.224 -0.223 -0.227]\n",
            "  [-0.243 -0.243 -0.245]\n",
            "  [-0.283 -0.286 -0.279]\n",
            "  [-0.333 -0.33  -0.322]\n",
            "  [-0.374 -0.373 -0.361]]\n",
            "\n",
            " [[-0.221 -0.222 -0.227]\n",
            "  [-0.238 -0.241 -0.244]\n",
            "  [-0.28  -0.279 -0.274]\n",
            "  [-0.329 -0.328 -0.319]\n",
            "  [-0.37  -0.367 -0.359]]\n",
            "\n",
            " [[-0.219 -0.22  -0.228]\n",
            "  [-0.237 -0.239 -0.241]\n",
            "  [-0.273 -0.275 -0.275]\n",
            "  [-0.32  -0.318 -0.31 ]\n",
            "  [-0.357 -0.355 -0.344]]\n",
            "\n",
            " [[-0.215 -0.219 -0.226]\n",
            "  [-0.231 -0.233 -0.24 ]\n",
            "  [-0.265 -0.27  -0.273]\n",
            "  [-0.305 -0.307 -0.299]\n",
            "  [-0.342 -0.336 -0.328]]\n",
            "\n",
            " [[-0.214 -0.217 -0.225]\n",
            "  [-0.227 -0.229 -0.24 ]\n",
            "  [-0.252 -0.26  -0.264]\n",
            "  [-0.29  -0.293 -0.29 ]\n",
            "  [-0.319 -0.315 -0.314]]]\n"
          ]
        }
      ]
    },
    {
      "cell_type": "code",
      "source": [
        "print(gridmap.shape)"
      ],
      "metadata": {
        "id": "PJe5q-SYhths",
        "outputId": "384f38cb-8157-491a-8778-9b6d69712a0c",
        "colab": {
          "base_uri": "https://localhost:8080/"
        }
      },
      "execution_count": 77,
      "outputs": [
        {
          "output_type": "stream",
          "name": "stdout",
          "text": [
            "(7, 5, 3)\n"
          ]
        }
      ]
    },
    {
      "cell_type": "code",
      "source": [
        "k=-1\n",
        "for sheet in gridmap:\n",
        "  k = k + 1\n",
        "  print(sheet)\n",
        "  j = -1\n",
        "  for row in sheet:\n",
        "    (print(row))\n",
        "    j = j + 1\n",
        "    i = -1\n",
        "    for value in row:\n",
        "      i = i + 1\n",
        "      print(i, j, k, value)"
      ],
      "metadata": {
        "id": "Q1p8pv-Uh1MW",
        "outputId": "12c4ac0e-afc6-4e95-e3d6-88041b59818a",
        "colab": {
          "base_uri": "https://localhost:8080/"
        }
      },
      "execution_count": 78,
      "outputs": [
        {
          "output_type": "stream",
          "name": "stdout",
          "text": [
            "[[-0.226 -0.228 -0.234]\n",
            " [-0.247 -0.246 -0.247]\n",
            " [-0.283 -0.28  -0.274]\n",
            " [-0.32  -0.32  -0.311]\n",
            " [-0.358 -0.358 -0.351]]\n",
            "[-0.226 -0.228 -0.234]\n",
            "0 0 0 -0.226\n",
            "1 0 0 -0.228\n",
            "2 0 0 -0.234\n",
            "[-0.247 -0.246 -0.247]\n",
            "0 1 0 -0.247\n",
            "1 1 0 -0.246\n",
            "2 1 0 -0.247\n",
            "[-0.283 -0.28  -0.274]\n",
            "0 2 0 -0.283\n",
            "1 2 0 -0.28\n",
            "2 2 0 -0.274\n",
            "[-0.32  -0.32  -0.311]\n",
            "0 3 0 -0.32\n",
            "1 3 0 -0.32\n",
            "2 3 0 -0.311\n",
            "[-0.358 -0.358 -0.351]\n",
            "0 4 0 -0.358\n",
            "1 4 0 -0.358\n",
            "2 4 0 -0.351\n",
            "[[-0.225 -0.226 -0.229]\n",
            " [-0.244 -0.247 -0.247]\n",
            " [-0.285 -0.283 -0.279]\n",
            " [-0.328 -0.328 -0.318]\n",
            " [-0.371 -0.368 -0.359]]\n",
            "[-0.225 -0.226 -0.229]\n",
            "0 0 1 -0.225\n",
            "1 0 1 -0.226\n",
            "2 0 1 -0.229\n",
            "[-0.244 -0.247 -0.247]\n",
            "0 1 1 -0.244\n",
            "1 1 1 -0.247\n",
            "2 1 1 -0.247\n",
            "[-0.285 -0.283 -0.279]\n",
            "0 2 1 -0.285\n",
            "1 2 1 -0.283\n",
            "2 2 1 -0.279\n",
            "[-0.328 -0.328 -0.318]\n",
            "0 3 1 -0.328\n",
            "1 3 1 -0.328\n",
            "2 3 1 -0.318\n",
            "[-0.371 -0.368 -0.359]\n",
            "0 4 1 -0.371\n",
            "1 4 1 -0.368\n",
            "2 4 1 -0.359\n",
            "[[-0.224 -0.223 -0.227]\n",
            " [-0.243 -0.243 -0.245]\n",
            " [-0.283 -0.286 -0.279]\n",
            " [-0.333 -0.33  -0.322]\n",
            " [-0.374 -0.373 -0.361]]\n",
            "[-0.224 -0.223 -0.227]\n",
            "0 0 2 -0.224\n",
            "1 0 2 -0.223\n",
            "2 0 2 -0.227\n",
            "[-0.243 -0.243 -0.245]\n",
            "0 1 2 -0.243\n",
            "1 1 2 -0.243\n",
            "2 1 2 -0.245\n",
            "[-0.283 -0.286 -0.279]\n",
            "0 2 2 -0.283\n",
            "1 2 2 -0.286\n",
            "2 2 2 -0.279\n",
            "[-0.333 -0.33  -0.322]\n",
            "0 3 2 -0.333\n",
            "1 3 2 -0.33\n",
            "2 3 2 -0.322\n",
            "[-0.374 -0.373 -0.361]\n",
            "0 4 2 -0.374\n",
            "1 4 2 -0.373\n",
            "2 4 2 -0.361\n",
            "[[-0.221 -0.222 -0.227]\n",
            " [-0.238 -0.241 -0.244]\n",
            " [-0.28  -0.279 -0.274]\n",
            " [-0.329 -0.328 -0.319]\n",
            " [-0.37  -0.367 -0.359]]\n",
            "[-0.221 -0.222 -0.227]\n",
            "0 0 3 -0.221\n",
            "1 0 3 -0.222\n",
            "2 0 3 -0.227\n",
            "[-0.238 -0.241 -0.244]\n",
            "0 1 3 -0.238\n",
            "1 1 3 -0.241\n",
            "2 1 3 -0.244\n",
            "[-0.28  -0.279 -0.274]\n",
            "0 2 3 -0.28\n",
            "1 2 3 -0.279\n",
            "2 2 3 -0.274\n",
            "[-0.329 -0.328 -0.319]\n",
            "0 3 3 -0.329\n",
            "1 3 3 -0.328\n",
            "2 3 3 -0.319\n",
            "[-0.37  -0.367 -0.359]\n",
            "0 4 3 -0.37\n",
            "1 4 3 -0.367\n",
            "2 4 3 -0.359\n",
            "[[-0.219 -0.22  -0.228]\n",
            " [-0.237 -0.239 -0.241]\n",
            " [-0.273 -0.275 -0.275]\n",
            " [-0.32  -0.318 -0.31 ]\n",
            " [-0.357 -0.355 -0.344]]\n",
            "[-0.219 -0.22  -0.228]\n",
            "0 0 4 -0.219\n",
            "1 0 4 -0.22\n",
            "2 0 4 -0.228\n",
            "[-0.237 -0.239 -0.241]\n",
            "0 1 4 -0.237\n",
            "1 1 4 -0.239\n",
            "2 1 4 -0.241\n",
            "[-0.273 -0.275 -0.275]\n",
            "0 2 4 -0.273\n",
            "1 2 4 -0.275\n",
            "2 2 4 -0.275\n",
            "[-0.32  -0.318 -0.31 ]\n",
            "0 3 4 -0.32\n",
            "1 3 4 -0.318\n",
            "2 3 4 -0.31\n",
            "[-0.357 -0.355 -0.344]\n",
            "0 4 4 -0.357\n",
            "1 4 4 -0.355\n",
            "2 4 4 -0.344\n",
            "[[-0.215 -0.219 -0.226]\n",
            " [-0.231 -0.233 -0.24 ]\n",
            " [-0.265 -0.27  -0.273]\n",
            " [-0.305 -0.307 -0.299]\n",
            " [-0.342 -0.336 -0.328]]\n",
            "[-0.215 -0.219 -0.226]\n",
            "0 0 5 -0.215\n",
            "1 0 5 -0.219\n",
            "2 0 5 -0.226\n",
            "[-0.231 -0.233 -0.24 ]\n",
            "0 1 5 -0.231\n",
            "1 1 5 -0.233\n",
            "2 1 5 -0.24\n",
            "[-0.265 -0.27  -0.273]\n",
            "0 2 5 -0.265\n",
            "1 2 5 -0.27\n",
            "2 2 5 -0.273\n",
            "[-0.305 -0.307 -0.299]\n",
            "0 3 5 -0.305\n",
            "1 3 5 -0.307\n",
            "2 3 5 -0.299\n",
            "[-0.342 -0.336 -0.328]\n",
            "0 4 5 -0.342\n",
            "1 4 5 -0.336\n",
            "2 4 5 -0.328\n",
            "[[-0.214 -0.217 -0.225]\n",
            " [-0.227 -0.229 -0.24 ]\n",
            " [-0.252 -0.26  -0.264]\n",
            " [-0.29  -0.293 -0.29 ]\n",
            " [-0.319 -0.315 -0.314]]\n",
            "[-0.214 -0.217 -0.225]\n",
            "0 0 6 -0.214\n",
            "1 0 6 -0.217\n",
            "2 0 6 -0.225\n",
            "[-0.227 -0.229 -0.24 ]\n",
            "0 1 6 -0.227\n",
            "1 1 6 -0.229\n",
            "2 1 6 -0.24\n",
            "[-0.252 -0.26  -0.264]\n",
            "0 2 6 -0.252\n",
            "1 2 6 -0.26\n",
            "2 2 6 -0.264\n",
            "[-0.29  -0.293 -0.29 ]\n",
            "0 3 6 -0.29\n",
            "1 3 6 -0.293\n",
            "2 3 6 -0.29\n",
            "[-0.319 -0.315 -0.314]\n",
            "0 4 6 -0.319\n",
            "1 4 6 -0.315\n",
            "2 4 6 -0.314\n"
          ]
        }
      ]
    },
    {
      "cell_type": "code",
      "source": [
        "print(gridmap[5][3][1]) # [z][y][x]"
      ],
      "metadata": {
        "id": "C_i7-1_QjM7t",
        "outputId": "4459566f-618c-44a1-bcfb-adf10e72debc",
        "colab": {
          "base_uri": "https://localhost:8080/"
        }
      },
      "execution_count": 79,
      "outputs": [
        {
          "output_type": "stream",
          "name": "stdout",
          "text": [
            "-0.307\n"
          ]
        }
      ]
    },
    {
      "cell_type": "markdown",
      "source": [
        "KD-trees: see: https://scikit-learn.org/stable/modules/generated/sklearn.neighbors.KDTree.html"
      ],
      "metadata": {
        "id": "3QZzzR9INIfa"
      }
    },
    {
      "cell_type": "code",
      "source": [
        "# Query for k-nearest neighbors\n",
        "\n",
        "from sklearn.neighbors import KDTree\n",
        "\n",
        "rng = np.random.RandomState(0)\n",
        "\n",
        "X = rng.random_sample((10, 3))  # 10 points in 3 dimensions\n",
        "\n",
        "tree = KDTree(X, leaf_size=2)              \n",
        "dist, ind = tree.query(X[:1], k=3)  \n",
        "             \n",
        "print(ind)  # indices of 3 closest neighbors\n",
        "print(dist)  # distances to 3 closest neighbors"
      ],
      "metadata": {
        "id": "NrdYlgLENUof",
        "outputId": "5c0ac362-6790-4267-b789-b38d1c3fa221",
        "colab": {
          "base_uri": "https://localhost:8080/"
        }
      },
      "execution_count": 86,
      "outputs": [
        {
          "output_type": "stream",
          "name": "stdout",
          "text": [
            "[[0 3 1]]\n",
            "[[0.         0.19662693 0.29473397]]\n"
          ]
        }
      ]
    },
    {
      "cell_type": "code",
      "source": [
        "# Query for neighbors within a given radius  \n",
        "print(tree.query_radius(X[:1], r=0.3, count_only=True))\n",
        "ind = tree.query_radius(X[:1], r=0.3)  \n",
        "print(ind)  # indices of neighbors within distance 0.3\n",
        "\n",
        "# Compute a gaussian kernel density estimate:\n",
        "X = rng.random_sample((100, 3))\n",
        "tree = KDTree(X)                \n",
        "tree.kernel_density(X[:3], h=0.1, kernel='gaussian')\n",
        "\n",
        "# Compute a two-point auto-correlation function\n",
        "X = rng.random_sample((30, 3))\n",
        "r = np.linspace(0, 1, 5)\n",
        "tree = KDTree(X)                \n",
        "tree.two_point_correlation(X, r)"
      ],
      "metadata": {
        "id": "LbGYR11qN9A-",
        "outputId": "d04d8f1c-975d-46d5-9d29-674cf472d130",
        "colab": {
          "base_uri": "https://localhost:8080/"
        }
      },
      "execution_count": 87,
      "outputs": [
        {
          "output_type": "stream",
          "name": "stdout",
          "text": [
            "[3]\n",
            "[array([3, 0, 1])]\n"
          ]
        },
        {
          "output_type": "execute_result",
          "data": {
            "text/plain": [
              "array([ 30,  68, 264, 568, 826])"
            ]
          },
          "metadata": {},
          "execution_count": 87
        }
      ]
    }
  ]
}